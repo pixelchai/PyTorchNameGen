{
 "cells": [
  {
   "cell_type": "code",
   "execution_count": 157,
   "id": "fea1effd",
   "metadata": {
    "id": "fea1effd"
   },
   "outputs": [],
   "source": [
    "import torch\n",
    "from torch import nn, optim\n",
    "import torch.nn.functional as F\n",
    "\n",
    "from torch.utils.data import Dataset, DataLoader\n",
    "\n",
    "import string\n",
    "import unicodedata\n",
    "from pathlib import Path\n",
    "import collections\n",
    "import itertools\n",
    "import math\n",
    "\n",
    "from IPython.display import clear_output\n",
    "from matplotlib import pyplot as plt\n",
    "%matplotlib inline"
   ]
  },
  {
   "cell_type": "code",
   "execution_count": 2,
   "id": "faa22642",
   "metadata": {
    "id": "faa22642"
   },
   "outputs": [],
   "source": [
    "device = torch.device('cuda' if torch.cuda.is_available() else 'cpu')"
   ]
  },
  {
   "cell_type": "markdown",
   "id": "a06a27b6",
   "metadata": {
    "id": "a06a27b6"
   },
   "source": [
    "# Loading Data"
   ]
  },
  {
   "cell_type": "code",
   "execution_count": 3,
   "id": "401699a8",
   "metadata": {
    "id": "401699a8"
   },
   "outputs": [],
   "source": [
    "# name data from: https://download.pytorch.org/tutorial/data.zip"
   ]
  },
  {
   "cell_type": "code",
   "execution_count": 4,
   "id": "iXNYEWStoP8l",
   "metadata": {
    "id": "iXNYEWStoP8l"
   },
   "outputs": [],
   "source": [
    "if not Path(\"names\").is_dir():\n",
    "  !curl \"https://download.pytorch.org/tutorial/data.zip\" -o \"data.zip\"\n",
    "  !unzip -j \"data.zip\" \"data/names/*\" -d \"names\""
   ]
  },
  {
   "cell_type": "code",
   "execution_count": 5,
   "id": "825785f4",
   "metadata": {
    "colab": {
     "base_uri": "https://localhost:8080/"
    },
    "id": "825785f4",
    "outputId": "b9f23a1c-b8d8-4d76-b929-a5e4e5e1041d"
   },
   "outputs": [
    {
     "name": "stdout",
     "output_type": "stream",
     "text": [
      "abcdefghijklmnopqrstuvwxyzABCDEFGHIJKLMNOPQRSTUVWXYZ .,;'-\n"
     ]
    }
   ],
   "source": [
    "all_chars = string.ascii_letters + \" .,;'-\"\n",
    "print(all_chars)"
   ]
  },
  {
   "cell_type": "code",
   "execution_count": 6,
   "id": "4238dc91",
   "metadata": {
    "id": "4238dc91"
   },
   "outputs": [],
   "source": [
    "def sanitise_line(line):\n",
    "    # https://stackoverflow.com/a/518232/5013267\n",
    "    return ''.join(\n",
    "        c for c in unicodedata.normalize('NFD', line)\n",
    "        if unicodedata.category(c) != 'Mn'\n",
    "        and c in all_chars\n",
    "    )"
   ]
  },
  {
   "cell_type": "code",
   "execution_count": 7,
   "id": "6d017916",
   "metadata": {
    "colab": {
     "base_uri": "https://localhost:8080/"
    },
    "id": "6d017916",
    "outputId": "8508ace7-502f-43f8-cba7-78b20de409d8"
   },
   "outputs": [
    {
     "name": "stdout",
     "output_type": "stream",
     "text": [
      "Loaded: names/Arabic.txt\n",
      "Loaded: names/Chinese.txt\n",
      "Loaded: names/Czech.txt\n",
      "Loaded: names/Dutch.txt\n",
      "Loaded: names/English.txt\n",
      "Loaded: names/French.txt\n",
      "Loaded: names/German.txt\n",
      "Loaded: names/Greek.txt\n",
      "Loaded: names/Irish.txt\n",
      "Loaded: names/Italian.txt\n",
      "Loaded: names/Japanese.txt\n",
      "Loaded: names/Korean.txt\n",
      "Loaded: names/Polish.txt\n",
      "Loaded: names/Portuguese.txt\n",
      "Loaded: names/Russian.txt\n",
      "Loaded: names/Scottish.txt\n",
      "Loaded: names/Spanish.txt\n",
      "Loaded: names/Vietnamese.txt\n"
     ]
    }
   ],
   "source": [
    "name_data = {}\n",
    "for path in Path(\"names\").rglob(\"*.txt\"):\n",
    "    with open(path, \"r\", encoding=\"utf8\") as f:\n",
    "        names = []\n",
    "        for line in f.read().strip().split(\"\\n\"):\n",
    "            names.append(sanitise_line(line))\n",
    "        name_data[path.stem] = names\n",
    "    \n",
    "    print(f\"Loaded: {path}\")"
   ]
  },
  {
   "cell_type": "markdown",
   "id": "5444971a",
   "metadata": {
    "id": "5444971a"
   },
   "source": [
    "# Data Preparation Stuff"
   ]
  },
  {
   "cell_type": "code",
   "execution_count": 8,
   "id": "053a6dfe",
   "metadata": {
    "id": "053a6dfe"
   },
   "outputs": [],
   "source": [
    "class OneHotTranslator:\n",
    "    def __init__(self, elements):\n",
    "        self.elements = elements\n",
    "        self.n_elements = len(self.elements)\n",
    "        \n",
    "    def index_to_vec(self, index):\n",
    "        return F.one_hot(torch.tensor([index]), num_classes=self.n_elements)[0]\n",
    "    \n",
    "    def index_from_vec(self, vec):\n",
    "        return vec.argmax()\n",
    "    \n",
    "    def elm_to_vec(self, elm):\n",
    "        return self.index_to_vec(self.elements.index(elm))\n",
    "    \n",
    "    def elm_from_vec(self, vec):\n",
    "        return self.elements[int(self.index_from_vec(vec))]\n",
    "    \n",
    "    def __len__(self):\n",
    "        return self.n_elements\n",
    "    \n",
    "    def __getitem__(self, val):\n",
    "        if isinstance(val, int):\n",
    "            return self.index_to_vec(val)\n",
    "        else:\n",
    "            return self.elm_to_vec(val)"
   ]
  },
  {
   "cell_type": "code",
   "execution_count": 9,
   "id": "49ebe20e",
   "metadata": {
    "colab": {
     "base_uri": "https://localhost:8080/"
    },
    "id": "49ebe20e",
    "outputId": "01169263-122a-40bc-95be-4415882a7052"
   },
   "outputs": [
    {
     "name": "stdout",
     "output_type": "stream",
     "text": [
      "('Arabic', 'Chinese', 'Czech', 'Dutch', 'English', 'French', 'German', 'Greek', 'Irish', 'Italian', 'Japanese', 'Korean', 'Polish', 'Portuguese', 'Russian', 'Scottish', 'Spanish', 'Vietnamese')\n",
      "len: 18\n"
     ]
    }
   ],
   "source": [
    "category_translator = OneHotTranslator(tuple(name_data.keys()))\n",
    "print(category_translator.elements)\n",
    "print(\"len:\", len(category_translator))"
   ]
  },
  {
   "cell_type": "code",
   "execution_count": 10,
   "id": "8558c55e",
   "metadata": {
    "colab": {
     "base_uri": "https://localhost:8080/"
    },
    "id": "8558c55e",
    "outputId": "26f0e2d4-c740-42d4-9d2f-d51ae25b15ff"
   },
   "outputs": [
    {
     "name": "stdout",
     "output_type": "stream",
     "text": [
      "['<SOS>', '<EOS>', 'a', 'b', 'c', 'd', 'e', 'f', 'g', 'h', 'i', 'j', 'k', 'l', 'm', 'n', 'o', 'p', 'q', 'r', 's', 't', 'u', 'v', 'w', 'x', 'y', 'z', 'A', 'B', 'C', 'D', 'E', 'F', 'G', 'H', 'I', 'J', 'K', 'L', 'M', 'N', 'O', 'P', 'Q', 'R', 'S', 'T', 'U', 'V', 'W', 'X', 'Y', 'Z', ' ', '.', ',', ';', \"'\", '-']\n",
      "len: 60\n"
     ]
    }
   ],
   "source": [
    "char_translator = OneHotTranslator([\"<SOS>\", \"<EOS>\"] + list(all_chars))\n",
    "print(char_translator.elements)\n",
    "print(\"len:\", len(char_translator))"
   ]
  },
  {
   "cell_type": "code",
   "execution_count": 111,
   "id": "00ab33df",
   "metadata": {
    "id": "00ab33df"
   },
   "outputs": [],
   "source": [
    "# convenience functions\n",
    "def build_name(name, fixed_length):\n",
    "    \"\"\"\n",
    "    Build a list of one-hot encoded vectors representing the given name string\n",
    "    \"\"\"\n",
    "    ret = [char_translator.elm_to_vec(char) for char in ([\"<SOS>\"] + list(name) + [\"<EOS>\"])]\n",
    "    \n",
    "    while len(ret) < fixed_length:\n",
    "        ret.append(char_translator.elm_to_vec(\"<EOS>\"))\n",
    "    \n",
    "    return ret\n",
    "\n",
    "def unbuild_name(t_chars):\n",
    "    \"\"\"\n",
    "    Inverse of build_name\n",
    "    \"\"\"\n",
    "    return \"\".join([char_translator.elm_from_vec(vec) for vec in t_chars])\n",
    "\n",
    "def build_category(category):\n",
    "    \"\"\"\n",
    "    Build a one-hot encoded vector representing the given category string\n",
    "    \"\"\"\n",
    "    return category_translator.elm_to_vec(category)\n",
    "\n",
    "def unbuild_category(vec):\n",
    "    \"\"\"\n",
    "    Inverse of build_category\n",
    "    \"\"\"\n",
    "    return category_translator.elm_from_vec(vec)"
   ]
  },
  {
   "cell_type": "code",
   "execution_count": 112,
   "id": "f3d62eab",
   "metadata": {},
   "outputs": [],
   "source": [
    "# torch.stack(build_name(\"hi\", 10)).shape"
   ]
  },
  {
   "cell_type": "code",
   "execution_count": 119,
   "id": "03438995",
   "metadata": {
    "id": "03438995"
   },
   "outputs": [],
   "source": [
    "# simple Dataset class wrapper around the above variables\n",
    "class NamesDataset(Dataset):\n",
    "    def __init__(self, max_length):\n",
    "        self.max_length = max_length\n",
    "        self._data_pairs = [(cat, name) for cat in name_data for name in name_data[cat]]\n",
    "    \n",
    "    def __len__(self):\n",
    "        return len(self._data_pairs)\n",
    "    \n",
    "    def __getitem__(self, index):\n",
    "        cat, name = self._data_pairs[index]\n",
    "        return build_category(cat), build_name(name, self.max_length)"
   ]
  },
  {
   "cell_type": "markdown",
   "id": "f16ef4cc",
   "metadata": {
    "id": "f16ef4cc"
   },
   "source": [
    "# Neural"
   ]
  },
  {
   "cell_type": "code",
   "execution_count": 120,
   "id": "898e2caf",
   "metadata": {
    "id": "898e2caf"
   },
   "outputs": [],
   "source": [
    "class SeqModel(nn.Module):\n",
    "    def __init__(self, prime_size, input_size, hidden_size):\n",
    "        super().__init__()\n",
    "        self.prime_size = prime_size\n",
    "        self.input_size = input_size\n",
    "        self.hidden_size = hidden_size\n",
    "        \n",
    "        self.lstm = nn.LSTMCell(self.input_size + self.prime_size, self.hidden_size)\n",
    "        \n",
    "        # NB: output size = input size\n",
    "        self.fc = nn.Linear(self.hidden_size, self.input_size)\n",
    "        self.dropout = nn.Dropout(0.1)\n",
    "        self.lsoftmax = nn.LogSoftmax(dim=1)\n",
    "        \n",
    "    def forward(self, t_prime, t_input, t_hidden, t_cell):\n",
    "        # t_prime:     batches of vectors for the LSTM to be primed on\n",
    "        #              shape: (N, prime_size)\n",
    "        #\n",
    "        # t_input:     shape: (N, input_size)\n",
    "        #              t_input[0]: one-hot vector encoding of a character\n",
    "        #\n",
    "        # t_hidden:    shape: (N, hidden_size)\n",
    "        #\n",
    "        # t_cell:      shape: (N, hidden_size)\n",
    "        \n",
    "        # lstm_input:  t_prime and t_input concated together\n",
    "        #              shape: (N, prime_size + input_size)\n",
    "        lstm_input = torch.cat((t_prime, t_input), dim=1)\n",
    "        t_hidden, t_cell = self.lstm(lstm_input.float(), (t_hidden, t_cell))\n",
    "        \n",
    "        # t_output:    shape: (N, input_size)\n",
    "        #              NB: t_output's shape = t_input's shape\n",
    "        t_output = self.fc(self.dropout(t_hidden))\n",
    "        t_output = self.lsoftmax(t_output)\n",
    "        \n",
    "        return t_output, t_hidden, t_cell\n",
    "    \n",
    "    def init_hidden(self, batch_size=1):\n",
    "        t_hidden = torch.zeros(batch_size, self.hidden_size)\n",
    "        t_cell = torch.zeros(batch_size, self.hidden_size)\n",
    "        \n",
    "        return t_hidden, t_cell"
   ]
  },
  {
   "cell_type": "code",
   "execution_count": 121,
   "id": "49c87a9c",
   "metadata": {
    "colab": {
     "base_uri": "https://localhost:8080/"
    },
    "id": "49c87a9c",
    "outputId": "fe496820-31a1-4597-8a61-d5052c72eb8f"
   },
   "outputs": [
    {
     "data": {
      "text/plain": [
       "SeqModel(\n",
       "  (lstm): LSTMCell(78, 32)\n",
       "  (fc): Linear(in_features=32, out_features=60, bias=True)\n",
       "  (dropout): Dropout(p=0.1, inplace=False)\n",
       "  (lsoftmax): LogSoftmax(dim=1)\n",
       ")"
      ]
     },
     "execution_count": 121,
     "metadata": {},
     "output_type": "execute_result"
    }
   ],
   "source": [
    "model = SeqModel(len(category_translator), len(char_translator), 32)\n",
    "model.to(device)"
   ]
  },
  {
   "cell_type": "code",
   "execution_count": 274,
   "id": "a801687f",
   "metadata": {
    "id": "a801687f"
   },
   "outputs": [],
   "source": [
    "# test_category_index = 0\n",
    "\n",
    "# t_prime = category_translator[test_category_index].view(1, len(category_translator))\n",
    "# print(\"t_prime shape:\\t\", t_prime.shape)\n",
    "\n",
    "# t_input = char_translator[\"<SOS>\"].view(1, len(char_translator))\n",
    "# print(\"t_input shape:\\t\", t_input.shape)\n",
    "\n",
    "# t_hidden, t_cell = model.init_hidden(1)\n",
    "# print(\"t_hidden shape:\\t\", t_hidden.shape)\n",
    "# print(\"t_cell shape:\\t\", t_cell.shape)"
   ]
  },
  {
   "cell_type": "code",
   "execution_count": 275,
   "id": "e93534b0",
   "metadata": {
    "id": "e93534b0"
   },
   "outputs": [],
   "source": [
    "# t_output, t_hidden, t_cell = model.forward(t_prime, t_input, t_hidden, t_cell)\n",
    "# print(\"t_output shape:\\t\", t_output.shape)\n",
    "# print(\"t_hidden shape:\\t\", t_hidden.shape)\n",
    "# print(\"t_cell shape:\\t\", t_cell.shape)"
   ]
  },
  {
   "cell_type": "markdown",
   "id": "2fd89a54",
   "metadata": {
    "id": "2fd89a54"
   },
   "source": [
    "# Eval"
   ]
  },
  {
   "cell_type": "code",
   "execution_count": 280,
   "id": "c0ade28f",
   "metadata": {
    "colab": {
     "base_uri": "https://localhost:8080/",
     "height": 1000
    },
    "id": "c0ade28f",
    "outputId": "d1ee47bb-c548-4b81-9a6f-bb9a21850d80"
   },
   "outputs": [],
   "source": [
    "def generate(max_length, trial_category_name=\"German\", N=3):\n",
    "    with torch.no_grad():\n",
    "        t_prime = category_translator[trial_category_name].unsqueeze(0).repeat((N, 1)).to(device)\n",
    "        t_char = char_translator[\"<SOS>\"].unsqueeze(0).repeat((N, 1)).to(device)\n",
    "        t_hidden, t_cell = map(lambda x: x.to(device), model.init_hidden(N))\n",
    "\n",
    "        output_dict = collections.defaultdict(str)\n",
    "        for char_index in range(max_length):\n",
    "            t_output, t_hidden, t_cell = model(t_prime, t_char, t_hidden, t_cell)\n",
    "            \n",
    "            for n in range(N):\n",
    "                output_dict[n] += char_translator.elm_from_vec(t_output[n])\n",
    "        \n",
    "        return [output_dict[n] for n in range(N)]"
   ]
  },
  {
   "cell_type": "markdown",
   "id": "5df83805",
   "metadata": {
    "id": "5df83805"
   },
   "source": [
    "# Training"
   ]
  },
  {
   "cell_type": "code",
   "execution_count": 277,
   "id": "4758bea9",
   "metadata": {},
   "outputs": [
    {
     "name": "stdout",
     "output_type": "stream",
     "text": [
      "22\n"
     ]
    }
   ],
   "source": [
    "max_length = max([len(name) for name in itertools.chain(*name_data.values())]) + 2  # +2 for SOS and EOS\n",
    "print(max_length)"
   ]
  },
  {
   "cell_type": "code",
   "execution_count": 278,
   "id": "6fb56f45",
   "metadata": {},
   "outputs": [
    {
     "name": "stdout",
     "output_type": "stream",
     "text": [
      "20074\n"
     ]
    }
   ],
   "source": [
    "sample_count = len(tuple(itertools.chain(*name_data.values())))\n",
    "print(sample_count)"
   ]
  },
  {
   "cell_type": "code",
   "execution_count": 279,
   "id": "1c2a2119",
   "metadata": {
    "id": "1c2a2119"
   },
   "outputs": [],
   "source": [
    "# config\n",
    "num_epochs = 100\n",
    "num_batches = math.ceil(sample_count/batch_size) * num_epochs\n",
    "learning_rate = 0.0003\n",
    "plot_limit = None\n",
    "batch_size = 64"
   ]
  },
  {
   "cell_type": "code",
   "execution_count": 189,
   "id": "141937b6",
   "metadata": {
    "id": "141937b6"
   },
   "outputs": [],
   "source": [
    "train_dataloader = DataLoader(NamesDataset(max_length), batch_size=batch_size, shuffle=True, collate_fn=lambda x: x)"
   ]
  },
  {
   "cell_type": "code",
   "execution_count": 190,
   "id": "9fc9f091",
   "metadata": {},
   "outputs": [],
   "source": [
    "g = iter(train_dataloader)"
   ]
  },
  {
   "cell_type": "code",
   "execution_count": 191,
   "id": "ccb556ff",
   "metadata": {},
   "outputs": [],
   "source": [
    "batch = next(g)"
   ]
  },
  {
   "cell_type": "code",
   "execution_count": 192,
   "id": "0c52716b",
   "metadata": {},
   "outputs": [
    {
     "data": {
      "text/plain": [
       "torch.Size([64, 18])"
      ]
     },
     "execution_count": 192,
     "metadata": {},
     "output_type": "execute_result"
    }
   ],
   "source": [
    "t_prime = torch.stack([sample[0] for sample in batch])\n",
    "t_prime.shape"
   ]
  },
  {
   "cell_type": "code",
   "execution_count": 193,
   "id": "2d02247f",
   "metadata": {},
   "outputs": [
    {
     "name": "stdout",
     "output_type": "stream",
     "text": [
      "torch.Size([64, 32])\n"
     ]
    }
   ],
   "source": [
    "t_hidden, t_cell = model.init_hidden(64)\n",
    "print(t_hidden.shape)"
   ]
  },
  {
   "cell_type": "code",
   "execution_count": 204,
   "id": "1ac76b2e",
   "metadata": {},
   "outputs": [
    {
     "name": "stdout",
     "output_type": "stream",
     "text": [
      "char_index:  0\n",
      "torch.Size([64, 60])\n",
      "char_index:  1\n",
      "torch.Size([64, 60])\n",
      "char_index:  2\n",
      "torch.Size([64, 60])\n",
      "char_index:  3\n",
      "torch.Size([64, 60])\n",
      "char_index:  4\n",
      "torch.Size([64, 60])\n",
      "char_index:  5\n",
      "torch.Size([64, 60])\n",
      "char_index:  6\n",
      "torch.Size([64, 60])\n",
      "char_index:  7\n",
      "torch.Size([64, 60])\n",
      "char_index:  8\n",
      "torch.Size([64, 60])\n",
      "char_index:  9\n",
      "torch.Size([64, 60])\n",
      "char_index:  10\n",
      "torch.Size([64, 60])\n",
      "char_index:  11\n",
      "torch.Size([64, 60])\n",
      "char_index:  12\n",
      "torch.Size([64, 60])\n",
      "char_index:  13\n",
      "torch.Size([64, 60])\n",
      "char_index:  14\n",
      "torch.Size([64, 60])\n",
      "char_index:  15\n",
      "torch.Size([64, 60])\n",
      "char_index:  16\n",
      "torch.Size([64, 60])\n",
      "char_index:  17\n",
      "torch.Size([64, 60])\n",
      "char_index:  18\n",
      "torch.Size([64, 60])\n",
      "char_index:  19\n",
      "torch.Size([64, 60])\n",
      "char_index:  20\n",
      "torch.Size([64, 60])\n",
      "char_index:  21\n",
      "torch.Size([64, 60])\n"
     ]
    }
   ],
   "source": [
    "for char_index in range(max_length):\n",
    "    print(\"char_index: \", char_index)\n",
    "    t_char = torch.stack([sample[1][char_index] for sample in batch])\n",
    "    print(t_char.shape)"
   ]
  },
  {
   "cell_type": "code",
   "execution_count": 205,
   "id": "a0f17cce",
   "metadata": {
    "id": "a0f17cce"
   },
   "outputs": [],
   "source": [
    "losses = collections.deque(maxlen=plot_limit)"
   ]
  },
  {
   "cell_type": "code",
   "execution_count": 206,
   "id": "1d66e2d1",
   "metadata": {
    "id": "1d66e2d1"
   },
   "outputs": [],
   "source": [
    "criterion = nn.NLLLoss()\n",
    "optimiser = optim.Adam(model.parameters(), lr=learning_rate, weight_decay=0.01)\n",
    "# optimiser = optim.SGD(model.parameters(), lr=learning_rate, momentum=0.9)"
   ]
  },
  {
   "cell_type": "code",
   "execution_count": 207,
   "id": "c6f4dcd6",
   "metadata": {},
   "outputs": [
    {
     "data": {
      "text/plain": [
       "torch.Size([64, 60])"
      ]
     },
     "execution_count": 207,
     "metadata": {},
     "output_type": "execute_result"
    }
   ],
   "source": [
    "t_char.shape"
   ]
  },
  {
   "cell_type": "code",
   "execution_count": 208,
   "id": "6d5e1bdd",
   "metadata": {},
   "outputs": [],
   "source": [
    "t_output, t_hidden, t_cell = model(t_prime, t_char, t_hidden, t_cell)"
   ]
  },
  {
   "cell_type": "code",
   "execution_count": 209,
   "id": "40072e29",
   "metadata": {},
   "outputs": [
    {
     "data": {
      "text/plain": [
       "torch.Size([64, 60])"
      ]
     },
     "execution_count": 209,
     "metadata": {},
     "output_type": "execute_result"
    }
   ],
   "source": [
    "t_output.shape"
   ]
  },
  {
   "cell_type": "code",
   "execution_count": 210,
   "id": "cfe06ed5",
   "metadata": {},
   "outputs": [],
   "source": [
    "batch = next(g)"
   ]
  },
  {
   "cell_type": "code",
   "execution_count": 286,
   "id": "25233885",
   "metadata": {},
   "outputs": [
    {
     "data": {
      "text/plain": [
       "42"
      ]
     },
     "execution_count": 286,
     "metadata": {},
     "output_type": "execute_result"
    }
   ],
   "source": [
    "torch.stack([sample[0] for sample in batch]).to(device).size(0)"
   ]
  },
  {
   "cell_type": "code",
   "execution_count": 289,
   "id": "046cdd49",
   "metadata": {},
   "outputs": [
    {
     "ename": "KeyboardInterrupt",
     "evalue": "",
     "output_type": "error",
     "traceback": [
      "\u001b[0;31m---------------------------------------------------------------------------\u001b[0m",
      "\u001b[0;31mKeyboardInterrupt\u001b[0m                         Traceback (most recent call last)",
      "\u001b[0;32m<ipython-input-289-5019b22e92bb>\u001b[0m in \u001b[0;36m<module>\u001b[0;34m\u001b[0m\n\u001b[1;32m     12\u001b[0m         \u001b[0mloss\u001b[0m \u001b[0;34m+=\u001b[0m \u001b[0mcriterion\u001b[0m\u001b[0;34m(\u001b[0m\u001b[0mt_output\u001b[0m\u001b[0;34m,\u001b[0m \u001b[0mt_target\u001b[0m\u001b[0;34m)\u001b[0m\u001b[0;34m\u001b[0m\u001b[0;34m\u001b[0m\u001b[0m\n\u001b[1;32m     13\u001b[0m \u001b[0;34m\u001b[0m\u001b[0m\n\u001b[0;32m---> 14\u001b[0;31m     \u001b[0mloss\u001b[0m\u001b[0;34m.\u001b[0m\u001b[0mbackward\u001b[0m\u001b[0;34m(\u001b[0m\u001b[0;34m)\u001b[0m\u001b[0;34m\u001b[0m\u001b[0;34m\u001b[0m\u001b[0m\n\u001b[0m\u001b[1;32m     15\u001b[0m     \u001b[0moptimiser\u001b[0m\u001b[0;34m.\u001b[0m\u001b[0mstep\u001b[0m\u001b[0;34m(\u001b[0m\u001b[0;34m)\u001b[0m\u001b[0;34m\u001b[0m\u001b[0;34m\u001b[0m\u001b[0m\n\u001b[1;32m     16\u001b[0m \u001b[0;34m\u001b[0m\u001b[0m\n",
      "\u001b[0;32m~/.local/lib/python3.9/site-packages/torch/tensor.py\u001b[0m in \u001b[0;36mbackward\u001b[0;34m(self, gradient, retain_graph, create_graph, inputs)\u001b[0m\n\u001b[1;32m    243\u001b[0m                 \u001b[0mcreate_graph\u001b[0m\u001b[0;34m=\u001b[0m\u001b[0mcreate_graph\u001b[0m\u001b[0;34m,\u001b[0m\u001b[0;34m\u001b[0m\u001b[0;34m\u001b[0m\u001b[0m\n\u001b[1;32m    244\u001b[0m                 inputs=inputs)\n\u001b[0;32m--> 245\u001b[0;31m         \u001b[0mtorch\u001b[0m\u001b[0;34m.\u001b[0m\u001b[0mautograd\u001b[0m\u001b[0;34m.\u001b[0m\u001b[0mbackward\u001b[0m\u001b[0;34m(\u001b[0m\u001b[0mself\u001b[0m\u001b[0;34m,\u001b[0m \u001b[0mgradient\u001b[0m\u001b[0;34m,\u001b[0m \u001b[0mretain_graph\u001b[0m\u001b[0;34m,\u001b[0m \u001b[0mcreate_graph\u001b[0m\u001b[0;34m,\u001b[0m \u001b[0minputs\u001b[0m\u001b[0;34m=\u001b[0m\u001b[0minputs\u001b[0m\u001b[0;34m)\u001b[0m\u001b[0;34m\u001b[0m\u001b[0;34m\u001b[0m\u001b[0m\n\u001b[0m\u001b[1;32m    246\u001b[0m \u001b[0;34m\u001b[0m\u001b[0m\n\u001b[1;32m    247\u001b[0m     \u001b[0;32mdef\u001b[0m \u001b[0mregister_hook\u001b[0m\u001b[0;34m(\u001b[0m\u001b[0mself\u001b[0m\u001b[0;34m,\u001b[0m \u001b[0mhook\u001b[0m\u001b[0;34m)\u001b[0m\u001b[0;34m:\u001b[0m\u001b[0;34m\u001b[0m\u001b[0;34m\u001b[0m\u001b[0m\n",
      "\u001b[0;32m~/.local/lib/python3.9/site-packages/torch/autograd/__init__.py\u001b[0m in \u001b[0;36mbackward\u001b[0;34m(tensors, grad_tensors, retain_graph, create_graph, grad_variables, inputs)\u001b[0m\n\u001b[1;32m    143\u001b[0m         \u001b[0mretain_graph\u001b[0m \u001b[0;34m=\u001b[0m \u001b[0mcreate_graph\u001b[0m\u001b[0;34m\u001b[0m\u001b[0;34m\u001b[0m\u001b[0m\n\u001b[1;32m    144\u001b[0m \u001b[0;34m\u001b[0m\u001b[0m\n\u001b[0;32m--> 145\u001b[0;31m     Variable._execution_engine.run_backward(\n\u001b[0m\u001b[1;32m    146\u001b[0m         \u001b[0mtensors\u001b[0m\u001b[0;34m,\u001b[0m \u001b[0mgrad_tensors_\u001b[0m\u001b[0;34m,\u001b[0m \u001b[0mretain_graph\u001b[0m\u001b[0;34m,\u001b[0m \u001b[0mcreate_graph\u001b[0m\u001b[0;34m,\u001b[0m \u001b[0minputs\u001b[0m\u001b[0;34m,\u001b[0m\u001b[0;34m\u001b[0m\u001b[0;34m\u001b[0m\u001b[0m\n\u001b[1;32m    147\u001b[0m         allow_unreachable=True, accumulate_grad=True)  # allow_unreachable flag\n",
      "\u001b[0;31mKeyboardInterrupt\u001b[0m: "
     ]
    }
   ],
   "source": [
    "for batch_no, batch in enumerate(train_dataloader):\n",
    "    t_prime = torch.stack([sample[0] for sample in batch]).to(device)\n",
    "    t_hidden, t_cell = map(lambda x: x.to(device), model.init_hidden(t_prime.size(0)))\n",
    "    \n",
    "    model.zero_grad()\n",
    "    loss = 0\n",
    "    for char_index in range(max_length - 1):\n",
    "        t_char = torch.stack([sample[1][char_index] for sample in batch]).to(device)\n",
    "        t_output, t_hidden, t_cell = model(t_prime, t_char, t_hidden, t_cell)\n",
    "        \n",
    "        t_target = torch.stack([sample[1][char_index + 1].argmax() for sample in batch]).to(device)\n",
    "        loss += criterion(t_output, t_target)\n",
    "    \n",
    "    loss.backward()\n",
    "    optimiser.step()\n",
    "    \n",
    "    name_loss = loss.item() / (len(name) - 1)\n",
    "    losses.append(name_loss)\n",
    "    \n",
    "    if batch_no + 1 >= num_batches:\n",
    "        break\n",
    "    plt.figure()\n",
    "    plt.plot(losses, scalex=True)\n",
    "    plt.title(\"Loss\")\n",
    "    plt.grid(True)\n",
    "    plt.show()\n",
    "    \n",
    "    print(\"batch_no: {} epoch: {} loss: {:.06f}\\n{}\".format(\n",
    "        batch_no, \n",
    "        batch_no*batch_size//sample_count, \n",
    "        name_loss,\n",
    "        \"\\n\".join(generate(max_length))\n",
    "    ))\n",
    "    clear_output(wait=True)\n",
    "        "
   ]
  },
  {
   "cell_type": "markdown",
   "id": "5737895c",
   "metadata": {
    "id": "GYlp2s15w8e-"
   },
   "source": [
    "# Post-Training Eval"
   ]
  },
  {
   "cell_type": "code",
   "execution_count": 291,
   "id": "035019ae",
   "metadata": {},
   "outputs": [
    {
     "data": {
      "text/plain": [
       "['aaaaaa<EOS><EOS><EOS><EOS><EOS><EOS><EOS><EOS><EOS><EOS><EOS><EOS><EOS><EOS><EOS><EOS>',\n",
       " 'aaaaaa<EOS><EOS><EOS><EOS><EOS><EOS><EOS><EOS><EOS><EOS><EOS><EOS><EOS><EOS><EOS><EOS>',\n",
       " 'aaaaaa<EOS><EOS><EOS><EOS><EOS><EOS><EOS><EOS><EOS><EOS><EOS><EOS><EOS><EOS><EOS><EOS>']"
      ]
     },
     "execution_count": 291,
     "metadata": {},
     "output_type": "execute_result"
    }
   ],
   "source": [
    "generate(max_length)"
   ]
  },
  {
   "cell_type": "code",
   "execution_count": null,
   "id": "cfd27b76",
   "metadata": {},
   "outputs": [],
   "source": []
  }
 ],
 "metadata": {
  "accelerator": "GPU",
  "colab": {
   "collapsed_sections": [],
   "name": "namegen.ipynb",
   "provenance": []
  },
  "kernelspec": {
   "display_name": "Python 3",
   "language": "python",
   "name": "python3"
  },
  "language_info": {
   "codemirror_mode": {
    "name": "ipython",
    "version": 3
   },
   "file_extension": ".py",
   "mimetype": "text/x-python",
   "name": "python",
   "nbconvert_exporter": "python",
   "pygments_lexer": "ipython3",
   "version": "3.9.5"
  }
 },
 "nbformat": 4,
 "nbformat_minor": 5
}
