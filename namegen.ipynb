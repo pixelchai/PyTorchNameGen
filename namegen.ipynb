{
 "cells": [
  {
   "cell_type": "code",
   "execution_count": 79,
   "id": "61c64837",
   "metadata": {},
   "outputs": [],
   "source": [
    "import torch\n",
    "from torch import nn\n",
    "import torch.nn.functional as F\n",
    "\n",
    "import string\n",
    "import unicodedata\n",
    "from pathlib import Path"
   ]
  },
  {
   "cell_type": "markdown",
   "id": "a5fa1500",
   "metadata": {},
   "source": [
    "# Loading Data"
   ]
  },
  {
   "cell_type": "code",
   "execution_count": 47,
   "id": "5316ed0c",
   "metadata": {},
   "outputs": [],
   "source": [
    "# name data from: https://download.pytorch.org/tutorial/data.zip"
   ]
  },
  {
   "cell_type": "code",
   "execution_count": 106,
   "id": "9f3beadf",
   "metadata": {},
   "outputs": [
    {
     "data": {
      "text/plain": [
       "\"abcdefghijklmnopqrstuvwxyzABCDEFGHIJKLMNOPQRSTUVWXYZ .,;'-\""
      ]
     },
     "execution_count": 106,
     "metadata": {},
     "output_type": "execute_result"
    }
   ],
   "source": [
    "all_chars = string.ascii_letters + \" .,;'-\"\n",
    "all_chars"
   ]
  },
  {
   "cell_type": "code",
   "execution_count": 107,
   "id": "33d94b6f",
   "metadata": {},
   "outputs": [],
   "source": [
    "def sanitise_line(line):\n",
    "    # https://stackoverflow.com/a/518232/5013267\n",
    "    return ''.join(\n",
    "        c for c in unicodedata.normalize('NFD', line)\n",
    "        if unicodedata.category(c) != 'Mn'\n",
    "        and c in all_chars\n",
    "    )"
   ]
  },
  {
   "cell_type": "code",
   "execution_count": 108,
   "id": "5ed4df59",
   "metadata": {},
   "outputs": [
    {
     "name": "stdout",
     "output_type": "stream",
     "text": [
      "Loaded: names/Arabic.txt\n",
      "Loaded: names/Chinese.txt\n",
      "Loaded: names/Czech.txt\n",
      "Loaded: names/Dutch.txt\n",
      "Loaded: names/English.txt\n",
      "Loaded: names/French.txt\n",
      "Loaded: names/German.txt\n",
      "Loaded: names/Greek.txt\n",
      "Loaded: names/Irish.txt\n",
      "Loaded: names/Italian.txt\n",
      "Loaded: names/Japanese.txt\n",
      "Loaded: names/Korean.txt\n",
      "Loaded: names/Polish.txt\n",
      "Loaded: names/Portuguese.txt\n",
      "Loaded: names/Russian.txt\n",
      "Loaded: names/Scottish.txt\n",
      "Loaded: names/Spanish.txt\n",
      "Loaded: names/Vietnamese.txt\n"
     ]
    }
   ],
   "source": [
    "name_data = {}\n",
    "for path in Path(\"names\").rglob(\"*.txt\"):\n",
    "    with open(path, \"r\", encoding=\"utf8\") as f:\n",
    "        names = []\n",
    "        for line in f.read().strip().split(\"\\n\"):\n",
    "            names.append(sanitise_line(line))\n",
    "        name_data[path.stem] = names\n",
    "    \n",
    "    print(f\"Loaded: {path}\")"
   ]
  },
  {
   "cell_type": "markdown",
   "id": "6b30a8fc",
   "metadata": {},
   "source": [
    "# Data Preparation"
   ]
  },
  {
   "cell_type": "code",
   "execution_count": 175,
   "id": "f6b4b5c1",
   "metadata": {},
   "outputs": [],
   "source": [
    "class OneHotTranslator:\n",
    "    def __init__(self, elements):\n",
    "        self.elements = elements\n",
    "        self.n_elements = len(self.elements)\n",
    "        \n",
    "    def index_to_vec(self, index):\n",
    "        return F.one_hot(torch.tensor([index]), num_classes=self.n_elements)[0]\n",
    "    \n",
    "    def index_from_vec(self, vec):\n",
    "        return vec.argmax()\n",
    "    \n",
    "    def elm_to_vec(self, elm):\n",
    "        return self.index_to_vec(self.elements.index(elm))\n",
    "    \n",
    "    def elm_from_vec(self, vec):\n",
    "        return self.elements[int(self.index_from_vec(vec))]\n",
    "    \n",
    "    def __len__(self):\n",
    "        return self.n_elements\n",
    "    \n",
    "    def __getitem__(self, val):\n",
    "        if isinstance(val, int):\n",
    "            return self.index_to_vec(val)\n",
    "        else:\n",
    "            return self.elm_to_vec(val)"
   ]
  },
  {
   "cell_type": "code",
   "execution_count": 176,
   "id": "fde02670",
   "metadata": {},
   "outputs": [
    {
     "name": "stdout",
     "output_type": "stream",
     "text": [
      "('Arabic', 'Chinese', 'Czech', 'Dutch', 'English', 'French', 'German', 'Greek', 'Irish', 'Italian', 'Japanese', 'Korean', 'Polish', 'Portuguese', 'Russian', 'Scottish', 'Spanish', 'Vietnamese')\n"
     ]
    }
   ],
   "source": [
    "category_translator = OneHotTranslator(tuple(name_data.keys()))\n",
    "print(category_translator.elements)"
   ]
  },
  {
   "cell_type": "code",
   "execution_count": 179,
   "id": "a62f3aab",
   "metadata": {},
   "outputs": [
    {
     "name": "stdout",
     "output_type": "stream",
     "text": [
      "['<SOS>', '<EOS>', 'a', 'b', 'c', 'd', 'e', 'f', 'g', 'h', 'i', 'j', 'k', 'l', 'm', 'n', 'o', 'p', 'q', 'r', 's', 't', 'u', 'v', 'w', 'x', 'y', 'z', 'A', 'B', 'C', 'D', 'E', 'F', 'G', 'H', 'I', 'J', 'K', 'L', 'M', 'N', 'O', 'P', 'Q', 'R', 'S', 'T', 'U', 'V', 'W', 'X', 'Y', 'Z', ' ', '.', ',', ';', \"'\", '-']\n"
     ]
    }
   ],
   "source": [
    "char_translator = OneHotTranslator([\"<SOS>\", \"<EOS>\"] + list(all_chars))\n",
    "print(char_translator.elements)"
   ]
  },
  {
   "cell_type": "markdown",
   "id": "afd941af",
   "metadata": {},
   "source": [
    "# Neural"
   ]
  },
  {
   "cell_type": "code",
   "execution_count": 272,
   "id": "0e8f3224",
   "metadata": {},
   "outputs": [],
   "source": [
    "class SeqModel(nn.Module):\n",
    "    def __init__(self, input_size, hidden_size, output_size):\n",
    "        super().__init__()\n",
    "        self.hidden_size = hidden_size\n",
    "        self.output_size = output_size\n",
    "        \n",
    "        self.lstm = nn.LSTMCell(input_size, hidden_size)\n",
    "        self.fc = nn.Linear(hidden_size, output_size)\n",
    "        self.dropout = nn.Dropout(0.05)\n",
    "        self.softmax = nn.LogSoftmax(dim=1)\n",
    "        \n",
    "    def forward(self, t_prime, t_input, t_hidden, t_cell):\n",
    "        # t_prime: tensor of batches of vectors for the LSTM to be primed on\n",
    "        #          shape: (seq_len, N, -)\n",
    "        #          in this case (priming the LSTM on a category):\n",
    "        #              shape: (1, N, n_categories)\n",
    "        #              t_prime[0][0]: one-hot vector encoding a category\n",
    "        #\n",
    "        # t_input: shape: (1, N, hidden_size)\n",
    "        #          t_input[0][0]: one-hot vector encoding of a character\n",
    "        #\n",
    "        # t_hidden: shape: (N, hidden_size)\n",
    "        # t_cell: shape: (N, hidden_size)\n",
    "#         internal_input = torch.cat()\n",
    "#         internal_input = torch.cat((t_prime, t_input), dim=2).view(-1)  # concat t_prime and t_input + flatten\n",
    "#         internal_input = internal_input.view(1, 1, len(internal_input))\n",
    "        internal_input = torch.cat((t_prime, t_input), dim=2)\n",
    "        t_hidden, t_cell = self.lstm(t_input, (t_hidden, t_cell))\n",
    "        \n",
    "        t_output = self.fc(self.dropout(t_hidden))\n",
    "        t_output = self.softmax(t_output)\n",
    "        \n",
    "        return t_output, t_hidden, t_cell\n",
    "    \n",
    "    def init_hidden(self, batch_size):\n",
    "        t_hidden = torch.randn(batch_size, self.hidden_size)\n",
    "        t_cell = torch.zeros(batch_size, self.hidden_size)\n",
    "        \n",
    "        return t_hidden, t_cell"
   ]
  },
  {
   "cell_type": "code",
   "execution_count": 273,
   "id": "eee27f39",
   "metadata": {},
   "outputs": [],
   "source": [
    "seq = SeqModel(len(char_translator), 32, len(char_translator))"
   ]
  },
  {
   "cell_type": "code",
   "execution_count": 278,
   "id": "1c2b6b6e",
   "metadata": {},
   "outputs": [
    {
     "name": "stdout",
     "output_type": "stream",
     "text": [
      "t_prime shape:\t torch.Size([1, 1, 18])\n",
      "t_input shape:\t torch.Size([1, 1, 60])\n",
      "t_hidden shape:\t torch.Size([1, 32])\n",
      "t_cell shape:\t torch.Size([1, 32])\n"
     ]
    }
   ],
   "source": [
    "test_category_index = 0\n",
    "\n",
    "t_prime = category_translator[test_category_index].view(1, 1, len(category_translator))\n",
    "print(\"t_prime shape:\\t\", t_prime.shape)\n",
    "\n",
    "t_input = char_translator[\"<SOS>\"].view(1, 1, len(char_translator))\n",
    "print(\"t_input shape:\\t\", t_input.shape)\n",
    "\n",
    "t_hidden, t_cell = seq.init_hidden(1)\n",
    "print(\"t_hidden shape:\\t\", t_hidden.shape)\n",
    "print(\"t_cell shape:\\t\", t_cell.shape)"
   ]
  },
  {
   "cell_type": "code",
   "execution_count": 279,
   "id": "fc576c54",
   "metadata": {},
   "outputs": [],
   "source": [
    "# t_prime.repeat((2,3,1)).shape"
   ]
  },
  {
   "cell_type": "code",
   "execution_count": 280,
   "id": "804f74f1",
   "metadata": {},
   "outputs": [],
   "source": [
    "# internal_input = torch.cat((t_prime.repeat((2,3,1)), t_input.repeat((2,3,1))), dim=2)\n",
    "# # internal_input = internal_input.view(-1)\n",
    "# # internal_input = internal_input.view(1,1,len(internal_input))\n",
    "# internal_input.shape"
   ]
  },
  {
   "cell_type": "code",
   "execution_count": 281,
   "id": "65f371f7",
   "metadata": {},
   "outputs": [
    {
     "ename": "RuntimeError",
     "evalue": "input has inconsistent input_size: got 1, expected 60",
     "output_type": "error",
     "traceback": [
      "\u001b[0;31m---------------------------------------------------------------------------\u001b[0m",
      "\u001b[0;31mRuntimeError\u001b[0m                              Traceback (most recent call last)",
      "\u001b[0;32m<ipython-input-281-cf3187abb065>\u001b[0m in \u001b[0;36m<module>\u001b[0;34m\u001b[0m\n\u001b[0;32m----> 1\u001b[0;31m \u001b[0mseq\u001b[0m\u001b[0;34m.\u001b[0m\u001b[0mforward\u001b[0m\u001b[0;34m(\u001b[0m\u001b[0mt_prime\u001b[0m\u001b[0;34m,\u001b[0m \u001b[0mt_input\u001b[0m\u001b[0;34m,\u001b[0m \u001b[0mt_hidden\u001b[0m\u001b[0;34m,\u001b[0m \u001b[0mt_cell\u001b[0m\u001b[0;34m)\u001b[0m\u001b[0;34m\u001b[0m\u001b[0;34m\u001b[0m\u001b[0m\n\u001b[0m",
      "\u001b[0;32m<ipython-input-272-4ece85172565>\u001b[0m in \u001b[0;36mforward\u001b[0;34m(self, t_prime, t_input, t_hidden, t_cell)\u001b[0m\n\u001b[1;32m     26\u001b[0m \u001b[0;31m#         internal_input = internal_input.view(1, 1, len(internal_input))\u001b[0m\u001b[0;34m\u001b[0m\u001b[0;34m\u001b[0m\u001b[0;34m\u001b[0m\u001b[0m\n\u001b[1;32m     27\u001b[0m         \u001b[0minternal_input\u001b[0m \u001b[0;34m=\u001b[0m \u001b[0mtorch\u001b[0m\u001b[0;34m.\u001b[0m\u001b[0mcat\u001b[0m\u001b[0;34m(\u001b[0m\u001b[0;34m(\u001b[0m\u001b[0mt_prime\u001b[0m\u001b[0;34m,\u001b[0m \u001b[0mt_input\u001b[0m\u001b[0;34m)\u001b[0m\u001b[0;34m,\u001b[0m \u001b[0mdim\u001b[0m\u001b[0;34m=\u001b[0m\u001b[0;36m2\u001b[0m\u001b[0;34m)\u001b[0m\u001b[0;34m\u001b[0m\u001b[0;34m\u001b[0m\u001b[0m\n\u001b[0;32m---> 28\u001b[0;31m         \u001b[0mt_hidden\u001b[0m\u001b[0;34m,\u001b[0m \u001b[0mt_cell\u001b[0m \u001b[0;34m=\u001b[0m \u001b[0mself\u001b[0m\u001b[0;34m.\u001b[0m\u001b[0mlstm\u001b[0m\u001b[0;34m(\u001b[0m\u001b[0mt_input\u001b[0m\u001b[0;34m,\u001b[0m \u001b[0;34m(\u001b[0m\u001b[0mt_hidden\u001b[0m\u001b[0;34m,\u001b[0m \u001b[0mt_cell\u001b[0m\u001b[0;34m)\u001b[0m\u001b[0;34m)\u001b[0m\u001b[0;34m\u001b[0m\u001b[0;34m\u001b[0m\u001b[0m\n\u001b[0m\u001b[1;32m     29\u001b[0m \u001b[0;34m\u001b[0m\u001b[0m\n\u001b[1;32m     30\u001b[0m         \u001b[0mt_output\u001b[0m \u001b[0;34m=\u001b[0m \u001b[0mself\u001b[0m\u001b[0;34m.\u001b[0m\u001b[0mfc\u001b[0m\u001b[0;34m(\u001b[0m\u001b[0mself\u001b[0m\u001b[0;34m.\u001b[0m\u001b[0mdropout\u001b[0m\u001b[0;34m(\u001b[0m\u001b[0mt_hidden\u001b[0m\u001b[0;34m)\u001b[0m\u001b[0;34m)\u001b[0m\u001b[0;34m\u001b[0m\u001b[0;34m\u001b[0m\u001b[0m\n",
      "\u001b[0;32m~/.local/lib/python3.9/site-packages/torch/nn/modules/module.py\u001b[0m in \u001b[0;36m_call_impl\u001b[0;34m(self, *input, **kwargs)\u001b[0m\n\u001b[1;32m    887\u001b[0m             \u001b[0mresult\u001b[0m \u001b[0;34m=\u001b[0m \u001b[0mself\u001b[0m\u001b[0;34m.\u001b[0m\u001b[0m_slow_forward\u001b[0m\u001b[0;34m(\u001b[0m\u001b[0;34m*\u001b[0m\u001b[0minput\u001b[0m\u001b[0;34m,\u001b[0m \u001b[0;34m**\u001b[0m\u001b[0mkwargs\u001b[0m\u001b[0;34m)\u001b[0m\u001b[0;34m\u001b[0m\u001b[0;34m\u001b[0m\u001b[0m\n\u001b[1;32m    888\u001b[0m         \u001b[0;32melse\u001b[0m\u001b[0;34m:\u001b[0m\u001b[0;34m\u001b[0m\u001b[0;34m\u001b[0m\u001b[0m\n\u001b[0;32m--> 889\u001b[0;31m             \u001b[0mresult\u001b[0m \u001b[0;34m=\u001b[0m \u001b[0mself\u001b[0m\u001b[0;34m.\u001b[0m\u001b[0mforward\u001b[0m\u001b[0;34m(\u001b[0m\u001b[0;34m*\u001b[0m\u001b[0minput\u001b[0m\u001b[0;34m,\u001b[0m \u001b[0;34m**\u001b[0m\u001b[0mkwargs\u001b[0m\u001b[0;34m)\u001b[0m\u001b[0;34m\u001b[0m\u001b[0;34m\u001b[0m\u001b[0m\n\u001b[0m\u001b[1;32m    890\u001b[0m         for hook in itertools.chain(\n\u001b[1;32m    891\u001b[0m                 \u001b[0m_global_forward_hooks\u001b[0m\u001b[0;34m.\u001b[0m\u001b[0mvalues\u001b[0m\u001b[0;34m(\u001b[0m\u001b[0;34m)\u001b[0m\u001b[0;34m,\u001b[0m\u001b[0;34m\u001b[0m\u001b[0;34m\u001b[0m\u001b[0m\n",
      "\u001b[0;32m~/.local/lib/python3.9/site-packages/torch/nn/modules/rnn.py\u001b[0m in \u001b[0;36mforward\u001b[0;34m(self, input, hx)\u001b[0m\n\u001b[1;32m   1046\u001b[0m \u001b[0;34m\u001b[0m\u001b[0m\n\u001b[1;32m   1047\u001b[0m     \u001b[0;32mdef\u001b[0m \u001b[0mforward\u001b[0m\u001b[0;34m(\u001b[0m\u001b[0mself\u001b[0m\u001b[0;34m,\u001b[0m \u001b[0minput\u001b[0m\u001b[0;34m:\u001b[0m \u001b[0mTensor\u001b[0m\u001b[0;34m,\u001b[0m \u001b[0mhx\u001b[0m\u001b[0;34m:\u001b[0m \u001b[0mOptional\u001b[0m\u001b[0;34m[\u001b[0m\u001b[0mTuple\u001b[0m\u001b[0;34m[\u001b[0m\u001b[0mTensor\u001b[0m\u001b[0;34m,\u001b[0m \u001b[0mTensor\u001b[0m\u001b[0;34m]\u001b[0m\u001b[0;34m]\u001b[0m \u001b[0;34m=\u001b[0m \u001b[0;32mNone\u001b[0m\u001b[0;34m)\u001b[0m \u001b[0;34m->\u001b[0m \u001b[0mTuple\u001b[0m\u001b[0;34m[\u001b[0m\u001b[0mTensor\u001b[0m\u001b[0;34m,\u001b[0m \u001b[0mTensor\u001b[0m\u001b[0;34m]\u001b[0m\u001b[0;34m:\u001b[0m\u001b[0;34m\u001b[0m\u001b[0;34m\u001b[0m\u001b[0m\n\u001b[0;32m-> 1048\u001b[0;31m         \u001b[0mself\u001b[0m\u001b[0;34m.\u001b[0m\u001b[0mcheck_forward_input\u001b[0m\u001b[0;34m(\u001b[0m\u001b[0minput\u001b[0m\u001b[0;34m)\u001b[0m\u001b[0;34m\u001b[0m\u001b[0;34m\u001b[0m\u001b[0m\n\u001b[0m\u001b[1;32m   1049\u001b[0m         \u001b[0;32mif\u001b[0m \u001b[0mhx\u001b[0m \u001b[0;32mis\u001b[0m \u001b[0;32mNone\u001b[0m\u001b[0;34m:\u001b[0m\u001b[0;34m\u001b[0m\u001b[0;34m\u001b[0m\u001b[0m\n\u001b[1;32m   1050\u001b[0m             \u001b[0mzeros\u001b[0m \u001b[0;34m=\u001b[0m \u001b[0mtorch\u001b[0m\u001b[0;34m.\u001b[0m\u001b[0mzeros\u001b[0m\u001b[0;34m(\u001b[0m\u001b[0minput\u001b[0m\u001b[0;34m.\u001b[0m\u001b[0msize\u001b[0m\u001b[0;34m(\u001b[0m\u001b[0;36m0\u001b[0m\u001b[0;34m)\u001b[0m\u001b[0;34m,\u001b[0m \u001b[0mself\u001b[0m\u001b[0;34m.\u001b[0m\u001b[0mhidden_size\u001b[0m\u001b[0;34m,\u001b[0m \u001b[0mdtype\u001b[0m\u001b[0;34m=\u001b[0m\u001b[0minput\u001b[0m\u001b[0;34m.\u001b[0m\u001b[0mdtype\u001b[0m\u001b[0;34m,\u001b[0m \u001b[0mdevice\u001b[0m\u001b[0;34m=\u001b[0m\u001b[0minput\u001b[0m\u001b[0;34m.\u001b[0m\u001b[0mdevice\u001b[0m\u001b[0;34m)\u001b[0m\u001b[0;34m\u001b[0m\u001b[0;34m\u001b[0m\u001b[0m\n",
      "\u001b[0;32m~/.local/lib/python3.9/site-packages/torch/nn/modules/rnn.py\u001b[0m in \u001b[0;36mcheck_forward_input\u001b[0;34m(self, input)\u001b[0m\n\u001b[1;32m    871\u001b[0m     \u001b[0;32mdef\u001b[0m \u001b[0mcheck_forward_input\u001b[0m\u001b[0;34m(\u001b[0m\u001b[0mself\u001b[0m\u001b[0;34m,\u001b[0m \u001b[0minput\u001b[0m\u001b[0;34m:\u001b[0m \u001b[0mTensor\u001b[0m\u001b[0;34m)\u001b[0m \u001b[0;34m->\u001b[0m \u001b[0;32mNone\u001b[0m\u001b[0;34m:\u001b[0m\u001b[0;34m\u001b[0m\u001b[0;34m\u001b[0m\u001b[0m\n\u001b[1;32m    872\u001b[0m         \u001b[0;32mif\u001b[0m \u001b[0minput\u001b[0m\u001b[0;34m.\u001b[0m\u001b[0msize\u001b[0m\u001b[0;34m(\u001b[0m\u001b[0;36m1\u001b[0m\u001b[0;34m)\u001b[0m \u001b[0;34m!=\u001b[0m \u001b[0mself\u001b[0m\u001b[0;34m.\u001b[0m\u001b[0minput_size\u001b[0m\u001b[0;34m:\u001b[0m\u001b[0;34m\u001b[0m\u001b[0;34m\u001b[0m\u001b[0m\n\u001b[0;32m--> 873\u001b[0;31m             raise RuntimeError(\n\u001b[0m\u001b[1;32m    874\u001b[0m                 \"input has inconsistent input_size: got {}, expected {}\".format(\n\u001b[1;32m    875\u001b[0m                     input.size(1), self.input_size))\n",
      "\u001b[0;31mRuntimeError\u001b[0m: input has inconsistent input_size: got 1, expected 60"
     ]
    }
   ],
   "source": [
    "seq.forward(t_prime, t_input, t_hidden, t_cell)"
   ]
  },
  {
   "cell_type": "code",
   "execution_count": null,
   "id": "5d43d846",
   "metadata": {},
   "outputs": [],
   "source": []
  }
 ],
 "metadata": {
  "kernelspec": {
   "display_name": "Python 3",
   "language": "python",
   "name": "python3"
  },
  "language_info": {
   "codemirror_mode": {
    "name": "ipython",
    "version": 3
   },
   "file_extension": ".py",
   "mimetype": "text/x-python",
   "name": "python",
   "nbconvert_exporter": "python",
   "pygments_lexer": "ipython3",
   "version": "3.9.5"
  }
 },
 "nbformat": 4,
 "nbformat_minor": 5
}
