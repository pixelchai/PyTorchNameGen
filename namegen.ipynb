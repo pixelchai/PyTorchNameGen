{
 "cells": [
  {
   "cell_type": "code",
   "execution_count": 1,
   "id": "fea1effd",
   "metadata": {
    "id": "fea1effd"
   },
   "outputs": [],
   "source": [
    "import torch\n",
    "from torch import nn, optim\n",
    "import torch.nn.functional as F\n",
    "\n",
    "from torch.utils.data import Dataset, DataLoader\n",
    "\n",
    "import string\n",
    "import unicodedata\n",
    "from pathlib import Path\n",
    "import collections\n",
    "\n",
    "from IPython.display import clear_output\n",
    "from matplotlib import pyplot as plt\n",
    "%matplotlib inline"
   ]
  },
  {
   "cell_type": "code",
   "execution_count": 2,
   "id": "faa22642",
   "metadata": {
    "id": "faa22642"
   },
   "outputs": [],
   "source": [
    "device = torch.device('cuda' if torch.cuda.is_available() else 'cpu')"
   ]
  },
  {
   "cell_type": "markdown",
   "id": "a06a27b6",
   "metadata": {
    "id": "a06a27b6"
   },
   "source": [
    "# Loading Data"
   ]
  },
  {
   "cell_type": "code",
   "execution_count": 3,
   "id": "401699a8",
   "metadata": {
    "id": "401699a8"
   },
   "outputs": [],
   "source": [
    "# name data from: https://download.pytorch.org/tutorial/data.zip"
   ]
  },
  {
   "cell_type": "code",
   "execution_count": 4,
   "id": "iXNYEWStoP8l",
   "metadata": {
    "id": "iXNYEWStoP8l"
   },
   "outputs": [],
   "source": [
    "if not Path(\"names\").is_dir():\n",
    "  !curl \"https://download.pytorch.org/tutorial/data.zip\" -o \"data.zip\"\n",
    "  !unzip -j \"data.zip\" \"data/names/*\" -d \"names\""
   ]
  },
  {
   "cell_type": "code",
   "execution_count": 5,
   "id": "825785f4",
   "metadata": {
    "colab": {
     "base_uri": "https://localhost:8080/"
    },
    "id": "825785f4",
    "outputId": "b9f23a1c-b8d8-4d76-b929-a5e4e5e1041d"
   },
   "outputs": [
    {
     "name": "stdout",
     "output_type": "stream",
     "text": [
      "abcdefghijklmnopqrstuvwxyzABCDEFGHIJKLMNOPQRSTUVWXYZ .,;'-\n"
     ]
    }
   ],
   "source": [
    "all_chars = string.ascii_letters + \" .,;'-\"\n",
    "print(all_chars)"
   ]
  },
  {
   "cell_type": "code",
   "execution_count": 6,
   "id": "4238dc91",
   "metadata": {
    "id": "4238dc91"
   },
   "outputs": [],
   "source": [
    "def sanitise_line(line):\n",
    "    # https://stackoverflow.com/a/518232/5013267\n",
    "    return ''.join(\n",
    "        c for c in unicodedata.normalize('NFD', line)\n",
    "        if unicodedata.category(c) != 'Mn'\n",
    "        and c in all_chars\n",
    "    )"
   ]
  },
  {
   "cell_type": "code",
   "execution_count": 7,
   "id": "6d017916",
   "metadata": {
    "colab": {
     "base_uri": "https://localhost:8080/"
    },
    "id": "6d017916",
    "outputId": "8508ace7-502f-43f8-cba7-78b20de409d8"
   },
   "outputs": [
    {
     "name": "stdout",
     "output_type": "stream",
     "text": [
      "Loaded: names/Arabic.txt\n",
      "Loaded: names/Chinese.txt\n",
      "Loaded: names/Czech.txt\n",
      "Loaded: names/Dutch.txt\n",
      "Loaded: names/English.txt\n",
      "Loaded: names/French.txt\n",
      "Loaded: names/German.txt\n",
      "Loaded: names/Greek.txt\n",
      "Loaded: names/Irish.txt\n",
      "Loaded: names/Italian.txt\n",
      "Loaded: names/Japanese.txt\n",
      "Loaded: names/Korean.txt\n",
      "Loaded: names/Polish.txt\n",
      "Loaded: names/Portuguese.txt\n",
      "Loaded: names/Russian.txt\n",
      "Loaded: names/Scottish.txt\n",
      "Loaded: names/Spanish.txt\n",
      "Loaded: names/Vietnamese.txt\n"
     ]
    }
   ],
   "source": [
    "name_data = {}\n",
    "for path in Path(\"names\").rglob(\"*.txt\"):\n",
    "    with open(path, \"r\", encoding=\"utf8\") as f:\n",
    "        names = []\n",
    "        for line in f.read().strip().split(\"\\n\"):\n",
    "            names.append(sanitise_line(line))\n",
    "        name_data[path.stem] = names\n",
    "    \n",
    "    print(f\"Loaded: {path}\")"
   ]
  },
  {
   "cell_type": "markdown",
   "id": "5444971a",
   "metadata": {
    "id": "5444971a"
   },
   "source": [
    "# Data Preparation Stuff"
   ]
  },
  {
   "cell_type": "code",
   "execution_count": 8,
   "id": "053a6dfe",
   "metadata": {
    "id": "053a6dfe"
   },
   "outputs": [],
   "source": [
    "class OneHotTranslator:\n",
    "    def __init__(self, elements):\n",
    "        self.elements = elements\n",
    "        self.n_elements = len(self.elements)\n",
    "        \n",
    "    def index_to_vec(self, index):\n",
    "        return F.one_hot(torch.tensor([index]), num_classes=self.n_elements)[0]\n",
    "    \n",
    "    def index_from_vec(self, vec):\n",
    "        return vec.argmax()\n",
    "    \n",
    "    def elm_to_vec(self, elm):\n",
    "        return self.index_to_vec(self.elements.index(elm))\n",
    "    \n",
    "    def elm_from_vec(self, vec):\n",
    "        return self.elements[int(self.index_from_vec(vec))]\n",
    "    \n",
    "    def __len__(self):\n",
    "        return self.n_elements\n",
    "    \n",
    "    def __getitem__(self, val):\n",
    "        if isinstance(val, int):\n",
    "            return self.index_to_vec(val)\n",
    "        else:\n",
    "            return self.elm_to_vec(val)"
   ]
  },
  {
   "cell_type": "code",
   "execution_count": 9,
   "id": "49ebe20e",
   "metadata": {
    "colab": {
     "base_uri": "https://localhost:8080/"
    },
    "id": "49ebe20e",
    "outputId": "01169263-122a-40bc-95be-4415882a7052"
   },
   "outputs": [
    {
     "name": "stdout",
     "output_type": "stream",
     "text": [
      "('Arabic', 'Chinese', 'Czech', 'Dutch', 'English', 'French', 'German', 'Greek', 'Irish', 'Italian', 'Japanese', 'Korean', 'Polish', 'Portuguese', 'Russian', 'Scottish', 'Spanish', 'Vietnamese')\n",
      "len: 18\n"
     ]
    }
   ],
   "source": [
    "category_translator = OneHotTranslator(tuple(name_data.keys()))\n",
    "print(category_translator.elements)\n",
    "print(\"len:\", len(category_translator))"
   ]
  },
  {
   "cell_type": "code",
   "execution_count": 10,
   "id": "8558c55e",
   "metadata": {
    "colab": {
     "base_uri": "https://localhost:8080/"
    },
    "id": "8558c55e",
    "outputId": "26f0e2d4-c740-42d4-9d2f-d51ae25b15ff"
   },
   "outputs": [
    {
     "name": "stdout",
     "output_type": "stream",
     "text": [
      "['<SOS>', '<EOS>', 'a', 'b', 'c', 'd', 'e', 'f', 'g', 'h', 'i', 'j', 'k', 'l', 'm', 'n', 'o', 'p', 'q', 'r', 's', 't', 'u', 'v', 'w', 'x', 'y', 'z', 'A', 'B', 'C', 'D', 'E', 'F', 'G', 'H', 'I', 'J', 'K', 'L', 'M', 'N', 'O', 'P', 'Q', 'R', 'S', 'T', 'U', 'V', 'W', 'X', 'Y', 'Z', ' ', '.', ',', ';', \"'\", '-']\n",
      "len: 60\n"
     ]
    }
   ],
   "source": [
    "char_translator = OneHotTranslator([\"<SOS>\", \"<EOS>\"] + list(all_chars))\n",
    "print(char_translator.elements)\n",
    "print(\"len:\", len(char_translator))"
   ]
  },
  {
   "cell_type": "code",
   "execution_count": 11,
   "id": "00ab33df",
   "metadata": {
    "id": "00ab33df"
   },
   "outputs": [],
   "source": [
    "# convenience functions\n",
    "def build_name(name):\n",
    "    \"\"\"\n",
    "    Build a list of one-hot encoded vectors representing the given name string\n",
    "    \"\"\"\n",
    "    return [char_translator.elm_to_vec(char) for char in ([\"<SOS>\"] + list(name) + [\"<EOS>\"])]\n",
    "\n",
    "def unbuild_name(t_chars):\n",
    "    \"\"\"\n",
    "    Inverse of build_name\n",
    "    \"\"\"\n",
    "    return \"\".join([char_translator.elm_from_vec(vec) for vec in t_chars])\n",
    "\n",
    "def build_category(category):\n",
    "    \"\"\"\n",
    "    Build a one-hot encoded vector representing the given category string\n",
    "    \"\"\"\n",
    "    return category_translator.elm_to_vec(category)\n",
    "\n",
    "def unbuild_category(vec):\n",
    "    \"\"\"\n",
    "    Inverse of build_category\n",
    "    \"\"\"\n",
    "    return category_translator.elm_from_vec(vec)"
   ]
  },
  {
   "cell_type": "code",
   "execution_count": 12,
   "id": "03438995",
   "metadata": {
    "id": "03438995"
   },
   "outputs": [],
   "source": [
    "# simple Dataset class wrapper around the above variables\n",
    "class NamesDataset(Dataset):\n",
    "    def __init__(self):\n",
    "        self._data_pairs = [(cat, name) for cat in name_data for name in name_data[cat]]\n",
    "    \n",
    "    def __len__(self):\n",
    "        return len(self._data_pairs)\n",
    "    \n",
    "    def __getitem__(self, index):\n",
    "        cat, name = self._data_pairs[index]\n",
    "        return build_category(cat), build_name(name)"
   ]
  },
  {
   "cell_type": "markdown",
   "id": "f16ef4cc",
   "metadata": {
    "id": "f16ef4cc"
   },
   "source": [
    "# Neural"
   ]
  },
  {
   "cell_type": "code",
   "execution_count": 13,
   "id": "898e2caf",
   "metadata": {
    "id": "898e2caf"
   },
   "outputs": [],
   "source": [
    "class SeqModel(nn.Module):\n",
    "    def __init__(self, prime_size, input_size, hidden_size):\n",
    "        super().__init__()\n",
    "        self.prime_size = prime_size\n",
    "        self.input_size = input_size\n",
    "        self.hidden_size = hidden_size\n",
    "        \n",
    "        self.lstm = nn.LSTMCell(self.input_size + self.prime_size, self.hidden_size)\n",
    "        \n",
    "        # NB: output size = input size\n",
    "        self.fc = nn.Linear(self.hidden_size, self.input_size)\n",
    "        self.dropout = nn.Dropout(0.1)\n",
    "        self.lsoftmax = nn.LogSoftmax(dim=1)\n",
    "        \n",
    "    def forward(self, t_prime, t_input, t_hidden, t_cell):\n",
    "        # t_prime:     batches of vectors for the LSTM to be primed on\n",
    "        #              shape: (N, prime_size)\n",
    "        #\n",
    "        # t_input:     shape: (N, input_size)\n",
    "        #              t_input[0]: one-hot vector encoding of a character\n",
    "        #\n",
    "        # t_hidden:    shape: (N, hidden_size)\n",
    "        #\n",
    "        # t_cell:      shape: (N, hidden_size)\n",
    "        \n",
    "        # lstm_input:  t_prime and t_input concated together\n",
    "        #              shape: (N, prime_size + input_size)\n",
    "        lstm_input = torch.cat((t_prime, t_input), dim=1)\n",
    "        t_hidden, t_cell = self.lstm(lstm_input.float(), (t_hidden, t_cell))\n",
    "        \n",
    "        # t_output:    shape: (N, input_size)\n",
    "        #              NB: t_output's shape = t_input's shape\n",
    "        t_output = self.fc(self.dropout(t_hidden))\n",
    "        t_output = self.lsoftmax(t_output)\n",
    "        \n",
    "        return t_output, t_hidden, t_cell\n",
    "    \n",
    "    def init_hidden(self, batch_size=1):\n",
    "        t_hidden = torch.zeros(batch_size, self.hidden_size)\n",
    "        t_cell = torch.zeros(batch_size, self.hidden_size)\n",
    "        \n",
    "        return t_hidden, t_cell"
   ]
  },
  {
   "cell_type": "code",
   "execution_count": 14,
   "id": "49c87a9c",
   "metadata": {
    "colab": {
     "base_uri": "https://localhost:8080/"
    },
    "id": "49c87a9c",
    "outputId": "fe496820-31a1-4597-8a61-d5052c72eb8f"
   },
   "outputs": [
    {
     "data": {
      "text/plain": [
       "SeqModel(\n",
       "  (lstm): LSTMCell(78, 32)\n",
       "  (fc): Linear(in_features=32, out_features=60, bias=True)\n",
       "  (dropout): Dropout(p=0.1, inplace=False)\n",
       "  (lsoftmax): LogSoftmax(dim=1)\n",
       ")"
      ]
     },
     "execution_count": 14,
     "metadata": {},
     "output_type": "execute_result"
    }
   ],
   "source": [
    "model = SeqModel(len(category_translator), len(char_translator), 32)\n",
    "model.to(device)"
   ]
  },
  {
   "cell_type": "code",
   "execution_count": 15,
   "id": "a801687f",
   "metadata": {
    "id": "a801687f"
   },
   "outputs": [],
   "source": [
    "# test_category_index = 0\n",
    "\n",
    "# t_prime = category_translator[test_category_index].view(1, len(category_translator))\n",
    "# print(\"t_prime shape:\\t\", t_prime.shape)\n",
    "\n",
    "# t_input = char_translator[\"<SOS>\"].view(1, len(char_translator))\n",
    "# print(\"t_input shape:\\t\", t_input.shape)\n",
    "\n",
    "# t_hidden, t_cell = model.init_hidden(1)\n",
    "# print(\"t_hidden shape:\\t\", t_hidden.shape)\n",
    "# print(\"t_cell shape:\\t\", t_cell.shape)"
   ]
  },
  {
   "cell_type": "code",
   "execution_count": 16,
   "id": "e93534b0",
   "metadata": {
    "id": "e93534b0"
   },
   "outputs": [],
   "source": [
    "# t_output, t_hidden, t_cell = model.forward(t_prime, t_input, t_hidden, t_cell)\n",
    "# print(\"t_output shape:\\t\", t_output.shape)\n",
    "# print(\"t_hidden shape:\\t\", t_hidden.shape)\n",
    "# print(\"t_cell shape:\\t\", t_cell.shape)"
   ]
  },
  {
   "cell_type": "markdown",
   "id": "2fd89a54",
   "metadata": {
    "id": "2fd89a54"
   },
   "source": [
    "# Eval"
   ]
  },
  {
   "cell_type": "code",
   "execution_count": 48,
   "id": "c0ade28f",
   "metadata": {
    "colab": {
     "base_uri": "https://localhost:8080/",
     "height": 1000
    },
    "id": "c0ade28f",
    "outputId": "d1ee47bb-c548-4b81-9a6f-bb9a21850d80"
   },
   "outputs": [],
   "source": [
    "def generate(trial_category_name=\"German\"):\n",
    "    with torch.no_grad():\n",
    "        t_prime = category_translator[trial_category_name].unsqueeze(0).to(device)\n",
    "        t_char = char_translator[\"<SOS>\"].unsqueeze(0).to(device)\n",
    "        t_hidden, t_cell = map(lambda x: x.to(device), model.init_hidden(1))\n",
    "\n",
    "        ret = \"\"\n",
    "        while True:\n",
    "            t_output, t_hidden, t_cell = model(t_prime, t_char, t_hidden, t_cell)\n",
    "            output_vec = t_output[0]\n",
    "            output_char = char_translator.elm_from_vec(output_vec)\n",
    "\n",
    "            if output_char == \"<EOS>\":\n",
    "                break\n",
    "\n",
    "            ret += output_char\n",
    "\n",
    "    return ret"
   ]
  },
  {
   "cell_type": "markdown",
   "id": "5df83805",
   "metadata": {
    "id": "5df83805"
   },
   "source": [
    "# Training"
   ]
  },
  {
   "cell_type": "code",
   "execution_count": 17,
   "id": "1c2a2119",
   "metadata": {
    "id": "1c2a2119"
   },
   "outputs": [],
   "source": [
    "# config\n",
    "max_length = 30\n",
    "num_iters = 100000\n",
    "learning_rate = 0.0003\n",
    "plot_limit = None"
   ]
  },
  {
   "cell_type": "code",
   "execution_count": 18,
   "id": "141937b6",
   "metadata": {
    "id": "141937b6"
   },
   "outputs": [],
   "source": [
    "train_dataloader = DataLoader(NamesDataset(), batch_size=1, shuffle=True, collate_fn=lambda x: x)"
   ]
  },
  {
   "cell_type": "code",
   "execution_count": 19,
   "id": "a0f17cce",
   "metadata": {
    "id": "a0f17cce"
   },
   "outputs": [],
   "source": [
    "losses = collections.deque(maxlen=plot_limit)"
   ]
  },
  {
   "cell_type": "code",
   "execution_count": 20,
   "id": "1d66e2d1",
   "metadata": {
    "id": "1d66e2d1"
   },
   "outputs": [],
   "source": [
    "criterion = nn.NLLLoss()\n",
    "optimiser = optim.Adam(model.parameters(), lr=learning_rate, weight_decay=0.01)\n",
    "# optimiser = optim.SGD(model.parameters(), lr=learning_rate, momentum=0.9)"
   ]
  },
  {
   "cell_type": "code",
   "execution_count": 51,
   "id": "36a8ec8d",
   "metadata": {
    "colab": {
     "base_uri": "https://localhost:8080/",
     "height": 466
    },
    "id": "36a8ec8d",
    "outputId": "aaa7594a-d876-4523-8ea9-77c793fb0f48"
   },
   "outputs": [
    {
     "data": {
      "image/png": "[encoded data removed]",
      "text/plain": [
       "<Figure size 432x288 with 1 Axes>"
      ]
     },
     "metadata": {
      "needs_background": "light"
     },
     "output_type": "display_data"
    },
    {
     "name": "stdout",
     "output_type": "stream",
     "text": [
      "3.2283513810899525 - Aaaaaaaaaaaaaaaaaaaaa\n"
     ]
    },
    {
     "ename": "KeyboardInterrupt",
     "evalue": "",
     "output_type": "error",
     "traceback": [
      "\u001b[0;31m---------------------------------------------------------------------------\u001b[0m",
      "\u001b[0;31mKeyboardInterrupt\u001b[0m                         Traceback (most recent call last)",
      "\u001b[0;32m<ipython-input-51-cf8dd68a1b6e>\u001b[0m in \u001b[0;36m<module>\u001b[0;34m\u001b[0m\n\u001b[1;32m      9\u001b[0m     \u001b[0;32mfor\u001b[0m \u001b[0mchar_index\u001b[0m\u001b[0;34m,\u001b[0m \u001b[0mchar_vec\u001b[0m \u001b[0;32min\u001b[0m \u001b[0menumerate\u001b[0m\u001b[0;34m(\u001b[0m\u001b[0mname\u001b[0m\u001b[0;34m[\u001b[0m\u001b[0;34m:\u001b[0m\u001b[0;34m-\u001b[0m\u001b[0;36m1\u001b[0m\u001b[0;34m]\u001b[0m\u001b[0;34m)\u001b[0m\u001b[0;34m:\u001b[0m\u001b[0;34m\u001b[0m\u001b[0;34m\u001b[0m\u001b[0m\n\u001b[1;32m     10\u001b[0m         \u001b[0mt_char\u001b[0m \u001b[0;34m=\u001b[0m \u001b[0mchar_vec\u001b[0m\u001b[0;34m.\u001b[0m\u001b[0munsqueeze\u001b[0m\u001b[0;34m(\u001b[0m\u001b[0;36m0\u001b[0m\u001b[0;34m)\u001b[0m\u001b[0;34m.\u001b[0m\u001b[0mto\u001b[0m\u001b[0;34m(\u001b[0m\u001b[0mdevice\u001b[0m\u001b[0;34m)\u001b[0m\u001b[0;34m\u001b[0m\u001b[0;34m\u001b[0m\u001b[0m\n\u001b[0;32m---> 11\u001b[0;31m         \u001b[0mt_output\u001b[0m\u001b[0;34m,\u001b[0m \u001b[0mt_hidden\u001b[0m\u001b[0;34m,\u001b[0m \u001b[0mt_cell\u001b[0m \u001b[0;34m=\u001b[0m \u001b[0mmodel\u001b[0m\u001b[0;34m(\u001b[0m\u001b[0mt_prime\u001b[0m\u001b[0;34m,\u001b[0m \u001b[0mt_char\u001b[0m\u001b[0;34m,\u001b[0m \u001b[0mt_hidden\u001b[0m\u001b[0;34m,\u001b[0m \u001b[0mt_cell\u001b[0m\u001b[0;34m)\u001b[0m\u001b[0;34m\u001b[0m\u001b[0;34m\u001b[0m\u001b[0m\n\u001b[0m\u001b[1;32m     12\u001b[0m \u001b[0;34m\u001b[0m\u001b[0m\n\u001b[1;32m     13\u001b[0m         \u001b[0mt_target\u001b[0m \u001b[0;34m=\u001b[0m \u001b[0mname\u001b[0m\u001b[0;34m[\u001b[0m\u001b[0mchar_index\u001b[0m \u001b[0;34m+\u001b[0m \u001b[0;36m1\u001b[0m\u001b[0;34m]\u001b[0m\u001b[0;34m.\u001b[0m\u001b[0margmax\u001b[0m\u001b[0;34m(\u001b[0m\u001b[0;34m)\u001b[0m\u001b[0;34m.\u001b[0m\u001b[0munsqueeze\u001b[0m\u001b[0;34m(\u001b[0m\u001b[0;36m0\u001b[0m\u001b[0;34m)\u001b[0m\u001b[0;34m.\u001b[0m\u001b[0mto\u001b[0m\u001b[0;34m(\u001b[0m\u001b[0mdevice\u001b[0m\u001b[0;34m)\u001b[0m\u001b[0;34m\u001b[0m\u001b[0;34m\u001b[0m\u001b[0m\n",
      "\u001b[0;32m~/.local/lib/python3.9/site-packages/torch/nn/modules/module.py\u001b[0m in \u001b[0;36m_call_impl\u001b[0;34m(self, *input, **kwargs)\u001b[0m\n\u001b[1;32m    887\u001b[0m             \u001b[0mresult\u001b[0m \u001b[0;34m=\u001b[0m \u001b[0mself\u001b[0m\u001b[0;34m.\u001b[0m\u001b[0m_slow_forward\u001b[0m\u001b[0;34m(\u001b[0m\u001b[0;34m*\u001b[0m\u001b[0minput\u001b[0m\u001b[0;34m,\u001b[0m \u001b[0;34m**\u001b[0m\u001b[0mkwargs\u001b[0m\u001b[0;34m)\u001b[0m\u001b[0;34m\u001b[0m\u001b[0;34m\u001b[0m\u001b[0m\n\u001b[1;32m    888\u001b[0m         \u001b[0;32melse\u001b[0m\u001b[0;34m:\u001b[0m\u001b[0;34m\u001b[0m\u001b[0;34m\u001b[0m\u001b[0m\n\u001b[0;32m--> 889\u001b[0;31m             \u001b[0mresult\u001b[0m \u001b[0;34m=\u001b[0m \u001b[0mself\u001b[0m\u001b[0;34m.\u001b[0m\u001b[0mforward\u001b[0m\u001b[0;34m(\u001b[0m\u001b[0;34m*\u001b[0m\u001b[0minput\u001b[0m\u001b[0;34m,\u001b[0m \u001b[0;34m**\u001b[0m\u001b[0mkwargs\u001b[0m\u001b[0;34m)\u001b[0m\u001b[0;34m\u001b[0m\u001b[0;34m\u001b[0m\u001b[0m\n\u001b[0m\u001b[1;32m    890\u001b[0m         for hook in itertools.chain(\n\u001b[1;32m    891\u001b[0m                 \u001b[0m_global_forward_hooks\u001b[0m\u001b[0;34m.\u001b[0m\u001b[0mvalues\u001b[0m\u001b[0;34m(\u001b[0m\u001b[0;34m)\u001b[0m\u001b[0;34m,\u001b[0m\u001b[0;34m\u001b[0m\u001b[0;34m\u001b[0m\u001b[0m\n",
      "\u001b[0;32m<ipython-input-13-99277ee72c07>\u001b[0m in \u001b[0;36mforward\u001b[0;34m(self, t_prime, t_input, t_hidden, t_cell)\u001b[0m\n\u001b[1;32m     27\u001b[0m         \u001b[0;31m#              shape: (N, prime_size + input_size)\u001b[0m\u001b[0;34m\u001b[0m\u001b[0;34m\u001b[0m\u001b[0;34m\u001b[0m\u001b[0m\n\u001b[1;32m     28\u001b[0m         \u001b[0mlstm_input\u001b[0m \u001b[0;34m=\u001b[0m \u001b[0mtorch\u001b[0m\u001b[0;34m.\u001b[0m\u001b[0mcat\u001b[0m\u001b[0;34m(\u001b[0m\u001b[0;34m(\u001b[0m\u001b[0mt_prime\u001b[0m\u001b[0;34m,\u001b[0m \u001b[0mt_input\u001b[0m\u001b[0;34m)\u001b[0m\u001b[0;34m,\u001b[0m \u001b[0mdim\u001b[0m\u001b[0;34m=\u001b[0m\u001b[0;36m1\u001b[0m\u001b[0;34m)\u001b[0m\u001b[0;34m\u001b[0m\u001b[0;34m\u001b[0m\u001b[0m\n\u001b[0;32m---> 29\u001b[0;31m         \u001b[0mt_hidden\u001b[0m\u001b[0;34m,\u001b[0m \u001b[0mt_cell\u001b[0m \u001b[0;34m=\u001b[0m \u001b[0mself\u001b[0m\u001b[0;34m.\u001b[0m\u001b[0mlstm\u001b[0m\u001b[0;34m(\u001b[0m\u001b[0mlstm_input\u001b[0m\u001b[0;34m.\u001b[0m\u001b[0mfloat\u001b[0m\u001b[0;34m(\u001b[0m\u001b[0;34m)\u001b[0m\u001b[0;34m,\u001b[0m \u001b[0;34m(\u001b[0m\u001b[0mt_hidden\u001b[0m\u001b[0;34m,\u001b[0m \u001b[0mt_cell\u001b[0m\u001b[0;34m)\u001b[0m\u001b[0;34m)\u001b[0m\u001b[0;34m\u001b[0m\u001b[0;34m\u001b[0m\u001b[0m\n\u001b[0m\u001b[1;32m     30\u001b[0m \u001b[0;34m\u001b[0m\u001b[0m\n\u001b[1;32m     31\u001b[0m         \u001b[0;31m# t_output:    shape: (N, input_size)\u001b[0m\u001b[0;34m\u001b[0m\u001b[0;34m\u001b[0m\u001b[0;34m\u001b[0m\u001b[0m\n",
      "\u001b[0;32m~/.local/lib/python3.9/site-packages/torch/nn/modules/module.py\u001b[0m in \u001b[0;36m_call_impl\u001b[0;34m(self, *input, **kwargs)\u001b[0m\n\u001b[1;32m    887\u001b[0m             \u001b[0mresult\u001b[0m \u001b[0;34m=\u001b[0m \u001b[0mself\u001b[0m\u001b[0;34m.\u001b[0m\u001b[0m_slow_forward\u001b[0m\u001b[0;34m(\u001b[0m\u001b[0;34m*\u001b[0m\u001b[0minput\u001b[0m\u001b[0;34m,\u001b[0m \u001b[0;34m**\u001b[0m\u001b[0mkwargs\u001b[0m\u001b[0;34m)\u001b[0m\u001b[0;34m\u001b[0m\u001b[0;34m\u001b[0m\u001b[0m\n\u001b[1;32m    888\u001b[0m         \u001b[0;32melse\u001b[0m\u001b[0;34m:\u001b[0m\u001b[0;34m\u001b[0m\u001b[0;34m\u001b[0m\u001b[0m\n\u001b[0;32m--> 889\u001b[0;31m             \u001b[0mresult\u001b[0m \u001b[0;34m=\u001b[0m \u001b[0mself\u001b[0m\u001b[0;34m.\u001b[0m\u001b[0mforward\u001b[0m\u001b[0;34m(\u001b[0m\u001b[0;34m*\u001b[0m\u001b[0minput\u001b[0m\u001b[0;34m,\u001b[0m \u001b[0;34m**\u001b[0m\u001b[0mkwargs\u001b[0m\u001b[0;34m)\u001b[0m\u001b[0;34m\u001b[0m\u001b[0;34m\u001b[0m\u001b[0m\n\u001b[0m\u001b[1;32m    890\u001b[0m         for hook in itertools.chain(\n\u001b[1;32m    891\u001b[0m                 \u001b[0m_global_forward_hooks\u001b[0m\u001b[0;34m.\u001b[0m\u001b[0mvalues\u001b[0m\u001b[0;34m(\u001b[0m\u001b[0;34m)\u001b[0m\u001b[0;34m,\u001b[0m\u001b[0;34m\u001b[0m\u001b[0;34m\u001b[0m\u001b[0m\n",
      "\u001b[0;32m~/.local/lib/python3.9/site-packages/torch/nn/modules/rnn.py\u001b[0m in \u001b[0;36mforward\u001b[0;34m(self, input, hx)\u001b[0m\n\u001b[1;32m   1052\u001b[0m         \u001b[0mself\u001b[0m\u001b[0;34m.\u001b[0m\u001b[0mcheck_forward_hidden\u001b[0m\u001b[0;34m(\u001b[0m\u001b[0minput\u001b[0m\u001b[0;34m,\u001b[0m \u001b[0mhx\u001b[0m\u001b[0;34m[\u001b[0m\u001b[0;36m0\u001b[0m\u001b[0;34m]\u001b[0m\u001b[0;34m,\u001b[0m \u001b[0;34m'[0]'\u001b[0m\u001b[0;34m)\u001b[0m\u001b[0;34m\u001b[0m\u001b[0;34m\u001b[0m\u001b[0m\n\u001b[1;32m   1053\u001b[0m         \u001b[0mself\u001b[0m\u001b[0;34m.\u001b[0m\u001b[0mcheck_forward_hidden\u001b[0m\u001b[0;34m(\u001b[0m\u001b[0minput\u001b[0m\u001b[0;34m,\u001b[0m \u001b[0mhx\u001b[0m\u001b[0;34m[\u001b[0m\u001b[0;36m1\u001b[0m\u001b[0;34m]\u001b[0m\u001b[0;34m,\u001b[0m \u001b[0;34m'[1]'\u001b[0m\u001b[0;34m)\u001b[0m\u001b[0;34m\u001b[0m\u001b[0;34m\u001b[0m\u001b[0m\n\u001b[0;32m-> 1054\u001b[0;31m         return _VF.lstm_cell(\n\u001b[0m\u001b[1;32m   1055\u001b[0m             \u001b[0minput\u001b[0m\u001b[0;34m,\u001b[0m \u001b[0mhx\u001b[0m\u001b[0;34m,\u001b[0m\u001b[0;34m\u001b[0m\u001b[0;34m\u001b[0m\u001b[0m\n\u001b[1;32m   1056\u001b[0m             \u001b[0mself\u001b[0m\u001b[0;34m.\u001b[0m\u001b[0mweight_ih\u001b[0m\u001b[0;34m,\u001b[0m \u001b[0mself\u001b[0m\u001b[0;34m.\u001b[0m\u001b[0mweight_hh\u001b[0m\u001b[0;34m,\u001b[0m\u001b[0;34m\u001b[0m\u001b[0;34m\u001b[0m\u001b[0m\n",
      "\u001b[0;31mKeyboardInterrupt\u001b[0m: "
     ]
    }
   ],
   "source": [
    "for iter_index, samples in enumerate(train_dataloader):\n",
    "    assert len(samples) == 1\n",
    "    cat, name = samples[0]\n",
    "    t_hidden, t_cell = map(lambda x: x.to(device), model.init_hidden(1))\n",
    "    t_prime = cat.unsqueeze(0).to(device)\n",
    "    \n",
    "    model.zero_grad()\n",
    "    loss = 0\n",
    "    for char_index, char_vec in enumerate(name[:-1]):\n",
    "        t_char = char_vec.unsqueeze(0).to(device)\n",
    "        t_output, t_hidden, t_cell = model(t_prime, t_char, t_hidden, t_cell)\n",
    "        \n",
    "        t_target = name[char_index + 1].argmax().unsqueeze(0).to(device)\n",
    "        loss += criterion(t_output, t_target)\n",
    "    \n",
    "    loss.backward()\n",
    "    optimiser.step()\n",
    "    \n",
    "    name_loss = loss.item() / (len(name) - 1)\n",
    "    losses.append(name_loss)\n",
    "    \n",
    "    clear_output(wait=True)\n",
    "    plt.figure()\n",
    "    plt.plot(losses, scalex=True)\n",
    "    plt.title(\"Loss\")\n",
    "    plt.grid(True)\n",
    "    plt.show()\n",
    "    \n",
    "    print(\"{} - {}\".format(name_loss, generate()))\n",
    "    \n",
    "    if iter_index + 1 >= num_iters:\n",
    "        break\n"
   ]
  },
  {
   "cell_type": "markdown",
   "id": "efec3c84",
   "metadata": {
    "id": "GYlp2s15w8e-"
   },
   "source": [
    "# Post-Training Eval"
   ]
  },
  {
   "cell_type": "code",
   "execution_count": 50,
   "id": "aa77bf88",
   "metadata": {},
   "outputs": [
    {
     "data": {
      "text/plain": [
       "'aaaaaaaaaa'"
      ]
     },
     "execution_count": 50,
     "metadata": {},
     "output_type": "execute_result"
    }
   ],
   "source": [
    "generate()"
   ]
  },
  {
   "cell_type": "code",
   "execution_count": null,
   "id": "49ac3484",
   "metadata": {},
   "outputs": [],
   "source": []
  }
 ],
 "metadata": {
  "accelerator": "GPU",
  "colab": {
   "collapsed_sections": [],
   "name": "namegen.ipynb",
   "provenance": []
  },
  "kernelspec": {
   "display_name": "Python 3",
   "language": "python",
   "name": "python3"
  },
  "language_info": {
   "codemirror_mode": {
    "name": "ipython",
    "version": 3
   },
   "file_extension": ".py",
   "mimetype": "text/x-python",
   "name": "python",
   "nbconvert_exporter": "python",
   "pygments_lexer": "ipython3",
   "version": "3.9.5"
  }
 },
 "nbformat": 4,
 "nbformat_minor": 5
}
