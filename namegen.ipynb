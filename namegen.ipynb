{
 "cells": [
  {
   "cell_type": "code",
   "execution_count": 108,
   "id": "fea1effd",
   "metadata": {
    "id": "fea1effd"
   },
   "outputs": [],
   "source": [
    "import torch\n",
    "from torch import nn, optim\n",
    "import torch.nn.functional as F\n",
    "\n",
    "from torch.utils.data import Dataset, DataLoader\n",
    "\n",
    "import string\n",
    "import unicodedata\n",
    "from pathlib import Path\n",
    "import collections\n",
    "import itertools\n",
    "import time\n",
    "import math\n",
    "import random\n",
    "\n",
    "import numpy as np\n",
    "\n",
    "from IPython.display import clear_output\n",
    "from matplotlib import pyplot as plt\n",
    "%matplotlib inline"
   ]
  },
  {
   "cell_type": "code",
   "execution_count": 2,
   "id": "faa22642",
   "metadata": {
    "id": "faa22642"
   },
   "outputs": [],
   "source": [
    "device = torch.device('cuda' if torch.cuda.is_available() else 'cpu')"
   ]
  },
  {
   "cell_type": "markdown",
   "id": "a06a27b6",
   "metadata": {
    "id": "a06a27b6"
   },
   "source": [
    "# Loading Data"
   ]
  },
  {
   "cell_type": "code",
   "execution_count": 3,
   "id": "401699a8",
   "metadata": {
    "id": "401699a8"
   },
   "outputs": [],
   "source": [
    "# name data from: https://download.pytorch.org/tutorial/data.zip"
   ]
  },
  {
   "cell_type": "code",
   "execution_count": 4,
   "id": "iXNYEWStoP8l",
   "metadata": {
    "colab": {
     "base_uri": "https://localhost:8080/"
    },
    "id": "iXNYEWStoP8l",
    "outputId": "dae8835b-50c4-4386-88e4-6ee9ffb9d6aa"
   },
   "outputs": [],
   "source": [
    "if not Path(\"names\").is_dir():\n",
    "  !curl \"https://download.pytorch.org/tutorial/data.zip\" -o \"data.zip\"\n",
    "  !unzip -j \"data.zip\" \"data/names/*\" -d \"names\""
   ]
  },
  {
   "cell_type": "code",
   "execution_count": 5,
   "id": "825785f4",
   "metadata": {
    "colab": {
     "base_uri": "https://localhost:8080/"
    },
    "id": "825785f4",
    "outputId": "849782ba-b7ce-449c-bdc3-3383d6b74694"
   },
   "outputs": [
    {
     "name": "stdout",
     "output_type": "stream",
     "text": [
      "abcdefghijklmnopqrstuvwxyzABCDEFGHIJKLMNOPQRSTUVWXYZ .,;'-\n"
     ]
    }
   ],
   "source": [
    "all_chars = string.ascii_letters + \" .,;'-\"\n",
    "print(all_chars)"
   ]
  },
  {
   "cell_type": "code",
   "execution_count": 6,
   "id": "4238dc91",
   "metadata": {
    "id": "4238dc91"
   },
   "outputs": [],
   "source": [
    "def sanitise_line(line):\n",
    "    # https://stackoverflow.com/a/518232/5013267\n",
    "    return ''.join(\n",
    "        c for c in unicodedata.normalize('NFD', line)\n",
    "        if unicodedata.category(c) != 'Mn'\n",
    "        and c in all_chars\n",
    "    )"
   ]
  },
  {
   "cell_type": "code",
   "execution_count": 7,
   "id": "6d017916",
   "metadata": {
    "colab": {
     "base_uri": "https://localhost:8080/"
    },
    "id": "6d017916",
    "outputId": "7dbbc50f-166b-4a1a-ef7c-da0b1835a7fd"
   },
   "outputs": [
    {
     "name": "stdout",
     "output_type": "stream",
     "text": [
      "Loaded: names/Arabic.txt\n",
      "Loaded: names/Chinese.txt\n",
      "Loaded: names/Czech.txt\n",
      "Loaded: names/Dutch.txt\n",
      "Loaded: names/English.txt\n",
      "Loaded: names/French.txt\n",
      "Loaded: names/German.txt\n",
      "Loaded: names/Greek.txt\n",
      "Loaded: names/Irish.txt\n",
      "Loaded: names/Italian.txt\n",
      "Loaded: names/Japanese.txt\n",
      "Loaded: names/Korean.txt\n",
      "Loaded: names/Polish.txt\n",
      "Loaded: names/Portuguese.txt\n",
      "Loaded: names/Russian.txt\n",
      "Loaded: names/Scottish.txt\n",
      "Loaded: names/Spanish.txt\n",
      "Loaded: names/Vietnamese.txt\n"
     ]
    }
   ],
   "source": [
    "name_data = {}\n",
    "for path in Path(\"names\").rglob(\"*.txt\"):\n",
    "    with open(path, \"r\", encoding=\"utf8\") as f:\n",
    "        names = []\n",
    "        for line in f.read().strip().split(\"\\n\"):\n",
    "            names.append(sanitise_line(line))\n",
    "        name_data[path.stem] = names\n",
    "    \n",
    "    print(f\"Loaded: {path}\")"
   ]
  },
  {
   "cell_type": "markdown",
   "id": "5444971a",
   "metadata": {
    "id": "5444971a"
   },
   "source": [
    "# Data Preparation Stuff"
   ]
  },
  {
   "cell_type": "code",
   "execution_count": 8,
   "id": "053a6dfe",
   "metadata": {
    "id": "053a6dfe"
   },
   "outputs": [],
   "source": [
    "class OneHotTranslator:\n",
    "    def __init__(self, elements):\n",
    "        self.elements = elements\n",
    "        self.n_elements = len(self.elements)\n",
    "        \n",
    "    def index_to_vec(self, index):\n",
    "        return F.one_hot(torch.tensor([index]), num_classes=self.n_elements)[0]\n",
    "    \n",
    "    def index_from_vec(self, vec):\n",
    "        return vec.argmax()\n",
    "    \n",
    "    def elm_to_vec(self, elm):\n",
    "        return self.index_to_vec(self.elements.index(elm))\n",
    "    \n",
    "    def elm_from_vec(self, vec):\n",
    "        return self.elements[int(self.index_from_vec(vec))]\n",
    "    \n",
    "    def __len__(self):\n",
    "        return self.n_elements\n",
    "    \n",
    "    def __getitem__(self, val):\n",
    "        if isinstance(val, int):\n",
    "            return self.index_to_vec(val)\n",
    "        else:\n",
    "            return self.elm_to_vec(val)"
   ]
  },
  {
   "cell_type": "code",
   "execution_count": 9,
   "id": "49ebe20e",
   "metadata": {
    "colab": {
     "base_uri": "https://localhost:8080/"
    },
    "id": "49ebe20e",
    "outputId": "1b8c09a4-7539-45a0-c092-7d284cfe7909"
   },
   "outputs": [
    {
     "name": "stdout",
     "output_type": "stream",
     "text": [
      "('Arabic', 'Chinese', 'Czech', 'Dutch', 'English', 'French', 'German', 'Greek', 'Irish', 'Italian', 'Japanese', 'Korean', 'Polish', 'Portuguese', 'Russian', 'Scottish', 'Spanish', 'Vietnamese')\n",
      "len: 18\n"
     ]
    }
   ],
   "source": [
    "category_translator = OneHotTranslator(tuple(name_data.keys()))\n",
    "print(category_translator.elements)\n",
    "print(\"len:\", len(category_translator))"
   ]
  },
  {
   "cell_type": "code",
   "execution_count": 10,
   "id": "8558c55e",
   "metadata": {
    "colab": {
     "base_uri": "https://localhost:8080/"
    },
    "id": "8558c55e",
    "outputId": "23299b8f-f390-432b-b4f1-fa3fadf72fbe"
   },
   "outputs": [
    {
     "name": "stdout",
     "output_type": "stream",
     "text": [
      "['<SOS>', '<EOS>', 'a', 'b', 'c', 'd', 'e', 'f', 'g', 'h', 'i', 'j', 'k', 'l', 'm', 'n', 'o', 'p', 'q', 'r', 's', 't', 'u', 'v', 'w', 'x', 'y', 'z', 'A', 'B', 'C', 'D', 'E', 'F', 'G', 'H', 'I', 'J', 'K', 'L', 'M', 'N', 'O', 'P', 'Q', 'R', 'S', 'T', 'U', 'V', 'W', 'X', 'Y', 'Z', ' ', '.', ',', ';', \"'\", '-']\n",
      "len: 60\n"
     ]
    }
   ],
   "source": [
    "char_translator = OneHotTranslator([\"<SOS>\", \"<EOS>\"] + list(all_chars))\n",
    "print(char_translator.elements)\n",
    "print(\"len:\", len(char_translator))"
   ]
  },
  {
   "cell_type": "code",
   "execution_count": 11,
   "id": "00ab33df",
   "metadata": {
    "id": "00ab33df"
   },
   "outputs": [],
   "source": [
    "# convenience functions\n",
    "def build_name(name, fixed_length):\n",
    "    \"\"\"\n",
    "    Build a list of one-hot encoded vectors representing the given name string\n",
    "    \"\"\"\n",
    "    ret = [char_translator.elm_to_vec(char) for char in ([\"<SOS>\"] + list(name) + [\"<EOS>\"])]\n",
    "    \n",
    "    while len(ret) < fixed_length:\n",
    "        ret.append(char_translator.elm_to_vec(\"<EOS>\"))\n",
    "    \n",
    "    return ret\n",
    "\n",
    "def unbuild_name(t_chars):\n",
    "    \"\"\"\n",
    "    Inverse of build_name\n",
    "    \"\"\"\n",
    "    return \"\".join([char_translator.elm_from_vec(vec) for vec in t_chars])\n",
    "\n",
    "def build_category(category):\n",
    "    \"\"\"\n",
    "    Build a one-hot encoded vector representing the given category string\n",
    "    \"\"\"\n",
    "    return category_translator.elm_to_vec(category)\n",
    "\n",
    "def unbuild_category(vec):\n",
    "    \"\"\"\n",
    "    Inverse of build_category\n",
    "    \"\"\"\n",
    "    return category_translator.elm_from_vec(vec)"
   ]
  },
  {
   "cell_type": "code",
   "execution_count": 12,
   "id": "55cc5372",
   "metadata": {
    "id": "55cc5372"
   },
   "outputs": [],
   "source": [
    "# torch.stack(build_name(\"hi\", 10)).shape"
   ]
  },
  {
   "cell_type": "code",
   "execution_count": 13,
   "id": "03438995",
   "metadata": {
    "id": "03438995"
   },
   "outputs": [],
   "source": [
    "# simple Dataset class wrapper around the above variables\n",
    "class NamesDataset(Dataset):\n",
    "    def __init__(self, max_length):\n",
    "        self.max_length = max_length\n",
    "        self._data_pairs = [(cat, name) for cat in name_data for name in name_data[cat]]\n",
    "    \n",
    "    def __len__(self):\n",
    "        return len(self._data_pairs)\n",
    "    \n",
    "    def __getitem__(self, index):\n",
    "        cat, name = self._data_pairs[index]\n",
    "        return build_category(cat), build_name(name, self.max_length)"
   ]
  },
  {
   "cell_type": "markdown",
   "id": "f16ef4cc",
   "metadata": {
    "id": "f16ef4cc"
   },
   "source": [
    "# Neural"
   ]
  },
  {
   "cell_type": "code",
   "execution_count": 14,
   "id": "898e2caf",
   "metadata": {
    "id": "898e2caf"
   },
   "outputs": [],
   "source": [
    "class SeqModel(nn.Module):\n",
    "    def __init__(self, prime_size, input_size):\n",
    "        super().__init__()\n",
    "        self.prime_size = prime_size\n",
    "        self.input_size = input_size\n",
    "        self.hidden_size = 128\n",
    "        \n",
    "        self.lstm = nn.LSTMCell(self.input_size + self.prime_size, self.hidden_size)\n",
    "        \n",
    "        # NB: output size = input size\n",
    "        self.fc = nn.Linear(self.hidden_size, 60)\n",
    "        self.fc2 = nn.Linear(60, self.input_size)\n",
    "        \n",
    "        self.dropout = nn.Dropout(0.1)\n",
    "        self.dropout2 = nn.Dropout(0.1)\n",
    "        self.lsoftmax = nn.LogSoftmax(dim=1)\n",
    "        \n",
    "    def forward(self, t_prime, t_input, t_hidden, t_cell):\n",
    "        # t_prime:     batches of vectors for the LSTM to be primed on\n",
    "        #              shape: (N, prime_size)\n",
    "        #\n",
    "        # t_input:     shape: (N, input_size)\n",
    "        #              t_input[0]: one-hot vector encoding of a character\n",
    "        #\n",
    "        # t_hidden:    shape: (N, hidden_size)\n",
    "        #\n",
    "        # t_cell:      shape: (N, hidden_size)\n",
    "        \n",
    "        # lstm_input:  t_prime and t_input concated together\n",
    "        #              shape: (N, prime_size + input_size)\n",
    "        lstm_input = torch.cat((t_prime, t_input), dim=1)\n",
    "        t_hidden, t_cell = self.lstm(lstm_input.float(), (t_hidden, t_cell))\n",
    "        \n",
    "        # t_output:    shape: (N, input_size)\n",
    "        #              NB: t_output's shape = t_input's shape\n",
    "        t_output = self.fc(self.dropout(t_hidden))\n",
    "        t_output = self.fc2(self.dropout2(F.relu(t_output)))\n",
    "        t_output = self.lsoftmax(t_output)\n",
    "        \n",
    "        return t_output, t_hidden, t_cell\n",
    "    \n",
    "    def init_hidden(self, batch_size=1):\n",
    "        t_hidden = torch.zeros(batch_size, self.hidden_size)\n",
    "        t_cell = torch.zeros(batch_size, self.hidden_size)\n",
    "        \n",
    "        return t_hidden, t_cell"
   ]
  },
  {
   "cell_type": "code",
   "execution_count": 557,
   "id": "49c87a9c",
   "metadata": {
    "colab": {
     "base_uri": "https://localhost:8080/"
    },
    "id": "49c87a9c",
    "outputId": "7f3407b5-4f51-46c6-a02f-a5107f7afc02"
   },
   "outputs": [
    {
     "data": {
      "text/plain": [
       "SeqModel(\n",
       "  (lstm): LSTMCell(78, 128)\n",
       "  (fc): Linear(in_features=128, out_features=60, bias=True)\n",
       "  (fc2): Linear(in_features=60, out_features=60, bias=True)\n",
       "  (dropout): Dropout(p=0.1, inplace=False)\n",
       "  (dropout2): Dropout(p=0.1, inplace=False)\n",
       "  (lsoftmax): LogSoftmax(dim=1)\n",
       ")"
      ]
     },
     "execution_count": 557,
     "metadata": {},
     "output_type": "execute_result"
    }
   ],
   "source": [
    "model = SeqModel(len(category_translator), len(char_translator))\n",
    "model.to(device)"
   ]
  },
  {
   "cell_type": "code",
   "execution_count": 558,
   "id": "a801687f",
   "metadata": {
    "id": "a801687f"
   },
   "outputs": [
    {
     "name": "stdout",
     "output_type": "stream",
     "text": [
      "t_prime shape:\t torch.Size([1, 18])\n",
      "t_input shape:\t torch.Size([1, 60])\n",
      "t_hidden shape:\t torch.Size([1, 128])\n",
      "t_cell shape:\t torch.Size([1, 128])\n"
     ]
    }
   ],
   "source": [
    "test_category_index = 0\n",
    "\n",
    "t_prime = category_translator[test_category_index].view(1, len(category_translator))\n",
    "print(\"t_prime shape:\\t\", t_prime.shape)\n",
    "\n",
    "t_input = char_translator[\"<SOS>\"].view(1, len(char_translator))\n",
    "print(\"t_input shape:\\t\", t_input.shape)\n",
    "\n",
    "t_hidden, t_cell = model.init_hidden(1)\n",
    "print(\"t_hidden shape:\\t\", t_hidden.shape)\n",
    "print(\"t_cell shape:\\t\", t_cell.shape)"
   ]
  },
  {
   "cell_type": "code",
   "execution_count": 559,
   "id": "e93534b0",
   "metadata": {
    "id": "e93534b0"
   },
   "outputs": [
    {
     "name": "stdout",
     "output_type": "stream",
     "text": [
      "t_output shape:\t torch.Size([1, 60])\n",
      "t_hidden shape:\t torch.Size([1, 128])\n",
      "t_cell shape:\t torch.Size([1, 128])\n"
     ]
    }
   ],
   "source": [
    "t_output, t_hidden, t_cell = model.forward(t_prime, t_input, t_hidden, t_cell)\n",
    "print(\"t_output shape:\\t\", t_output.shape)\n",
    "print(\"t_hidden shape:\\t\", t_hidden.shape)\n",
    "print(\"t_cell shape:\\t\", t_cell.shape)"
   ]
  },
  {
   "cell_type": "code",
   "execution_count": 351,
   "id": "908710a2",
   "metadata": {},
   "outputs": [],
   "source": [
    "vec = t_output[0]"
   ]
  },
  {
   "cell_type": "code",
   "execution_count": 352,
   "id": "2877726a",
   "metadata": {},
   "outputs": [
    {
     "data": {
      "text/plain": [
       "28"
      ]
     },
     "execution_count": 352,
     "metadata": {},
     "output_type": "execute_result"
    }
   ],
   "source": [
    "random.choices(range(len(vec)), weights=-1/vec)[0]"
   ]
  },
  {
   "cell_type": "code",
   "execution_count": 615,
   "id": "d09442d5",
   "metadata": {},
   "outputs": [
    {
     "data": {
      "text/plain": [
       "torch.Size([64, 60])"
      ]
     },
     "execution_count": 615,
     "metadata": {},
     "output_type": "execute_result"
    }
   ],
   "source": [
    "t_output.shape"
   ]
  },
  {
   "cell_type": "code",
   "execution_count": 614,
   "id": "597e2dbc",
   "metadata": {},
   "outputs": [
    {
     "data": {
      "text/plain": [
       "torch.Size([64, 60])"
      ]
     },
     "execution_count": 614,
     "metadata": {},
     "output_type": "execute_result"
    }
   ],
   "source": [
    "torch.stack([torch.tensor(np.eye(len(vec))[2]) for vec in t_output]).shape"
   ]
  },
  {
   "cell_type": "code",
   "execution_count": 607,
   "id": "77c10c73",
   "metadata": {},
   "outputs": [
    {
     "data": {
      "text/plain": [
       "tensor([0., 0., 1., 0., 0., 0., 0., 0., 0., 0., 0., 0., 0., 0., 0., 0., 0., 0.,\n",
       "        0., 0., 0., 0., 0., 0., 0., 0., 0., 0., 0., 0., 0., 0., 0., 0., 0., 0.,\n",
       "        0., 0., 0., 0., 0., 0., 0., 0., 0., 0., 0., 0., 0., 0., 0., 0., 0., 0.,\n",
       "        0., 0., 0., 0., 0., 0.], dtype=torch.float64)"
      ]
     },
     "execution_count": 607,
     "metadata": {},
     "output_type": "execute_result"
    }
   ],
   "source": [
    "torch.tensor(np.eye(len(vec))[2]).to(device)"
   ]
  },
  {
   "cell_type": "code",
   "execution_count": 354,
   "id": "889cb622",
   "metadata": {},
   "outputs": [
    {
     "data": {
      "text/plain": [
       "tensor([0.0212, 0.0536, 0.0343, 0.0155, 0.0166, 0.0067, 0.0260, 0.0210, 0.0143,\n",
       "        0.0301, 0.0545, 0.0180, 0.0037, 0.0063, 0.0057, 0.0025, 0.0694, 0.0085,\n",
       "        0.0196, 0.0093, 0.0484, 0.0121, 0.0406, 0.0059, 0.0182, 0.0171, 0.0269,\n",
       "        0.0272, 0.2752, 0.2696, 0.1918, 0.2128, 0.1561, 0.1681, 0.2250, 0.2324,\n",
       "        0.1148, 0.1655, 0.2386, 0.1893, 0.2722, 0.1932, 0.1370, 0.1977, 0.0596,\n",
       "        0.2005, 0.3034, 0.2316, 0.0840, 0.1704, 0.1390, 0.0314, 0.1315, 0.1460,\n",
       "        0.0220, 0.0212, 0.0226, 0.0212, 0.0231, 0.0233], grad_fn=<ExpBackward>)"
      ]
     },
     "execution_count": 354,
     "metadata": {},
     "output_type": "execute_result"
    }
   ],
   "source": [
    "# preds = vec.detach().numpy().astype(\"float64\")\n",
    "preds = torch.exp(vec / 2.0)\n",
    "preds"
   ]
  },
  {
   "cell_type": "code",
   "execution_count": 535,
   "id": "8c0200ec",
   "metadata": {},
   "outputs": [
    {
     "data": {
      "text/plain": [
       "tensor([ -7.7072,  -5.8543,  -6.7464,  -8.3364,  -8.1938, -10.0252,  -7.2955,\n",
       "         -7.7218,  -8.4883,  -7.0079,  -5.8183,  -8.0318, -11.2012, -10.1347,\n",
       "        -10.3300, -11.9873,  -5.3360,  -9.5332,  -7.8655,  -9.3463,  -6.0556,\n",
       "         -8.8357,  -6.4091, -10.2796,  -8.0143,  -8.1349,  -7.2310,  -7.2127,\n",
       "         -2.5804,  -2.6217,  -3.3024,  -3.0947,  -3.7148,  -3.5669,  -2.9830,\n",
       "         -2.9190,  -4.3293,  -3.5972,  -2.8663,  -3.3287,  -2.6026,  -3.2886,\n",
       "         -3.9762,  -3.2422,  -5.6389,  -3.2138,  -2.3852,  -2.9256,  -4.9544,\n",
       "         -3.5387,  -3.9468,  -6.9224,  -4.0580,  -3.8489,  -7.6345,  -7.7072,\n",
       "         -7.5833,  -7.7072,  -7.5360,  -7.5212], grad_fn=<SelectBackward>)"
      ]
     },
     "execution_count": 535,
     "metadata": {},
     "output_type": "execute_result"
    }
   ],
   "source": [
    "vec"
   ]
  },
  {
   "cell_type": "code",
   "execution_count": 547,
   "id": "77df6dca",
   "metadata": {},
   "outputs": [
    {
     "data": {
      "text/plain": [
       "[47]"
      ]
     },
     "execution_count": 547,
     "metadata": {},
     "output_type": "execute_result"
    }
   ],
   "source": [
    "random.choices(range(len(vec)), torch.exp(vec/2.0))"
   ]
  },
  {
   "cell_type": "code",
   "execution_count": 549,
   "id": "d6d7f433",
   "metadata": {},
   "outputs": [
    {
     "data": {
      "text/plain": [
       "'T'"
      ]
     },
     "execution_count": 549,
     "metadata": {},
     "output_type": "execute_result"
    }
   ],
   "source": [
    "char_translator.elements[47]"
   ]
  },
  {
   "cell_type": "code",
   "execution_count": 674,
   "id": "15259704",
   "metadata": {},
   "outputs": [
    {
     "data": {
      "text/plain": [
       "tensor([[1, 2, 3],\n",
       "        [4, 5, 6]])"
      ]
     },
     "execution_count": 674,
     "metadata": {},
     "output_type": "execute_result"
    }
   ],
   "source": [
    "torch.tensor([[1,2,3],[4,5,6]])"
   ]
  },
  {
   "cell_type": "markdown",
   "id": "2fd89a54",
   "metadata": {
    "id": "2fd89a54"
   },
   "source": [
    "# Eval"
   ]
  },
  {
   "cell_type": "code",
   "execution_count": 788,
   "id": "9b15a13c",
   "metadata": {},
   "outputs": [
    {
     "data": {
      "text/plain": [
       "array([[0., 0.],\n",
       "       [0., 0.],\n",
       "       [0., 0.]])"
      ]
     },
     "execution_count": 788,
     "metadata": {},
     "output_type": "execute_result"
    }
   ],
   "source": [
    "np.zeros((3,2))"
   ]
  },
  {
   "cell_type": "code",
   "execution_count": 834,
   "id": "c0ade28f",
   "metadata": {
    "id": "c0ade28f"
   },
   "outputs": [],
   "source": [
    "def generate(max_length, category_name=\"German\", N=3, ignore=True, temperature=1.0):\n",
    "    with torch.no_grad():\n",
    "        t_prime = category_translator[category_name].unsqueeze(0).repeat((N, 1)).to(device)\n",
    "        t_char = char_translator[\"<SOS>\"].unsqueeze(0).repeat((N, 1)).to(device)\n",
    "        t_hidden, t_cell = map(lambda x: x.to(device), model.init_hidden(N))\n",
    "\n",
    "        output_dict = collections.defaultdict(str)\n",
    "        done_set = []\n",
    "        for char_index in range(max_length):\n",
    "            t_output, t_hidden, t_cell = model(t_prime, t_char, t_hidden, t_cell)\n",
    "#             print(t_char.shape)\n",
    "#             print(t_output.shape)\n",
    "            \n",
    "            sel_chars = np.zeros((N, len(char_translator)))\n",
    "            for n in range(N):\n",
    "                if ignore and n in done_set:\n",
    "                    sel_chars[n] = char_translator.elm_to_vec(\"<EOS>\")\n",
    "                    continue\n",
    "                    \n",
    "#                 translated_char = char_translator.elm_from_vec(t_output[n])                    \n",
    "#                 translated_char = char_translator.elements[random.choices(range(len(vec)), weights=-1/vec)[0]]\n",
    "#                 translated_char = char_translator.elements[random.choices(range(len(vec)), weights=np.eye(len(vec))[vec.argmax()])[0]]\n",
    "                vec = t_output[n]\n",
    "#                 sel_index = vec.argmax()\n",
    "                sel_index = random.choices(range(len(vec)), weights=torch.exp(vec / temperature))[0]\n",
    "                translated_char = char_translator.elements[sel_index]\n",
    "        \n",
    "                sel_chars[n] = np.eye(len(vec))[sel_index]\n",
    "    \n",
    "                if ignore and translated_char == \"<EOS>\":\n",
    "                    done_set.append(n)\n",
    "                    continue\n",
    "                    \n",
    "                output_dict[n] += translated_char\n",
    "            t_char = torch.tensor(sel_chars).to(device)\n",
    "        \n",
    "        return [output_dict[n] for n in range(N)]"
   ]
  },
  {
   "cell_type": "code",
   "execution_count": 839,
   "id": "6bfdbb01",
   "metadata": {},
   "outputs": [
    {
     "data": {
      "text/plain": [
       "['.', 'l', 'hZz']"
      ]
     },
     "execution_count": 839,
     "metadata": {},
     "output_type": "execute_result"
    }
   ],
   "source": [
    "generate(max_length, \"German\", ignore=True, temperature=0.3)"
   ]
  },
  {
   "cell_type": "code",
   "execution_count": 685,
   "id": "b137c262",
   "metadata": {},
   "outputs": [],
   "source": [
    "sel_chars = [torch.tensor([0., 0., 0., 0., 0., 0., 0., 0., 0., 0., 0., 0., 0., 0., 0., 0., 0., 0.,\n",
    "        0., 0., 0., 0., 0., 0., 0., 0., 0., 0., 0., 0., 0., 0., 0., 0., 0., 0.,\n",
    "        0., 0., 0., 0., 0., 0., 0., 0., 0., 0., 0., 0., 0., 0., 0., 0., 0., 0.,\n",
    "        0., 0., 0., 0., 1., 0.], dtype=torch.float64), torch.tensor([0., 0., 0., 0., 0., 0., 0., 0., 0., 0., 0., 0., 0., 0., 0., 0., 0., 0.,\n",
    "        0., 0., 0., 0., 0., 0., 0., 0., 0., 1., 0., 0., 0., 0., 0., 0., 0., 0.,\n",
    "        0., 0., 0., 0., 0., 0., 0., 0., 0., 0., 0., 0., 0., 0., 0., 0., 0., 0.,\n",
    "        0., 0., 0., 0., 0., 0.], dtype=torch.float64), torch.tensor([0., 0., 0., 0., 0., 0., 0., 0., 0., 0., 1., 0., 0., 0., 0., 0., 0., 0.,\n",
    "        0., 0., 0., 0., 0., 0., 0., 0., 0., 0., 0., 0., 0., 0., 0., 0., 0., 0.,\n",
    "        0., 0., 0., 0., 0., 0., 0., 0., 0., 0., 0., 0., 0., 0., 0., 0., 0., 0.,\n",
    "        0., 0., 0., 0., 0., 0.], dtype=torch.float64)]"
   ]
  },
  {
   "cell_type": "code",
   "execution_count": 691,
   "id": "257990c5",
   "metadata": {},
   "outputs": [
    {
     "ename": "ValueError",
     "evalue": "only one element tensors can be converted to Python scalars",
     "output_type": "error",
     "traceback": [
      "\u001b[0;31m---------------------------------------------------------------------------\u001b[0m",
      "\u001b[0;31mValueError\u001b[0m                                Traceback (most recent call last)",
      "\u001b[0;32m<ipython-input-691-cb29d12a9e2b>\u001b[0m in \u001b[0;36m<module>\u001b[0;34m\u001b[0m\n\u001b[0;32m----> 1\u001b[0;31m \u001b[0mtorch\u001b[0m\u001b[0;34m.\u001b[0m\u001b[0mtensor\u001b[0m\u001b[0;34m(\u001b[0m\u001b[0msel_chars\u001b[0m\u001b[0;34m,\u001b[0m \u001b[0mdtype\u001b[0m\u001b[0;34m=\u001b[0m\u001b[0mtorch\u001b[0m\u001b[0;34m.\u001b[0m\u001b[0mfloat64\u001b[0m\u001b[0;34m)\u001b[0m\u001b[0;34m\u001b[0m\u001b[0;34m\u001b[0m\u001b[0m\n\u001b[0m",
      "\u001b[0;31mValueError\u001b[0m: only one element tensors can be converted to Python scalars"
     ]
    }
   ],
   "source": [
    "torch.tensor(sel_chars, dtype=torch.float64)"
   ]
  },
  {
   "cell_type": "markdown",
   "id": "5df83805",
   "metadata": {
    "id": "5df83805"
   },
   "source": [
    "# Training"
   ]
  },
  {
   "cell_type": "code",
   "execution_count": 565,
   "id": "f8d830b6",
   "metadata": {
    "colab": {
     "base_uri": "https://localhost:8080/"
    },
    "id": "f8d830b6",
    "outputId": "2fe2f825-e1ad-400b-bd73-a65660e1fb24"
   },
   "outputs": [
    {
     "name": "stdout",
     "output_type": "stream",
     "text": [
      "22\n"
     ]
    }
   ],
   "source": [
    "max_length = max([len(name) for name in itertools.chain(*name_data.values())]) + 2  # +2 for SOS and EOS\n",
    "print(max_length)"
   ]
  },
  {
   "cell_type": "code",
   "execution_count": 566,
   "id": "dc041adf",
   "metadata": {
    "colab": {
     "base_uri": "https://localhost:8080/"
    },
    "id": "dc041adf",
    "outputId": "c657d674-4aaa-4668-ba0a-38e2ca7a76a0"
   },
   "outputs": [
    {
     "name": "stdout",
     "output_type": "stream",
     "text": [
      "20074\n"
     ]
    }
   ],
   "source": [
    "sample_count = len(tuple(itertools.chain(*name_data.values())))\n",
    "print(sample_count)"
   ]
  },
  {
   "cell_type": "code",
   "execution_count": 567,
   "id": "1c2a2119",
   "metadata": {
    "id": "1c2a2119"
   },
   "outputs": [],
   "source": [
    "# config\n",
    "batch_size = 64\n",
    "num_epochs = 100\n",
    "num_batches = math.ceil(sample_count/batch_size) * num_epochs\n",
    "learning_rate = 0.0003\n",
    "save_every = 50\n",
    "plot_limit = None"
   ]
  },
  {
   "cell_type": "code",
   "execution_count": 568,
   "id": "14f6e094",
   "metadata": {
    "colab": {
     "base_uri": "https://localhost:8080/"
    },
    "id": "14f6e094",
    "outputId": "57999d9c-c0ed-4d5b-b31e-04e67e8b6bfa"
   },
   "outputs": [
    {
     "data": {
      "text/plain": [
       "31400"
      ]
     },
     "execution_count": 568,
     "metadata": {},
     "output_type": "execute_result"
    }
   ],
   "source": [
    "num_batches"
   ]
  },
  {
   "cell_type": "code",
   "execution_count": 569,
   "id": "141937b6",
   "metadata": {
    "id": "141937b6"
   },
   "outputs": [],
   "source": [
    "train_dataloader = DataLoader(NamesDataset(max_length), batch_size=batch_size, shuffle=True, collate_fn=lambda x: x)"
   ]
  },
  {
   "cell_type": "code",
   "execution_count": 570,
   "id": "a0f17cce",
   "metadata": {
    "id": "a0f17cce"
   },
   "outputs": [],
   "source": [
    "losses = collections.deque(maxlen=plot_limit)"
   ]
  },
  {
   "cell_type": "code",
   "execution_count": 571,
   "id": "1d66e2d1",
   "metadata": {
    "id": "1d66e2d1"
   },
   "outputs": [],
   "source": [
    "criterion = nn.NLLLoss()\n",
    "optimiser = optim.Adam(model.parameters(), lr=learning_rate, weight_decay=0.01)\n",
    "# optimiser = optim.SGD(model.parameters(), lr=learning_rate, momentum=0.9)"
   ]
  },
  {
   "cell_type": "code",
   "execution_count": 845,
   "id": "0c987d9a",
   "metadata": {},
   "outputs": [],
   "source": [
    "save_path = Path(\"save/\")\n",
    "save_path.mkdir(parents=True, exist_ok=True)\n",
    "should_save = False\n",
    "model_name = \"ablp_c\""
   ]
  },
  {
   "cell_type": "code",
   "execution_count": 846,
   "id": "845d094c",
   "metadata": {},
   "outputs": [
    {
     "name": "stdout",
     "output_type": "stream",
     "text": [
      "Found:  save/ablp_c_162333.pth\n",
      "Found:  save/ablp_c_162334.pth\n",
      "Loaded:  save/ablp_c_162334.pth\n"
     ]
    }
   ],
   "source": [
    "model_path = None\n",
    "for model_path in sorted(save_path.rglob(model_name + \"*.pth\")):\n",
    "    print(\"Found: \", model_path)\n",
    "\n",
    "if model_path is not None:\n",
    "    model = torch.load(model_path, map_location=device)\n",
    "    model.to(device)\n",
    "    model.eval()\n",
    "    print(\"Loaded: \", model_path)\n",
    "else:\n",
    "    print(\"No saved model!\")"
   ]
  },
  {
   "cell_type": "code",
   "execution_count": 847,
   "id": "35f72d61",
   "metadata": {
    "colab": {
     "base_uri": "https://localhost:8080/",
     "height": 353
    },
    "id": "35f72d61",
    "outputId": "f57c7a85-3f30-4073-d11b-c1aa5c2fcdb3"
   },
   "outputs": [
    {
     "ename": "KeyboardInterrupt",
     "evalue": "",
     "output_type": "error",
     "traceback": [
      "\u001b[0;31m---------------------------------------------------------------------------\u001b[0m",
      "\u001b[0;31mKeyboardInterrupt\u001b[0m                         Traceback (most recent call last)",
      "\u001b[0;32m<ipython-input-847-e256172534c7>\u001b[0m in \u001b[0;36m<module>\u001b[0;34m\u001b[0m\n\u001b[1;32m      8\u001b[0m         \u001b[0;32mfor\u001b[0m \u001b[0mchar_index\u001b[0m \u001b[0;32min\u001b[0m \u001b[0mrange\u001b[0m\u001b[0;34m(\u001b[0m\u001b[0mmax_length\u001b[0m \u001b[0;34m-\u001b[0m \u001b[0;36m1\u001b[0m\u001b[0;34m)\u001b[0m\u001b[0;34m:\u001b[0m\u001b[0;34m\u001b[0m\u001b[0;34m\u001b[0m\u001b[0m\n\u001b[1;32m      9\u001b[0m             \u001b[0mt_char\u001b[0m \u001b[0;34m=\u001b[0m \u001b[0mtorch\u001b[0m\u001b[0;34m.\u001b[0m\u001b[0mstack\u001b[0m\u001b[0;34m(\u001b[0m\u001b[0;34m[\u001b[0m\u001b[0msample\u001b[0m\u001b[0;34m[\u001b[0m\u001b[0;36m1\u001b[0m\u001b[0;34m]\u001b[0m\u001b[0;34m[\u001b[0m\u001b[0mchar_index\u001b[0m\u001b[0;34m]\u001b[0m \u001b[0;32mfor\u001b[0m \u001b[0msample\u001b[0m \u001b[0;32min\u001b[0m \u001b[0mbatch\u001b[0m\u001b[0;34m]\u001b[0m\u001b[0;34m)\u001b[0m\u001b[0;34m.\u001b[0m\u001b[0mto\u001b[0m\u001b[0;34m(\u001b[0m\u001b[0mdevice\u001b[0m\u001b[0;34m)\u001b[0m\u001b[0;34m\u001b[0m\u001b[0;34m\u001b[0m\u001b[0m\n\u001b[0;32m---> 10\u001b[0;31m             \u001b[0mt_output\u001b[0m\u001b[0;34m,\u001b[0m \u001b[0mt_hidden\u001b[0m\u001b[0;34m,\u001b[0m \u001b[0mt_cell\u001b[0m \u001b[0;34m=\u001b[0m \u001b[0mmodel\u001b[0m\u001b[0;34m(\u001b[0m\u001b[0mt_prime\u001b[0m\u001b[0;34m,\u001b[0m \u001b[0mt_char\u001b[0m\u001b[0;34m,\u001b[0m \u001b[0mt_hidden\u001b[0m\u001b[0;34m,\u001b[0m \u001b[0mt_cell\u001b[0m\u001b[0;34m)\u001b[0m\u001b[0;34m\u001b[0m\u001b[0;34m\u001b[0m\u001b[0m\n\u001b[0m\u001b[1;32m     11\u001b[0m \u001b[0;34m\u001b[0m\u001b[0m\n\u001b[1;32m     12\u001b[0m             \u001b[0mt_target\u001b[0m \u001b[0;34m=\u001b[0m \u001b[0mtorch\u001b[0m\u001b[0;34m.\u001b[0m\u001b[0mstack\u001b[0m\u001b[0;34m(\u001b[0m\u001b[0;34m[\u001b[0m\u001b[0msample\u001b[0m\u001b[0;34m[\u001b[0m\u001b[0;36m1\u001b[0m\u001b[0;34m]\u001b[0m\u001b[0;34m[\u001b[0m\u001b[0mchar_index\u001b[0m \u001b[0;34m+\u001b[0m \u001b[0;36m1\u001b[0m\u001b[0;34m]\u001b[0m\u001b[0;34m.\u001b[0m\u001b[0margmax\u001b[0m\u001b[0;34m(\u001b[0m\u001b[0;34m)\u001b[0m \u001b[0;32mfor\u001b[0m \u001b[0msample\u001b[0m \u001b[0;32min\u001b[0m \u001b[0mbatch\u001b[0m\u001b[0;34m]\u001b[0m\u001b[0;34m)\u001b[0m\u001b[0;34m.\u001b[0m\u001b[0mto\u001b[0m\u001b[0;34m(\u001b[0m\u001b[0mdevice\u001b[0m\u001b[0;34m)\u001b[0m\u001b[0;34m\u001b[0m\u001b[0;34m\u001b[0m\u001b[0m\n",
      "\u001b[0;32m~/.local/lib/python3.9/site-packages/torch/nn/modules/module.py\u001b[0m in \u001b[0;36m_call_impl\u001b[0;34m(self, *input, **kwargs)\u001b[0m\n\u001b[1;32m    887\u001b[0m             \u001b[0mresult\u001b[0m \u001b[0;34m=\u001b[0m \u001b[0mself\u001b[0m\u001b[0;34m.\u001b[0m\u001b[0m_slow_forward\u001b[0m\u001b[0;34m(\u001b[0m\u001b[0;34m*\u001b[0m\u001b[0minput\u001b[0m\u001b[0;34m,\u001b[0m \u001b[0;34m**\u001b[0m\u001b[0mkwargs\u001b[0m\u001b[0;34m)\u001b[0m\u001b[0;34m\u001b[0m\u001b[0;34m\u001b[0m\u001b[0m\n\u001b[1;32m    888\u001b[0m         \u001b[0;32melse\u001b[0m\u001b[0;34m:\u001b[0m\u001b[0;34m\u001b[0m\u001b[0;34m\u001b[0m\u001b[0m\n\u001b[0;32m--> 889\u001b[0;31m             \u001b[0mresult\u001b[0m \u001b[0;34m=\u001b[0m \u001b[0mself\u001b[0m\u001b[0;34m.\u001b[0m\u001b[0mforward\u001b[0m\u001b[0;34m(\u001b[0m\u001b[0;34m*\u001b[0m\u001b[0minput\u001b[0m\u001b[0;34m,\u001b[0m \u001b[0;34m**\u001b[0m\u001b[0mkwargs\u001b[0m\u001b[0;34m)\u001b[0m\u001b[0;34m\u001b[0m\u001b[0;34m\u001b[0m\u001b[0m\n\u001b[0m\u001b[1;32m    890\u001b[0m         for hook in itertools.chain(\n\u001b[1;32m    891\u001b[0m                 \u001b[0m_global_forward_hooks\u001b[0m\u001b[0;34m.\u001b[0m\u001b[0mvalues\u001b[0m\u001b[0;34m(\u001b[0m\u001b[0;34m)\u001b[0m\u001b[0;34m,\u001b[0m\u001b[0;34m\u001b[0m\u001b[0;34m\u001b[0m\u001b[0m\n",
      "\u001b[0;32m<ipython-input-14-35c09902f45e>\u001b[0m in \u001b[0;36mforward\u001b[0;34m(self, t_prime, t_input, t_hidden, t_cell)\u001b[0m\n\u001b[1;32m     34\u001b[0m         \u001b[0;31m# t_output:    shape: (N, input_size)\u001b[0m\u001b[0;34m\u001b[0m\u001b[0;34m\u001b[0m\u001b[0;34m\u001b[0m\u001b[0m\n\u001b[1;32m     35\u001b[0m         \u001b[0;31m#              NB: t_output's shape = t_input's shape\u001b[0m\u001b[0;34m\u001b[0m\u001b[0;34m\u001b[0m\u001b[0;34m\u001b[0m\u001b[0m\n\u001b[0;32m---> 36\u001b[0;31m         \u001b[0mt_output\u001b[0m \u001b[0;34m=\u001b[0m \u001b[0mself\u001b[0m\u001b[0;34m.\u001b[0m\u001b[0mfc\u001b[0m\u001b[0;34m(\u001b[0m\u001b[0mself\u001b[0m\u001b[0;34m.\u001b[0m\u001b[0mdropout\u001b[0m\u001b[0;34m(\u001b[0m\u001b[0mt_hidden\u001b[0m\u001b[0;34m)\u001b[0m\u001b[0;34m)\u001b[0m\u001b[0;34m\u001b[0m\u001b[0;34m\u001b[0m\u001b[0m\n\u001b[0m\u001b[1;32m     37\u001b[0m         \u001b[0mt_output\u001b[0m \u001b[0;34m=\u001b[0m \u001b[0mself\u001b[0m\u001b[0;34m.\u001b[0m\u001b[0mfc2\u001b[0m\u001b[0;34m(\u001b[0m\u001b[0mself\u001b[0m\u001b[0;34m.\u001b[0m\u001b[0mdropout2\u001b[0m\u001b[0;34m(\u001b[0m\u001b[0mF\u001b[0m\u001b[0;34m.\u001b[0m\u001b[0mrelu\u001b[0m\u001b[0;34m(\u001b[0m\u001b[0mt_output\u001b[0m\u001b[0;34m)\u001b[0m\u001b[0;34m)\u001b[0m\u001b[0;34m)\u001b[0m\u001b[0;34m\u001b[0m\u001b[0;34m\u001b[0m\u001b[0m\n\u001b[1;32m     38\u001b[0m         \u001b[0mt_output\u001b[0m \u001b[0;34m=\u001b[0m \u001b[0mself\u001b[0m\u001b[0;34m.\u001b[0m\u001b[0mlsoftmax\u001b[0m\u001b[0;34m(\u001b[0m\u001b[0mt_output\u001b[0m\u001b[0;34m)\u001b[0m\u001b[0;34m\u001b[0m\u001b[0;34m\u001b[0m\u001b[0m\n",
      "\u001b[0;32m~/.local/lib/python3.9/site-packages/torch/nn/modules/module.py\u001b[0m in \u001b[0;36m_call_impl\u001b[0;34m(self, *input, **kwargs)\u001b[0m\n\u001b[1;32m    887\u001b[0m             \u001b[0mresult\u001b[0m \u001b[0;34m=\u001b[0m \u001b[0mself\u001b[0m\u001b[0;34m.\u001b[0m\u001b[0m_slow_forward\u001b[0m\u001b[0;34m(\u001b[0m\u001b[0;34m*\u001b[0m\u001b[0minput\u001b[0m\u001b[0;34m,\u001b[0m \u001b[0;34m**\u001b[0m\u001b[0mkwargs\u001b[0m\u001b[0;34m)\u001b[0m\u001b[0;34m\u001b[0m\u001b[0;34m\u001b[0m\u001b[0m\n\u001b[1;32m    888\u001b[0m         \u001b[0;32melse\u001b[0m\u001b[0;34m:\u001b[0m\u001b[0;34m\u001b[0m\u001b[0;34m\u001b[0m\u001b[0m\n\u001b[0;32m--> 889\u001b[0;31m             \u001b[0mresult\u001b[0m \u001b[0;34m=\u001b[0m \u001b[0mself\u001b[0m\u001b[0;34m.\u001b[0m\u001b[0mforward\u001b[0m\u001b[0;34m(\u001b[0m\u001b[0;34m*\u001b[0m\u001b[0minput\u001b[0m\u001b[0;34m,\u001b[0m \u001b[0;34m**\u001b[0m\u001b[0mkwargs\u001b[0m\u001b[0;34m)\u001b[0m\u001b[0;34m\u001b[0m\u001b[0;34m\u001b[0m\u001b[0m\n\u001b[0m\u001b[1;32m    890\u001b[0m         for hook in itertools.chain(\n\u001b[1;32m    891\u001b[0m                 \u001b[0m_global_forward_hooks\u001b[0m\u001b[0;34m.\u001b[0m\u001b[0mvalues\u001b[0m\u001b[0;34m(\u001b[0m\u001b[0;34m)\u001b[0m\u001b[0;34m,\u001b[0m\u001b[0;34m\u001b[0m\u001b[0;34m\u001b[0m\u001b[0m\n",
      "\u001b[0;32m~/.local/lib/python3.9/site-packages/torch/nn/modules/linear.py\u001b[0m in \u001b[0;36mforward\u001b[0;34m(self, input)\u001b[0m\n\u001b[1;32m     92\u001b[0m \u001b[0;34m\u001b[0m\u001b[0m\n\u001b[1;32m     93\u001b[0m     \u001b[0;32mdef\u001b[0m \u001b[0mforward\u001b[0m\u001b[0;34m(\u001b[0m\u001b[0mself\u001b[0m\u001b[0;34m,\u001b[0m \u001b[0minput\u001b[0m\u001b[0;34m:\u001b[0m \u001b[0mTensor\u001b[0m\u001b[0;34m)\u001b[0m \u001b[0;34m->\u001b[0m \u001b[0mTensor\u001b[0m\u001b[0;34m:\u001b[0m\u001b[0;34m\u001b[0m\u001b[0;34m\u001b[0m\u001b[0m\n\u001b[0;32m---> 94\u001b[0;31m         \u001b[0;32mreturn\u001b[0m \u001b[0mF\u001b[0m\u001b[0;34m.\u001b[0m\u001b[0mlinear\u001b[0m\u001b[0;34m(\u001b[0m\u001b[0minput\u001b[0m\u001b[0;34m,\u001b[0m \u001b[0mself\u001b[0m\u001b[0;34m.\u001b[0m\u001b[0mweight\u001b[0m\u001b[0;34m,\u001b[0m \u001b[0mself\u001b[0m\u001b[0;34m.\u001b[0m\u001b[0mbias\u001b[0m\u001b[0;34m)\u001b[0m\u001b[0;34m\u001b[0m\u001b[0;34m\u001b[0m\u001b[0m\n\u001b[0m\u001b[1;32m     95\u001b[0m \u001b[0;34m\u001b[0m\u001b[0m\n\u001b[1;32m     96\u001b[0m     \u001b[0;32mdef\u001b[0m \u001b[0mextra_repr\u001b[0m\u001b[0;34m(\u001b[0m\u001b[0mself\u001b[0m\u001b[0;34m)\u001b[0m \u001b[0;34m->\u001b[0m \u001b[0mstr\u001b[0m\u001b[0;34m:\u001b[0m\u001b[0;34m\u001b[0m\u001b[0;34m\u001b[0m\u001b[0m\n",
      "\u001b[0;32m~/.local/lib/python3.9/site-packages/torch/nn/functional.py\u001b[0m in \u001b[0;36mlinear\u001b[0;34m(input, weight, bias)\u001b[0m\n\u001b[1;32m   1751\u001b[0m     \u001b[0;32mif\u001b[0m \u001b[0mhas_torch_function_variadic\u001b[0m\u001b[0;34m(\u001b[0m\u001b[0minput\u001b[0m\u001b[0;34m,\u001b[0m \u001b[0mweight\u001b[0m\u001b[0;34m)\u001b[0m\u001b[0;34m:\u001b[0m\u001b[0;34m\u001b[0m\u001b[0;34m\u001b[0m\u001b[0m\n\u001b[1;32m   1752\u001b[0m         \u001b[0;32mreturn\u001b[0m \u001b[0mhandle_torch_function\u001b[0m\u001b[0;34m(\u001b[0m\u001b[0mlinear\u001b[0m\u001b[0;34m,\u001b[0m \u001b[0;34m(\u001b[0m\u001b[0minput\u001b[0m\u001b[0;34m,\u001b[0m \u001b[0mweight\u001b[0m\u001b[0;34m)\u001b[0m\u001b[0;34m,\u001b[0m \u001b[0minput\u001b[0m\u001b[0;34m,\u001b[0m \u001b[0mweight\u001b[0m\u001b[0;34m,\u001b[0m \u001b[0mbias\u001b[0m\u001b[0;34m=\u001b[0m\u001b[0mbias\u001b[0m\u001b[0;34m)\u001b[0m\u001b[0;34m\u001b[0m\u001b[0;34m\u001b[0m\u001b[0m\n\u001b[0;32m-> 1753\u001b[0;31m     \u001b[0;32mreturn\u001b[0m \u001b[0mtorch\u001b[0m\u001b[0;34m.\u001b[0m\u001b[0m_C\u001b[0m\u001b[0;34m.\u001b[0m\u001b[0m_nn\u001b[0m\u001b[0;34m.\u001b[0m\u001b[0mlinear\u001b[0m\u001b[0;34m(\u001b[0m\u001b[0minput\u001b[0m\u001b[0;34m,\u001b[0m \u001b[0mweight\u001b[0m\u001b[0;34m,\u001b[0m \u001b[0mbias\u001b[0m\u001b[0;34m)\u001b[0m\u001b[0;34m\u001b[0m\u001b[0;34m\u001b[0m\u001b[0m\n\u001b[0m\u001b[1;32m   1754\u001b[0m \u001b[0;34m\u001b[0m\u001b[0m\n\u001b[1;32m   1755\u001b[0m \u001b[0;34m\u001b[0m\u001b[0m\n",
      "\u001b[0;31mKeyboardInterrupt\u001b[0m: "
     ]
    }
   ],
   "source": [
    "for epoch_no in range(num_epochs):\n",
    "    for batch_no, batch in enumerate(train_dataloader):\n",
    "        t_prime = torch.stack([sample[0] for sample in batch]).to(device)\n",
    "        t_hidden, t_cell = map(lambda x: x.to(device), model.init_hidden(t_prime.size(0)))\n",
    "\n",
    "        model.zero_grad()\n",
    "        loss = 0\n",
    "        for char_index in range(max_length - 1):\n",
    "            t_char = torch.stack([sample[1][char_index] for sample in batch]).to(device)\n",
    "            t_output, t_hidden, t_cell = model(t_prime, t_char, t_hidden, t_cell)\n",
    "\n",
    "            t_target = torch.stack([sample[1][char_index + 1].argmax() for sample in batch]).to(device)\n",
    "            loss += criterion(t_output, t_target)\n",
    "\n",
    "        loss.backward()\n",
    "        optimiser.step()\n",
    "\n",
    "        name_loss = loss.item() / (max_length - 1)\n",
    "        losses.append(name_loss)\n",
    "\n",
    "        plt.figure()\n",
    "        plt.plot(losses, scalex=True)\n",
    "        plt.title(\"Loss\")\n",
    "        plt.grid(True)\n",
    "        plt.show()\n",
    "\n",
    "        gen_string = \"\\n\".join(generate(max_length))\n",
    "\n",
    "        print(\"epoch: {} batch_no: {} loss: {:.06f}\\n{}\".format(\n",
    "            epoch_no, \n",
    "            batch_no, \n",
    "            name_loss,\n",
    "            gen_string\n",
    "        ))\n",
    "        clear_output(wait=True)\n",
    "        \n",
    "        if should_save:\n",
    "            if batch_no % save_every == 0:\n",
    "                timestamp = int(time.time()/10000)\n",
    "                torch.save(model, save_path / \"{}_{}.pth\".format(model_name, timestamp))\n",
    "                torch.save(model.state_dict(), save_path / \"{}_{}.pt\".format(model_name, timestamp))           \n",
    "        "
   ]
  },
  {
   "cell_type": "markdown",
   "id": "cdfff6c5",
   "metadata": {
    "id": "cdfff6c5"
   },
   "source": [
    "# Post-Training Eval"
   ]
  },
  {
   "cell_type": "code",
   "execution_count": 850,
   "id": "09b92b6c",
   "metadata": {
    "id": "09b92b6c",
    "outputId": "1197e2bf-f51f-4a6f-d0f5-d5f27f643e5c"
   },
   "outputs": [
    {
     "data": {
      "text/plain": [
       "['Hemlovani', 'Faninjali', 'Mardalo']"
      ]
     },
     "execution_count": 850,
     "metadata": {},
     "output_type": "execute_result"
    }
   ],
   "source": [
    "generate(max_length)"
   ]
  },
  {
   "cell_type": "code",
   "execution_count": null,
   "id": "4e93acde",
   "metadata": {
    "id": "4e93acde"
   },
   "outputs": [],
   "source": []
  }
 ],
 "metadata": {
  "accelerator": "GPU",
  "colab": {
   "collapsed_sections": [],
   "name": "namegen (3).ipynb",
   "provenance": []
  },
  "kernelspec": {
   "display_name": "Python 3",
   "language": "python",
   "name": "python3"
  },
  "language_info": {
   "codemirror_mode": {
    "name": "ipython",
    "version": 3
   },
   "file_extension": ".py",
   "mimetype": "text/x-python",
   "name": "python",
   "nbconvert_exporter": "python",
   "pygments_lexer": "ipython3",
   "version": "3.9.5"
  }
 },
 "nbformat": 4,
 "nbformat_minor": 5
}
