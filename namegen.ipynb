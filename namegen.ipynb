{
 "cells": [
  {
   "cell_type": "code",
   "execution_count": 1,
   "id": "fea1effd",
   "metadata": {
    "id": "fea1effd"
   },
   "outputs": [],
   "source": [
    "import torch\n",
    "from torch import nn, optim\n",
    "import torch.nn.functional as F\n",
    "\n",
    "from torch.utils.data import Dataset, DataLoader\n",
    "\n",
    "import string\n",
    "import unicodedata\n",
    "from pathlib import Path\n",
    "import collections\n",
    "import itertools\n",
    "import math\n",
    "\n",
    "from IPython.display import clear_output\n",
    "from matplotlib import pyplot as plt\n",
    "%matplotlib inline"
   ]
  },
  {
   "cell_type": "code",
   "execution_count": 2,
   "id": "faa22642",
   "metadata": {
    "id": "faa22642"
   },
   "outputs": [],
   "source": [
    "device = torch.device('cuda' if torch.cuda.is_available() else 'cpu')"
   ]
  },
  {
   "cell_type": "markdown",
   "id": "a06a27b6",
   "metadata": {
    "id": "a06a27b6"
   },
   "source": [
    "# Loading Data"
   ]
  },
  {
   "cell_type": "code",
   "execution_count": 3,
   "id": "401699a8",
   "metadata": {
    "id": "401699a8"
   },
   "outputs": [],
   "source": [
    "# name data from: https://download.pytorch.org/tutorial/data.zip"
   ]
  },
  {
   "cell_type": "code",
   "execution_count": 4,
   "id": "iXNYEWStoP8l",
   "metadata": {
    "colab": {
     "base_uri": "https://localhost:8080/"
    },
    "id": "iXNYEWStoP8l",
    "outputId": "dae8835b-50c4-4386-88e4-6ee9ffb9d6aa"
   },
   "outputs": [],
   "source": [
    "if not Path(\"names\").is_dir():\n",
    "  !curl \"https://download.pytorch.org/tutorial/data.zip\" -o \"data.zip\"\n",
    "  !unzip -j \"data.zip\" \"data/names/*\" -d \"names\""
   ]
  },
  {
   "cell_type": "code",
   "execution_count": 5,
   "id": "825785f4",
   "metadata": {
    "colab": {
     "base_uri": "https://localhost:8080/"
    },
    "id": "825785f4",
    "outputId": "849782ba-b7ce-449c-bdc3-3383d6b74694"
   },
   "outputs": [
    {
     "name": "stdout",
     "output_type": "stream",
     "text": [
      "abcdefghijklmnopqrstuvwxyzABCDEFGHIJKLMNOPQRSTUVWXYZ .,;'-\n"
     ]
    }
   ],
   "source": [
    "all_chars = string.ascii_letters + \" .,;'-\"\n",
    "print(all_chars)"
   ]
  },
  {
   "cell_type": "code",
   "execution_count": 6,
   "id": "4238dc91",
   "metadata": {
    "id": "4238dc91"
   },
   "outputs": [],
   "source": [
    "def sanitise_line(line):\n",
    "    # https://stackoverflow.com/a/518232/5013267\n",
    "    return ''.join(\n",
    "        c for c in unicodedata.normalize('NFD', line)\n",
    "        if unicodedata.category(c) != 'Mn'\n",
    "        and c in all_chars\n",
    "    )"
   ]
  },
  {
   "cell_type": "code",
   "execution_count": 7,
   "id": "6d017916",
   "metadata": {
    "colab": {
     "base_uri": "https://localhost:8080/"
    },
    "id": "6d017916",
    "outputId": "7dbbc50f-166b-4a1a-ef7c-da0b1835a7fd"
   },
   "outputs": [
    {
     "name": "stdout",
     "output_type": "stream",
     "text": [
      "Loaded: names/Arabic.txt\n",
      "Loaded: names/Chinese.txt\n",
      "Loaded: names/Czech.txt\n",
      "Loaded: names/Dutch.txt\n",
      "Loaded: names/English.txt\n",
      "Loaded: names/French.txt\n",
      "Loaded: names/German.txt\n",
      "Loaded: names/Greek.txt\n",
      "Loaded: names/Irish.txt\n",
      "Loaded: names/Italian.txt\n",
      "Loaded: names/Japanese.txt\n",
      "Loaded: names/Korean.txt\n",
      "Loaded: names/Polish.txt\n",
      "Loaded: names/Portuguese.txt\n",
      "Loaded: names/Russian.txt\n",
      "Loaded: names/Scottish.txt\n",
      "Loaded: names/Spanish.txt\n",
      "Loaded: names/Vietnamese.txt\n"
     ]
    }
   ],
   "source": [
    "name_data = {}\n",
    "for path in Path(\"names\").rglob(\"*.txt\"):\n",
    "    with open(path, \"r\", encoding=\"utf8\") as f:\n",
    "        names = []\n",
    "        for line in f.read().strip().split(\"\\n\"):\n",
    "            names.append(sanitise_line(line))\n",
    "        name_data[path.stem] = names\n",
    "    \n",
    "    print(f\"Loaded: {path}\")"
   ]
  },
  {
   "cell_type": "markdown",
   "id": "5444971a",
   "metadata": {
    "id": "5444971a"
   },
   "source": [
    "# Data Preparation Stuff"
   ]
  },
  {
   "cell_type": "code",
   "execution_count": 8,
   "id": "053a6dfe",
   "metadata": {
    "id": "053a6dfe"
   },
   "outputs": [],
   "source": [
    "class OneHotTranslator:\n",
    "    def __init__(self, elements):\n",
    "        self.elements = elements\n",
    "        self.n_elements = len(self.elements)\n",
    "        \n",
    "    def index_to_vec(self, index):\n",
    "        return F.one_hot(torch.tensor([index]), num_classes=self.n_elements)[0]\n",
    "    \n",
    "    def index_from_vec(self, vec):\n",
    "        return vec.argmax()\n",
    "    \n",
    "    def elm_to_vec(self, elm):\n",
    "        return self.index_to_vec(self.elements.index(elm))\n",
    "    \n",
    "    def elm_from_vec(self, vec):\n",
    "        return self.elements[int(self.index_from_vec(vec))]\n",
    "    \n",
    "    def __len__(self):\n",
    "        return self.n_elements\n",
    "    \n",
    "    def __getitem__(self, val):\n",
    "        if isinstance(val, int):\n",
    "            return self.index_to_vec(val)\n",
    "        else:\n",
    "            return self.elm_to_vec(val)"
   ]
  },
  {
   "cell_type": "code",
   "execution_count": 9,
   "id": "49ebe20e",
   "metadata": {
    "colab": {
     "base_uri": "https://localhost:8080/"
    },
    "id": "49ebe20e",
    "outputId": "1b8c09a4-7539-45a0-c092-7d284cfe7909"
   },
   "outputs": [
    {
     "name": "stdout",
     "output_type": "stream",
     "text": [
      "('Arabic', 'Chinese', 'Czech', 'Dutch', 'English', 'French', 'German', 'Greek', 'Irish', 'Italian', 'Japanese', 'Korean', 'Polish', 'Portuguese', 'Russian', 'Scottish', 'Spanish', 'Vietnamese')\n",
      "len: 18\n"
     ]
    }
   ],
   "source": [
    "category_translator = OneHotTranslator(tuple(name_data.keys()))\n",
    "print(category_translator.elements)\n",
    "print(\"len:\", len(category_translator))"
   ]
  },
  {
   "cell_type": "code",
   "execution_count": 10,
   "id": "8558c55e",
   "metadata": {
    "colab": {
     "base_uri": "https://localhost:8080/"
    },
    "id": "8558c55e",
    "outputId": "23299b8f-f390-432b-b4f1-fa3fadf72fbe"
   },
   "outputs": [
    {
     "name": "stdout",
     "output_type": "stream",
     "text": [
      "['<SOS>', '<EOS>', 'a', 'b', 'c', 'd', 'e', 'f', 'g', 'h', 'i', 'j', 'k', 'l', 'm', 'n', 'o', 'p', 'q', 'r', 's', 't', 'u', 'v', 'w', 'x', 'y', 'z', 'A', 'B', 'C', 'D', 'E', 'F', 'G', 'H', 'I', 'J', 'K', 'L', 'M', 'N', 'O', 'P', 'Q', 'R', 'S', 'T', 'U', 'V', 'W', 'X', 'Y', 'Z', ' ', '.', ',', ';', \"'\", '-']\n",
      "len: 60\n"
     ]
    }
   ],
   "source": [
    "char_translator = OneHotTranslator([\"<SOS>\", \"<EOS>\"] + list(all_chars))\n",
    "print(char_translator.elements)\n",
    "print(\"len:\", len(char_translator))"
   ]
  },
  {
   "cell_type": "code",
   "execution_count": 11,
   "id": "00ab33df",
   "metadata": {
    "id": "00ab33df"
   },
   "outputs": [],
   "source": [
    "# convenience functions\n",
    "def build_name(name, fixed_length):\n",
    "    \"\"\"\n",
    "    Build a list of one-hot encoded vectors representing the given name string\n",
    "    \"\"\"\n",
    "    ret = [char_translator.elm_to_vec(char) for char in ([\"<SOS>\"] + list(name) + [\"<EOS>\"])]\n",
    "    \n",
    "    while len(ret) < fixed_length:\n",
    "        ret.append(char_translator.elm_to_vec(\"<EOS>\"))\n",
    "    \n",
    "    return ret\n",
    "\n",
    "def unbuild_name(t_chars):\n",
    "    \"\"\"\n",
    "    Inverse of build_name\n",
    "    \"\"\"\n",
    "    return \"\".join([char_translator.elm_from_vec(vec) for vec in t_chars])\n",
    "\n",
    "def build_category(category):\n",
    "    \"\"\"\n",
    "    Build a one-hot encoded vector representing the given category string\n",
    "    \"\"\"\n",
    "    return category_translator.elm_to_vec(category)\n",
    "\n",
    "def unbuild_category(vec):\n",
    "    \"\"\"\n",
    "    Inverse of build_category\n",
    "    \"\"\"\n",
    "    return category_translator.elm_from_vec(vec)"
   ]
  },
  {
   "cell_type": "code",
   "execution_count": 12,
   "id": "55cc5372",
   "metadata": {
    "id": "55cc5372"
   },
   "outputs": [],
   "source": [
    "# torch.stack(build_name(\"hi\", 10)).shape"
   ]
  },
  {
   "cell_type": "code",
   "execution_count": 13,
   "id": "03438995",
   "metadata": {
    "id": "03438995"
   },
   "outputs": [],
   "source": [
    "# simple Dataset class wrapper around the above variables\n",
    "class NamesDataset(Dataset):\n",
    "    def __init__(self, max_length):\n",
    "        self.max_length = max_length\n",
    "        self._data_pairs = [(cat, name) for cat in name_data for name in name_data[cat]]\n",
    "    \n",
    "    def __len__(self):\n",
    "        return len(self._data_pairs)\n",
    "    \n",
    "    def __getitem__(self, index):\n",
    "        cat, name = self._data_pairs[index]\n",
    "        return build_category(cat), build_name(name, self.max_length)"
   ]
  },
  {
   "cell_type": "markdown",
   "id": "f16ef4cc",
   "metadata": {
    "id": "f16ef4cc"
   },
   "source": [
    "# Neural"
   ]
  },
  {
   "cell_type": "code",
   "execution_count": 14,
   "id": "898e2caf",
   "metadata": {
    "id": "898e2caf"
   },
   "outputs": [],
   "source": [
    "class SeqModel(nn.Module):\n",
    "    def __init__(self, prime_size, input_size):\n",
    "        super().__init__()\n",
    "        self.prime_size = prime_size\n",
    "        self.input_size = input_size\n",
    "        self.hidden_size = 128\n",
    "        \n",
    "        self.lstm = nn.LSTMCell(self.input_size + self.prime_size, self.hidden_size)\n",
    "        \n",
    "        # NB: output size = input size\n",
    "        self.fc = nn.Linear(self.hidden_size, 60)\n",
    "        self.fc2 = nn.Linear(60, self.input_size)\n",
    "        \n",
    "        self.dropout = nn.Dropout(0.1)\n",
    "        self.dropout2 = nn.Dropout(0.1)\n",
    "        self.lsoftmax = nn.LogSoftmax(dim=1)\n",
    "        \n",
    "    def forward(self, t_prime, t_input, t_hidden, t_cell):\n",
    "        # t_prime:     batches of vectors for the LSTM to be primed on\n",
    "        #              shape: (N, prime_size)\n",
    "        #\n",
    "        # t_input:     shape: (N, input_size)\n",
    "        #              t_input[0]: one-hot vector encoding of a character\n",
    "        #\n",
    "        # t_hidden:    shape: (N, hidden_size)\n",
    "        #\n",
    "        # t_cell:      shape: (N, hidden_size)\n",
    "        \n",
    "        # lstm_input:  t_prime and t_input concated together\n",
    "        #              shape: (N, prime_size + input_size)\n",
    "        lstm_input = torch.cat((t_prime, t_input), dim=1)\n",
    "        t_hidden, t_cell = self.lstm(lstm_input.float(), (t_hidden, t_cell))\n",
    "        \n",
    "        # t_output:    shape: (N, input_size)\n",
    "        #              NB: t_output's shape = t_input's shape\n",
    "        t_output = self.fc(self.dropout(t_hidden))\n",
    "        t_output = self.fc2(self.dropout2(F.relu(t_output)))\n",
    "        t_output = self.lsoftmax(t_output)\n",
    "        \n",
    "        return t_output, t_hidden, t_cell\n",
    "    \n",
    "    def init_hidden(self, batch_size=1):\n",
    "        t_hidden = torch.zeros(batch_size, self.hidden_size)\n",
    "        t_cell = torch.zeros(batch_size, self.hidden_size)\n",
    "        \n",
    "        return t_hidden, t_cell"
   ]
  },
  {
   "cell_type": "code",
   "execution_count": 15,
   "id": "49c87a9c",
   "metadata": {
    "colab": {
     "base_uri": "https://localhost:8080/"
    },
    "id": "49c87a9c",
    "outputId": "7f3407b5-4f51-46c6-a02f-a5107f7afc02"
   },
   "outputs": [
    {
     "data": {
      "text/plain": [
       "SeqModel(\n",
       "  (lstm): LSTMCell(78, 128)\n",
       "  (fc): Linear(in_features=128, out_features=60, bias=True)\n",
       "  (fc2): Linear(in_features=60, out_features=60, bias=True)\n",
       "  (dropout): Dropout(p=0.1, inplace=False)\n",
       "  (dropout2): Dropout(p=0.1, inplace=False)\n",
       "  (lsoftmax): LogSoftmax(dim=1)\n",
       ")"
      ]
     },
     "execution_count": 15,
     "metadata": {},
     "output_type": "execute_result"
    }
   ],
   "source": [
    "model = SeqModel(len(category_translator), len(char_translator))\n",
    "model.to(device)"
   ]
  },
  {
   "cell_type": "code",
   "execution_count": 16,
   "id": "a801687f",
   "metadata": {
    "id": "a801687f"
   },
   "outputs": [],
   "source": [
    "# test_category_index = 0\n",
    "\n",
    "# t_prime = category_translator[test_category_index].view(1, len(category_translator))\n",
    "# print(\"t_prime shape:\\t\", t_prime.shape)\n",
    "\n",
    "# t_input = char_translator[\"<SOS>\"].view(1, len(char_translator))\n",
    "# print(\"t_input shape:\\t\", t_input.shape)\n",
    "\n",
    "# t_hidden, t_cell = model.init_hidden(1)\n",
    "# print(\"t_hidden shape:\\t\", t_hidden.shape)\n",
    "# print(\"t_cell shape:\\t\", t_cell.shape)"
   ]
  },
  {
   "cell_type": "code",
   "execution_count": 17,
   "id": "e93534b0",
   "metadata": {
    "id": "e93534b0"
   },
   "outputs": [],
   "source": [
    "# t_output, t_hidden, t_cell = model.forward(t_prime, t_input, t_hidden, t_cell)\n",
    "# print(\"t_output shape:\\t\", t_output.shape)\n",
    "# print(\"t_hidden shape:\\t\", t_hidden.shape)\n",
    "# print(\"t_cell shape:\\t\", t_cell.shape)"
   ]
  },
  {
   "cell_type": "markdown",
   "id": "2fd89a54",
   "metadata": {
    "id": "2fd89a54"
   },
   "source": [
    "# Eval"
   ]
  },
  {
   "cell_type": "code",
   "execution_count": 18,
   "id": "c0ade28f",
   "metadata": {
    "id": "c0ade28f"
   },
   "outputs": [],
   "source": [
    "def generate(max_length, category_name=\"German\", N=3, ignore=True):\n",
    "    with torch.no_grad():\n",
    "        t_prime = category_translator[category_name].unsqueeze(0).repeat((N, 1)).to(device)\n",
    "        t_char = char_translator[\"<SOS>\"].unsqueeze(0).repeat((N, 1)).to(device)\n",
    "        t_hidden, t_cell = map(lambda x: x.to(device), model.init_hidden(N))\n",
    "\n",
    "        output_dict = collections.defaultdict(str)\n",
    "        done_set = []\n",
    "        for char_index in range(max_length):\n",
    "            t_output, t_hidden, t_cell = model(t_prime, t_char, t_hidden, t_cell)\n",
    "            \n",
    "            for n in range(N):\n",
    "                if ignore and n in done_set:\n",
    "                    continue\n",
    "                    \n",
    "                translated_char = char_translator.elm_from_vec(t_output[n])\n",
    "                if ignore and translated_char == \"<EOS>\":\n",
    "                    done_set.append(n)\n",
    "                    continue\n",
    "                    \n",
    "                output_dict[n] += translated_char\n",
    "        \n",
    "        return [output_dict[n] for n in range(N)]"
   ]
  },
  {
   "cell_type": "markdown",
   "id": "5df83805",
   "metadata": {
    "id": "5df83805"
   },
   "source": [
    "# Training"
   ]
  },
  {
   "cell_type": "code",
   "execution_count": 19,
   "id": "f8d830b6",
   "metadata": {
    "colab": {
     "base_uri": "https://localhost:8080/"
    },
    "id": "f8d830b6",
    "outputId": "2fe2f825-e1ad-400b-bd73-a65660e1fb24"
   },
   "outputs": [
    {
     "name": "stdout",
     "output_type": "stream",
     "text": [
      "22\n"
     ]
    }
   ],
   "source": [
    "max_length = max([len(name) for name in itertools.chain(*name_data.values())]) + 2  # +2 for SOS and EOS\n",
    "print(max_length)"
   ]
  },
  {
   "cell_type": "code",
   "execution_count": 20,
   "id": "dc041adf",
   "metadata": {
    "colab": {
     "base_uri": "https://localhost:8080/"
    },
    "id": "dc041adf",
    "outputId": "c657d674-4aaa-4668-ba0a-38e2ca7a76a0"
   },
   "outputs": [
    {
     "name": "stdout",
     "output_type": "stream",
     "text": [
      "20074\n"
     ]
    }
   ],
   "source": [
    "sample_count = len(tuple(itertools.chain(*name_data.values())))\n",
    "print(sample_count)"
   ]
  },
  {
   "cell_type": "code",
   "execution_count": 21,
   "id": "1c2a2119",
   "metadata": {
    "id": "1c2a2119"
   },
   "outputs": [],
   "source": [
    "# config\n",
    "batch_size = 64\n",
    "num_epochs = 100\n",
    "num_batches = math.ceil(sample_count/batch_size) * num_epochs\n",
    "learning_rate = 0.0003\n",
    "plot_limit = None"
   ]
  },
  {
   "cell_type": "code",
   "execution_count": 22,
   "id": "14f6e094",
   "metadata": {
    "colab": {
     "base_uri": "https://localhost:8080/"
    },
    "id": "14f6e094",
    "outputId": "57999d9c-c0ed-4d5b-b31e-04e67e8b6bfa"
   },
   "outputs": [
    {
     "data": {
      "text/plain": [
       "31400"
      ]
     },
     "execution_count": 22,
     "metadata": {},
     "output_type": "execute_result"
    }
   ],
   "source": [
    "num_batches"
   ]
  },
  {
   "cell_type": "code",
   "execution_count": 23,
   "id": "141937b6",
   "metadata": {
    "id": "141937b6"
   },
   "outputs": [],
   "source": [
    "train_dataloader = DataLoader(NamesDataset(max_length), batch_size=batch_size, shuffle=True, collate_fn=lambda x: x)"
   ]
  },
  {
   "cell_type": "code",
   "execution_count": 24,
   "id": "a0f17cce",
   "metadata": {
    "id": "a0f17cce"
   },
   "outputs": [],
   "source": [
    "losses = collections.deque(maxlen=plot_limit)"
   ]
  },
  {
   "cell_type": "code",
   "execution_count": 25,
   "id": "1d66e2d1",
   "metadata": {
    "id": "1d66e2d1"
   },
   "outputs": [],
   "source": [
    "criterion = nn.NLLLoss()\n",
    "optimiser = optim.Adam(model.parameters(), lr=learning_rate, weight_decay=0.01)\n",
    "# optimiser = optim.SGD(model.parameters(), lr=learning_rate, momentum=0.9)"
   ]
  },
  {
   "cell_type": "code",
   "execution_count": null,
   "id": "35f72d61",
   "metadata": {
    "colab": {
     "base_uri": "https://localhost:8080/",
     "height": 353
    },
    "id": "35f72d61",
    "outputId": "f57c7a85-3f30-4073-d11b-c1aa5c2fcdb3"
   },
   "outputs": [
    {
     "data": {
      "image/png": "[encoded data removed]",
      "text/plain": [
       "<Figure size 432x288 with 1 Axes>"
      ]
     },
     "metadata": {
      "needs_background": "light"
     },
     "output_type": "display_data"
    },
    {
     "name": "stdout",
     "output_type": "stream",
     "text": [
      "epoch: 5 batch_no: 54 loss: 0.952056\n",
      "Aaaaaaaa\n",
      "Aaaaaaaaaaa\n",
      "Aaaaaaaaa\n"
     ]
    }
   ],
   "source": [
    "for epoch_no in range(num_epochs):\n",
    "    for batch_no, batch in enumerate(train_dataloader):\n",
    "        t_prime = torch.stack([sample[0] for sample in batch]).to(device)\n",
    "        t_hidden, t_cell = map(lambda x: x.to(device), model.init_hidden(t_prime.size(0)))\n",
    "\n",
    "        model.zero_grad()\n",
    "        loss = 0\n",
    "        for char_index in range(max_length - 1):\n",
    "            t_char = torch.stack([sample[1][char_index] for sample in batch]).to(device)\n",
    "            t_output, t_hidden, t_cell = model(t_prime, t_char, t_hidden, t_cell)\n",
    "\n",
    "            t_target = torch.stack([sample[1][char_index + 1].argmax() for sample in batch]).to(device)\n",
    "            loss += criterion(t_output, t_target)\n",
    "\n",
    "        loss.backward()\n",
    "        optimiser.step()\n",
    "\n",
    "        name_loss = loss.item() / (max_length - 1)\n",
    "        losses.append(name_loss)\n",
    "\n",
    "        plt.figure()\n",
    "        plt.plot(losses, scalex=True)\n",
    "        plt.title(\"Loss\")\n",
    "        plt.grid(True)\n",
    "        plt.show()\n",
    "\n",
    "    #     gen_categories = ['Arabic', 'Chinese', 'Czech', 'Dutch', 'English', 'French', 'German', 'Greek', 'Irish', 'Italian', 'Japanese', 'Korean', 'Polish', 'Portuguese', 'Russian', 'Scottish', 'Spanish', 'Vietnamese']\n",
    "    #     gen_string = \"\"\n",
    "    #     for gen_category in gen_categories:\n",
    "    #         gen_string += gen_category + \":\\n\"\n",
    "    #         gen_string += \"\\n\".join(generate(max_length, category_name=gen_category))\n",
    "    #         gen_string += \"\\n\"\n",
    "        gen_string = \"\\n\".join(generate(max_length))\n",
    "\n",
    "        print(\"epoch: {} batch_no: {} loss: {:.06f}\\n{}\".format(\n",
    "            epoch_no, \n",
    "            batch_no, \n",
    "            name_loss,\n",
    "            gen_string\n",
    "        ))\n",
    "        clear_output(wait=True)\n",
    "        "
   ]
  },
  {
   "cell_type": "markdown",
   "id": "cdfff6c5",
   "metadata": {
    "id": "cdfff6c5"
   },
   "source": [
    "# Post-Training Eval"
   ]
  },
  {
   "cell_type": "code",
   "execution_count": null,
   "id": "09b92b6c",
   "metadata": {
    "id": "09b92b6c",
    "outputId": "1197e2bf-f51f-4a6f-d0f5-d5f27f643e5c"
   },
   "outputs": [],
   "source": [
    "generate(max_length)"
   ]
  },
  {
   "cell_type": "code",
   "execution_count": null,
   "id": "4e93acde",
   "metadata": {
    "id": "4e93acde"
   },
   "outputs": [],
   "source": []
  }
 ],
 "metadata": {
  "accelerator": "GPU",
  "colab": {
   "collapsed_sections": [],
   "name": "namegen (3).ipynb",
   "provenance": []
  },
  "kernelspec": {
   "display_name": "Python 3",
   "language": "python",
   "name": "python3"
  },
  "language_info": {
   "codemirror_mode": {
    "name": "ipython",
    "version": 3
   },
   "file_extension": ".py",
   "mimetype": "text/x-python",
   "name": "python",
   "nbconvert_exporter": "python",
   "pygments_lexer": "ipython3",
   "version": "3.9.5"
  }
 },
 "nbformat": 4,
 "nbformat_minor": 5
}
