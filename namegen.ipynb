{
 "cells": [
  {
   "cell_type": "code",
   "execution_count": 1,
   "id": "fea1effd",
   "metadata": {
    "id": "fea1effd"
   },
   "outputs": [],
   "source": [
    "import torch\n",
    "from torch import nn, optim\n",
    "import torch.nn.functional as F\n",
    "\n",
    "from torch.utils.data import Dataset, DataLoader\n",
    "\n",
    "import string\n",
    "import unicodedata\n",
    "from pathlib import Path\n",
    "import collections\n",
    "import itertools\n",
    "import time\n",
    "import math\n",
    "import random\n",
    "\n",
    "import numpy as np\n",
    "\n",
    "from IPython.display import clear_output\n",
    "from matplotlib import pyplot as plt\n",
    "%matplotlib inline"
   ]
  },
  {
   "cell_type": "markdown",
   "id": "1282c434",
   "metadata": {},
   "source": [
    "# Environment Setup"
   ]
  },
  {
   "cell_type": "code",
   "execution_count": 2,
   "id": "f2efb930",
   "metadata": {},
   "outputs": [],
   "source": [
    "IN_COLAB = False\n",
    "MOUNT_DRIVE = False\n",
    "\n",
    "save_path = Path(\"save/\")\n",
    "try:\n",
    "    from google.colab import drive\n",
    "    IN_COLAB = True\n",
    "    \n",
    "    if MOUNT_DRIVE:\n",
    "        drive_mount_path = \"/content/drive\"\n",
    "        drive.mount(drive_mount_path)\n",
    "\n",
    "        mount_proj_root = Path(drive_mount_path)/\"MyDrive\"/\"PyTorchNameGen\"\n",
    "        mount_proj_root.mkdir(parents=True, exist_ok=True)\n",
    "\n",
    "        if not save_path.is_dir():\n",
    "            mounted_path = str(mount_proj_root/\"save/\")\n",
    "            target_path = str(save_path)\n",
    "            !ln -s \"{mounted_path}\" \"{target_path}\"\n",
    "            print(\"Symlinked: \", target_path)\n",
    "        else:\n",
    "            print(\"Skipped symlinking: \", target_path)\n",
    "    \n",
    "    assert torch.cuda.is_available()\n",
    "    \n",
    "    if not MOUNT_DRIVE:\n",
    "        raise\n",
    "except:\n",
    "    save_path.mkdir(parents=True, exist_ok=True)\n"
   ]
  },
  {
   "cell_type": "code",
   "execution_count": 3,
   "id": "iXNYEWStoP8l",
   "metadata": {
    "colab": {
     "base_uri": "https://localhost:8080/"
    },
    "id": "iXNYEWStoP8l",
    "outputId": "dae8835b-50c4-4386-88e4-6ee9ffb9d6aa"
   },
   "outputs": [],
   "source": [
    "if not Path(\"names\").is_dir():\n",
    "  !curl \"https://download.pytorch.org/tutorial/data.zip\" -o \"data.zip\"\n",
    "  !unzip -j \"data.zip\" \"data/names/*\" -d \"names\""
   ]
  },
  {
   "cell_type": "code",
   "execution_count": 4,
   "id": "faa22642",
   "metadata": {
    "id": "faa22642"
   },
   "outputs": [],
   "source": [
    "device = torch.device('cuda' if torch.cuda.is_available() else 'cpu')"
   ]
  },
  {
   "cell_type": "markdown",
   "id": "a06a27b6",
   "metadata": {
    "id": "a06a27b6"
   },
   "source": [
    "# Loading Data"
   ]
  },
  {
   "cell_type": "code",
   "execution_count": 5,
   "id": "825785f4",
   "metadata": {
    "colab": {
     "base_uri": "https://localhost:8080/"
    },
    "id": "825785f4",
    "outputId": "849782ba-b7ce-449c-bdc3-3383d6b74694"
   },
   "outputs": [
    {
     "name": "stdout",
     "output_type": "stream",
     "text": [
      "abcdefghijklmnopqrstuvwxyzABCDEFGHIJKLMNOPQRSTUVWXYZ .,;'-\n"
     ]
    }
   ],
   "source": [
    "all_chars = string.ascii_letters + \" .,;'-\"\n",
    "print(all_chars)"
   ]
  },
  {
   "cell_type": "code",
   "execution_count": 6,
   "id": "4238dc91",
   "metadata": {
    "id": "4238dc91"
   },
   "outputs": [],
   "source": [
    "def sanitise_line(line):\n",
    "    # https://stackoverflow.com/a/518232/5013267\n",
    "    return ''.join(\n",
    "        c for c in unicodedata.normalize('NFD', line)\n",
    "        if unicodedata.category(c) != 'Mn'\n",
    "        and c in all_chars\n",
    "    )"
   ]
  },
  {
   "cell_type": "code",
   "execution_count": 7,
   "id": "6d017916",
   "metadata": {
    "colab": {
     "base_uri": "https://localhost:8080/"
    },
    "id": "6d017916",
    "outputId": "7dbbc50f-166b-4a1a-ef7c-da0b1835a7fd"
   },
   "outputs": [
    {
     "name": "stdout",
     "output_type": "stream",
     "text": [
      "Loaded: names/Arabic.txt\n",
      "Loaded: names/Chinese.txt\n",
      "Loaded: names/Czech.txt\n",
      "Loaded: names/Dutch.txt\n",
      "Loaded: names/English.txt\n",
      "Loaded: names/French.txt\n",
      "Loaded: names/German.txt\n",
      "Loaded: names/Greek.txt\n",
      "Loaded: names/Irish.txt\n",
      "Loaded: names/Italian.txt\n",
      "Loaded: names/Japanese.txt\n",
      "Loaded: names/Korean.txt\n",
      "Loaded: names/Polish.txt\n",
      "Loaded: names/Portuguese.txt\n",
      "Loaded: names/Russian.txt\n",
      "Loaded: names/Scottish.txt\n",
      "Loaded: names/Spanish.txt\n",
      "Loaded: names/Vietnamese.txt\n"
     ]
    }
   ],
   "source": [
    "name_data = {}\n",
    "for path in Path(\"names\").rglob(\"*.txt\"):\n",
    "    with open(path, \"r\", encoding=\"utf8\") as f:\n",
    "        names = []\n",
    "        for line in f.read().strip().split(\"\\n\"):\n",
    "            names.append(sanitise_line(line))\n",
    "        name_data[path.stem] = names\n",
    "    \n",
    "    print(f\"Loaded: {path}\")"
   ]
  },
  {
   "cell_type": "markdown",
   "id": "5444971a",
   "metadata": {
    "id": "5444971a"
   },
   "source": [
    "# Data Preparation Stuff"
   ]
  },
  {
   "cell_type": "code",
   "execution_count": 8,
   "id": "053a6dfe",
   "metadata": {
    "id": "053a6dfe"
   },
   "outputs": [],
   "source": [
    "class OneHotTranslator:\n",
    "    def __init__(self, elements):\n",
    "        self.elements = elements\n",
    "        self.n_elements = len(self.elements)\n",
    "        \n",
    "    def index_to_vec(self, index):\n",
    "        return F.one_hot(torch.tensor([index]), num_classes=self.n_elements)[0]\n",
    "    \n",
    "    def index_from_vec(self, vec):\n",
    "        return vec.argmax()\n",
    "    \n",
    "    def elm_to_vec(self, elm):\n",
    "        return self.index_to_vec(self.elements.index(elm))\n",
    "    \n",
    "    def elm_from_vec(self, vec):\n",
    "        return self.elements[int(self.index_from_vec(vec))]\n",
    "    \n",
    "    def __len__(self):\n",
    "        return self.n_elements\n",
    "    \n",
    "    def __getitem__(self, val):\n",
    "        if isinstance(val, int):\n",
    "            return self.index_to_vec(val)\n",
    "        else:\n",
    "            return self.elm_to_vec(val)"
   ]
  },
  {
   "cell_type": "code",
   "execution_count": 9,
   "id": "49ebe20e",
   "metadata": {
    "colab": {
     "base_uri": "https://localhost:8080/"
    },
    "id": "49ebe20e",
    "outputId": "1b8c09a4-7539-45a0-c092-7d284cfe7909"
   },
   "outputs": [
    {
     "name": "stdout",
     "output_type": "stream",
     "text": [
      "('Arabic', 'Chinese', 'Czech', 'Dutch', 'English', 'French', 'German', 'Greek', 'Irish', 'Italian', 'Japanese', 'Korean', 'Polish', 'Portuguese', 'Russian', 'Scottish', 'Spanish', 'Vietnamese')\n",
      "len: 18\n"
     ]
    }
   ],
   "source": [
    "category_translator = OneHotTranslator(tuple(name_data.keys()))\n",
    "print(category_translator.elements)\n",
    "print(\"len:\", len(category_translator))"
   ]
  },
  {
   "cell_type": "code",
   "execution_count": 10,
   "id": "8558c55e",
   "metadata": {
    "colab": {
     "base_uri": "https://localhost:8080/"
    },
    "id": "8558c55e",
    "outputId": "23299b8f-f390-432b-b4f1-fa3fadf72fbe"
   },
   "outputs": [
    {
     "name": "stdout",
     "output_type": "stream",
     "text": [
      "['<SOS>', '<EOS>', 'a', 'b', 'c', 'd', 'e', 'f', 'g', 'h', 'i', 'j', 'k', 'l', 'm', 'n', 'o', 'p', 'q', 'r', 's', 't', 'u', 'v', 'w', 'x', 'y', 'z', 'A', 'B', 'C', 'D', 'E', 'F', 'G', 'H', 'I', 'J', 'K', 'L', 'M', 'N', 'O', 'P', 'Q', 'R', 'S', 'T', 'U', 'V', 'W', 'X', 'Y', 'Z', ' ', '.', ',', ';', \"'\", '-']\n",
      "len: 60\n"
     ]
    }
   ],
   "source": [
    "char_translator = OneHotTranslator([\"<SOS>\", \"<EOS>\"] + list(all_chars))\n",
    "print(char_translator.elements)\n",
    "print(\"len:\", len(char_translator))"
   ]
  },
  {
   "cell_type": "code",
   "execution_count": 11,
   "id": "ab28eec7",
   "metadata": {},
   "outputs": [
    {
     "data": {
      "text/plain": [
       "{'Arabic': 2000,\n",
       " 'Chinese': 268,\n",
       " 'Czech': 519,\n",
       " 'Dutch': 297,\n",
       " 'English': 3668,\n",
       " 'French': 277,\n",
       " 'German': 724,\n",
       " 'Greek': 203,\n",
       " 'Irish': 232,\n",
       " 'Italian': 709,\n",
       " 'Japanese': 991,\n",
       " 'Korean': 94,\n",
       " 'Polish': 139,\n",
       " 'Portuguese': 74,\n",
       " 'Russian': 9408,\n",
       " 'Scottish': 100,\n",
       " 'Spanish': 298,\n",
       " 'Vietnamese': 73}"
      ]
     },
     "execution_count": 11,
     "metadata": {},
     "output_type": "execute_result"
    }
   ],
   "source": [
    "# Category sizes\n",
    "{cat_name: len(cat) for cat_name, cat in name_data.items()}"
   ]
  },
  {
   "cell_type": "code",
   "execution_count": 12,
   "id": "00ab33df",
   "metadata": {
    "id": "00ab33df"
   },
   "outputs": [],
   "source": [
    "# convenience functions\n",
    "def build_name(name, fixed_length):\n",
    "    \"\"\"\n",
    "    Build a list of one-hot encoded vectors representing the given name string\n",
    "    \"\"\"\n",
    "    ret = [char_translator.elm_to_vec(char) for char in ([\"<SOS>\"] + list(name) + [\"<EOS>\"])]\n",
    "    \n",
    "    while len(ret) < fixed_length:\n",
    "        ret.append(char_translator.elm_to_vec(\"<EOS>\"))\n",
    "    \n",
    "    return ret\n",
    "\n",
    "def unbuild_name(t_chars):\n",
    "    \"\"\"\n",
    "    Inverse of build_name\n",
    "    \"\"\"\n",
    "    return \"\".join([char_translator.elm_from_vec(vec) for vec in t_chars])\n",
    "\n",
    "def build_category(category):\n",
    "    \"\"\"\n",
    "    Build a one-hot encoded vector representing the given category string\n",
    "    \"\"\"\n",
    "    return category_translator.elm_to_vec(category)\n",
    "\n",
    "def unbuild_category(vec):\n",
    "    \"\"\"\n",
    "    Inverse of build_category\n",
    "    \"\"\"\n",
    "    return category_translator.elm_from_vec(vec)"
   ]
  },
  {
   "cell_type": "code",
   "execution_count": 13,
   "id": "03438995",
   "metadata": {
    "id": "03438995"
   },
   "outputs": [],
   "source": [
    "# simple Dataset class wrapper around the above variables\n",
    "class NamesDataset(Dataset):\n",
    "    def __init__(self, max_length):\n",
    "        self.max_length = max_length\n",
    "        self._data_pairs = [(cat, name) for cat in name_data for name in name_data[cat]]\n",
    "    \n",
    "    def __len__(self):\n",
    "        return len(self._data_pairs)\n",
    "    \n",
    "    def __getitem__(self, index):\n",
    "        cat, name = self._data_pairs[index]\n",
    "        return build_category(cat), build_name(name, self.max_length)"
   ]
  },
  {
   "cell_type": "markdown",
   "id": "f16ef4cc",
   "metadata": {
    "id": "f16ef4cc"
   },
   "source": [
    "# Neural"
   ]
  },
  {
   "cell_type": "code",
   "execution_count": 14,
   "id": "898e2caf",
   "metadata": {
    "id": "898e2caf"
   },
   "outputs": [],
   "source": [
    "class SeqModel(nn.Module):\n",
    "    def __init__(self, prime_size, input_size):\n",
    "        super().__init__()\n",
    "        self.prime_size = prime_size\n",
    "        self.input_size = input_size\n",
    "        self.hidden_size = 60\n",
    "        \n",
    "        self.lstm = nn.LSTMCell(self.input_size + self.prime_size, self.hidden_size)\n",
    "        \n",
    "        # NB: output size = input size\n",
    "        self.fc = nn.Linear(self.hidden_size, self.input_size)\n",
    "        \n",
    "        self.dropout = nn.Dropout(0.1)\n",
    "        self.lsoftmax = nn.LogSoftmax(dim=1)\n",
    "        \n",
    "    def forward(self, t_prime, t_input, t_hidden, t_cell):\n",
    "        # t_prime:     batches of vectors for the LSTM to be primed on\n",
    "        #              shape: (N, prime_size)\n",
    "        #\n",
    "        # t_input:     shape: (N, input_size)\n",
    "        #              t_input[0]: one-hot vector encoding of a character\n",
    "        #\n",
    "        # t_hidden:    shape: (N, hidden_size)\n",
    "        #\n",
    "        # t_cell:      shape: (N, hidden_size)\n",
    "        \n",
    "        # lstm_input:  t_prime and t_input concated together\n",
    "        #              shape: (N, prime_size + input_size)\n",
    "        lstm_input = torch.cat((t_prime, t_input), dim=1)\n",
    "        t_hidden, t_cell = self.lstm(lstm_input.float(), (t_hidden, t_cell))\n",
    "        \n",
    "        # t_output:    shape: (N, input_size)\n",
    "        #              NB: t_output's shape = t_input's shape\n",
    "        t_output = self.fc(self.dropout(t_hidden))\n",
    "        t_output = self.lsoftmax(t_output)\n",
    "        \n",
    "        return t_output, t_hidden, t_cell\n",
    "    \n",
    "    def init_hidden(self, batch_size=1):\n",
    "        t_hidden = torch.zeros(batch_size, self.hidden_size)\n",
    "        t_cell = torch.zeros(batch_size, self.hidden_size)\n",
    "        \n",
    "        return t_hidden, t_cell"
   ]
  },
  {
   "cell_type": "code",
   "execution_count": 15,
   "id": "49c87a9c",
   "metadata": {
    "colab": {
     "base_uri": "https://localhost:8080/"
    },
    "id": "49c87a9c",
    "outputId": "7f3407b5-4f51-46c6-a02f-a5107f7afc02"
   },
   "outputs": [
    {
     "data": {
      "text/plain": [
       "SeqModel(\n",
       "  (lstm): LSTMCell(78, 60)\n",
       "  (fc): Linear(in_features=60, out_features=60, bias=True)\n",
       "  (dropout): Dropout(p=0.1, inplace=False)\n",
       "  (lsoftmax): LogSoftmax(dim=1)\n",
       ")"
      ]
     },
     "execution_count": 15,
     "metadata": {},
     "output_type": "execute_result"
    }
   ],
   "source": [
    "model = SeqModel(len(category_translator), len(char_translator))\n",
    "model.to(device)"
   ]
  },
  {
   "cell_type": "code",
   "execution_count": 16,
   "id": "a801687f",
   "metadata": {
    "id": "a801687f"
   },
   "outputs": [],
   "source": [
    "# test_category_index = 0\n",
    "\n",
    "# t_prime = category_translator[test_category_index].view(1, len(category_translator))\n",
    "# print(\"t_prime shape:\\t\", t_prime.shape)\n",
    "\n",
    "# t_input = char_translator[\"<SOS>\"].view(1, len(char_translator))\n",
    "# print(\"t_input shape:\\t\", t_input.shape)\n",
    "\n",
    "# t_hidden, t_cell = model.init_hidden(1)\n",
    "# print(\"t_hidden shape:\\t\", t_hidden.shape)\n",
    "# print(\"t_cell shape:\\t\", t_cell.shape)"
   ]
  },
  {
   "cell_type": "code",
   "execution_count": 17,
   "id": "e93534b0",
   "metadata": {
    "id": "e93534b0"
   },
   "outputs": [],
   "source": [
    "# t_output, t_hidden, t_cell = model.forward(t_prime, t_input, t_hidden, t_cell)\n",
    "# print(\"t_output shape:\\t\", t_output.shape)\n",
    "# print(\"t_hidden shape:\\t\", t_hidden.shape)\n",
    "# print(\"t_cell shape:\\t\", t_cell.shape)"
   ]
  },
  {
   "cell_type": "markdown",
   "id": "2fd89a54",
   "metadata": {
    "id": "2fd89a54"
   },
   "source": [
    "# Eval"
   ]
  },
  {
   "cell_type": "code",
   "execution_count": 18,
   "id": "c0ade28f",
   "metadata": {
    "id": "c0ade28f"
   },
   "outputs": [],
   "source": [
    "def generate(max_length, category_name=\"German\", N=3, ignore=True, temperature=1.0):\n",
    "    with torch.no_grad():\n",
    "        t_prime = category_translator[category_name].unsqueeze(0).repeat((N, 1)).to(device)\n",
    "        t_char = char_translator[\"<SOS>\"].unsqueeze(0).repeat((N, 1)).to(device)\n",
    "        t_hidden, t_cell = map(lambda x: x.to(device), model.init_hidden(N))\n",
    "\n",
    "        output_dict = collections.defaultdict(str)\n",
    "        done_set = []\n",
    "        for char_index in range(max_length):\n",
    "            t_output, t_hidden, t_cell = model(t_prime, t_char, t_hidden, t_cell)\n",
    "            \n",
    "            sel_chars = np.zeros((N, len(char_translator)))\n",
    "            for n in range(N):\n",
    "                if ignore and n in done_set:\n",
    "                    sel_chars[n] = char_translator.elm_to_vec(\"<EOS>\")\n",
    "                    continue\n",
    "                    \n",
    "                vec = t_output[n]\n",
    "                sel_index = random.choices(range(len(vec)), weights=torch.exp(vec / temperature))[0]\n",
    "                translated_char = char_translator.elements[sel_index]\n",
    "        \n",
    "                sel_chars[n] = np.eye(len(vec))[sel_index]\n",
    "    \n",
    "                if ignore and translated_char == \"<EOS>\":\n",
    "                    done_set.append(n)\n",
    "                    continue\n",
    "                    \n",
    "                output_dict[n] += translated_char\n",
    "            t_char = torch.tensor(sel_chars).to(device)\n",
    "        \n",
    "        return [output_dict[n] for n in range(N)]"
   ]
  },
  {
   "cell_type": "code",
   "execution_count": 19,
   "id": "f511a8be",
   "metadata": {},
   "outputs": [],
   "source": [
    "def generate_debug(max_length, gen_cats=None, temps=None):\n",
    "    if gen_cats is None:\n",
    "        gen_cats = category_translator.elements\n",
    "        \n",
    "    if temps is None:\n",
    "        temps = [(3*(x+1) - 1)/10 for x in range(4)]\n",
    "        \n",
    "    gen_string = \"\"\n",
    "    for gen_cat in gen_cats:\n",
    "        gen_string += \"{}:\\n{}\\n\".format(gen_cat, \"\\n\".join([\n",
    "            \"  t={}: {}\".format(t, \", \".join(generate(max_length, gen_cat, temperature=t)))\n",
    "            for t in temps\n",
    "        ]))\n",
    "    return gen_string"
   ]
  },
  {
   "cell_type": "markdown",
   "id": "5df83805",
   "metadata": {
    "id": "5df83805"
   },
   "source": [
    "# Training"
   ]
  },
  {
   "cell_type": "code",
   "execution_count": 20,
   "id": "f8d830b6",
   "metadata": {
    "colab": {
     "base_uri": "https://localhost:8080/"
    },
    "id": "f8d830b6",
    "outputId": "2fe2f825-e1ad-400b-bd73-a65660e1fb24"
   },
   "outputs": [
    {
     "name": "stdout",
     "output_type": "stream",
     "text": [
      "22\n"
     ]
    }
   ],
   "source": [
    "max_length = max([len(name) for name in itertools.chain(*name_data.values())]) + 2  # +2 for SOS and EOS\n",
    "print(max_length)"
   ]
  },
  {
   "cell_type": "code",
   "execution_count": 21,
   "id": "dc041adf",
   "metadata": {
    "colab": {
     "base_uri": "https://localhost:8080/"
    },
    "id": "dc041adf",
    "outputId": "c657d674-4aaa-4668-ba0a-38e2ca7a76a0"
   },
   "outputs": [
    {
     "name": "stdout",
     "output_type": "stream",
     "text": [
      "20074\n"
     ]
    }
   ],
   "source": [
    "sample_count = len(tuple(itertools.chain(*name_data.values())))\n",
    "print(sample_count)"
   ]
  },
  {
   "cell_type": "code",
   "execution_count": 30,
   "id": "1c2a2119",
   "metadata": {
    "id": "1c2a2119"
   },
   "outputs": [],
   "source": [
    "# config\n",
    "batch_size = 64\n",
    "num_epochs = 30\n",
    "# num_batches = math.ceil(sample_count/batch_size) * num_epochs\n",
    "learning_rate = 0.0003\n",
    "save_every = 50\n",
    "gen_every = 50\n",
    "plot_limit = None"
   ]
  },
  {
   "cell_type": "code",
   "execution_count": 23,
   "id": "141937b6",
   "metadata": {
    "id": "141937b6"
   },
   "outputs": [],
   "source": [
    "train_dataloader = DataLoader(NamesDataset(max_length), batch_size=batch_size, shuffle=True, collate_fn=lambda x: x)"
   ]
  },
  {
   "cell_type": "code",
   "execution_count": 24,
   "id": "a0f17cce",
   "metadata": {
    "id": "a0f17cce"
   },
   "outputs": [],
   "source": [
    "losses = collections.deque(maxlen=plot_limit)"
   ]
  },
  {
   "cell_type": "code",
   "execution_count": 25,
   "id": "1d66e2d1",
   "metadata": {
    "id": "1d66e2d1"
   },
   "outputs": [],
   "source": [
    "criterion = nn.NLLLoss()\n",
    "optimiser = optim.Adam(model.parameters(), lr=learning_rate, weight_decay=0.01)"
   ]
  },
  {
   "cell_type": "code",
   "execution_count": 26,
   "id": "3d645ca8",
   "metadata": {},
   "outputs": [],
   "source": [
    "save_path = Path(\"save/\")\n",
    "should_save = True\n",
    "model_name = \"test\""
   ]
  },
  {
   "cell_type": "code",
   "execution_count": 27,
   "id": "c067aa9b",
   "metadata": {},
   "outputs": [
    {
     "name": "stdout",
     "output_type": "stream",
     "text": [
      "No saved model!\n"
     ]
    }
   ],
   "source": [
    "model_path = None\n",
    "for model_path in sorted(save_path.rglob(model_name + \"*.pth\")):\n",
    "    print(\"Found: \", model_path)\n",
    "\n",
    "if model_path is not None:\n",
    "    model = torch.load(model_path, map_location=device)\n",
    "    model.to(device)\n",
    "    model.eval()\n",
    "    print(\"Loaded: \", model_path)\n",
    "else:\n",
    "    print(\"No saved model!\")"
   ]
  },
  {
   "cell_type": "code",
   "execution_count": 32,
   "id": "35f72d61",
   "metadata": {
    "colab": {
     "base_uri": "https://localhost:8080/",
     "height": 353
    },
    "id": "35f72d61",
    "outputId": "f57c7a85-3f30-4073-d11b-c1aa5c2fcdb3"
   },
   "outputs": [
    {
     "data": {
      "image/png": "[encoded data removed]",
      "text/plain": [
       "<Figure size 432x288 with 1 Axes>"
      ]
     },
     "metadata": {
      "needs_background": "light"
     },
     "output_type": "display_data"
    },
    {
     "name": "stdout",
     "output_type": "stream",
     "text": [
      "epoch: 5 batch_no: 313 loss: 0.870353\n",
      "Russian:\n",
      "  t=0.2: Bakanov, Sharov, Aranin\n",
      "  t=0.5: Banilev, Malovegin, Bakanev\n",
      "  t=0.8: Chalinin, Sleld, Rocheriv\n",
      "  t=1.1: JanavShv, Vijagrazim, Tlyunov\n",
      "German:\n",
      "  t=0.2: Sharer, Maren, Manen\n",
      "  t=0.5: Man, Taret, Ronen\n",
      "  t=0.8: FAnin, Tultil, Kargda\n",
      "  t=1.1: Btaateyf, Dweot, Qdiltrenin\n",
      "Spanish:\n",
      "  t=0.2: Arara, Arara, Salela\n",
      "  t=0.5: Pani, Ralain, Aarera\n",
      "  t=0.8: Ganady, Hautmie, Jalan\n",
      "  t=1.1: Juzeee, Sramojrer, X reno\n",
      "Chinese:\n",
      "  t=0.2: Kor, Kan, Mor\n",
      "  t=0.5: Barz, Man, Patn\n",
      "  t=0.8: Arz, Tuso, Gacin\n",
      "  t=1.1: Rokky, Vait, Mop\n",
      "\n"
     ]
    }
   ],
   "source": [
    "gen_string = \"\"\n",
    "gen_cats = [\"Russian\", \"German\", \"Spanish\", \"Chinese\"]\n",
    "\n",
    "for epoch_no in range(num_epochs):\n",
    "    for batch_no, batch in enumerate(train_dataloader):\n",
    "        t_prime = torch.stack([sample[0] for sample in batch]).to(device)\n",
    "        t_hidden, t_cell = map(lambda x: x.to(device), model.init_hidden(t_prime.size(0)))\n",
    "\n",
    "        model.zero_grad()\n",
    "        loss = 0\n",
    "        for char_index in range(max_length - 1):\n",
    "            t_char = torch.stack([sample[1][char_index] for sample in batch]).to(device)\n",
    "            t_output, t_hidden, t_cell = model(t_prime, t_char, t_hidden, t_cell)\n",
    "\n",
    "            t_target = torch.stack([sample[1][char_index + 1].argmax() for sample in batch]).to(device)\n",
    "            loss += criterion(t_output, t_target)\n",
    "\n",
    "        loss.backward()\n",
    "        optimiser.step()\n",
    "\n",
    "        name_loss = loss.item() / (max_length - 1)\n",
    "        losses.append(name_loss)\n",
    "\n",
    "        plt.figure()\n",
    "        plt.plot(losses, scalex=True)\n",
    "        plt.title(\"Loss\")\n",
    "        plt.grid(True)\n",
    "        plt.show()\n",
    "        \n",
    "        if batch_no % gen_every == 0:\n",
    "            gen_string = generate_debug(max_length, gen_cats)\n",
    "\n",
    "        print(\"epoch: {} batch_no: {} loss: {:.06f}\\n{}\".format(\n",
    "            epoch_no, \n",
    "            batch_no, \n",
    "            name_loss,\n",
    "            gen_string\n",
    "        ))\n",
    "        clear_output(wait=True)\n",
    "        \n",
    "        if should_save:\n",
    "            if batch_no % save_every == 0:\n",
    "                timestamp = int(time.time()/10000)\n",
    "                torch.save(model, save_path / \"{}_{}.pth\".format(model_name, timestamp))\n",
    "                torch.save(model.state_dict(), save_path / \"{}_{}.pt\".format(model_name, timestamp))           \n",
    "        "
   ]
  },
  {
   "cell_type": "markdown",
   "id": "cdfff6c5",
   "metadata": {
    "id": "cdfff6c5"
   },
   "source": [
    "# Post-Training Eval"
   ]
  },
  {
   "cell_type": "code",
   "execution_count": 33,
   "id": "09b92b6c",
   "metadata": {
    "id": "09b92b6c",
    "outputId": "1197e2bf-f51f-4a6f-d0f5-d5f27f643e5c"
   },
   "outputs": [
    {
     "name": "stdout",
     "output_type": "stream",
     "text": [
      "Arabic:\n",
      "  t=0.2: Sari, Maras, Araha\n",
      "  t=0.5: Sazo, Shalan, Namau\n",
      "  t=0.8: Okunba, Capa, Gadin\n",
      "  t=1.1: HWeoch, Nancy, Pderoa\n",
      "Chinese:\n",
      "  t=0.2: Man, Ara, Ban\n",
      "  t=0.5: Kari, Balo, Jir\n",
      "  t=0.8: Eose, chao, V'ee\n",
      "  t=1.1: raga, Puzal, Hairf\n",
      "Czech:\n",
      "  t=0.2: Manin, Jarus, Arer\n",
      "  t=0.5: Syakin, Sela, Hobotj\n",
      "  t=0.8: Tatroy, Bela, Allali\n",
      "  t=1.1: Praje, Womekim, Nundakd\n",
      "Dutch:\n",
      "  t=0.2: Barsov, Balen, Arin\n",
      "  t=0.5: Jaskan, Bater, Valce\n",
      "  t=0.8: Lern, Clal, Hoals\n",
      "  t=1.1: oorrta, Wimelebcf, RenWea\n",
      "English:\n",
      "  t=0.2: Mars, Aron, Arrer\n",
      "  t=0.5: Shargof, Palenco, Chalel\n",
      "  t=0.8: Batnpon, vonkrstcen, Teed\n",
      "  t=1.1: Yorhu, Wuzar, Lifheky\n",
      "French:\n",
      "  t=0.2: Malan, Barer, Marer\n",
      "  t=0.5: Baliri, Seroer, Sarer\n",
      "  t=0.8: Yaelare, PBanels, Ianin\n",
      "  t=1.1: , sbaga, GAnwiy\n",
      "German:\n",
      "  t=0.2: Marler, Shant, Sarov\n",
      "  t=0.5: Pan, Antin, Sheren\n",
      "  t=0.8: Panlas, Ternon, Srnchen\n",
      "  t=1.1: Tsrzar, Rraf, Elake\n",
      "Greek:\n",
      "  t=0.2: Baratarov, Araki, Bakaran\n",
      "  t=0.5: Tadoni, Anreorna, Salano\n",
      "  t=0.8: Etreriiho, Zgaeke, Shiel\n",
      "  t=1.1: Tkamefeat, ,nanaetou, Iuitabopha\n",
      "Irish:\n",
      "  t=0.2: Barin, Barer, Sharan\n",
      "  t=0.5: Perrer, Alerug, Balien\n",
      "  t=0.8: Alnoon, Rabse, Saleran\n",
      "  t=1.1: Uhodebs, Injihn, Gmuigbe\n",
      "Italian:\n",
      "  t=0.2: Barer, Daroni, Arin\n",
      "  t=0.5: Vanele, Darino, Perinelo\n",
      "  t=0.8: Kleonito, Yiri, Suartan\n",
      "  t=1.1: Alhaslon, Rer orel, Kiterrr\n",
      "Japanese:\n",
      "  t=0.2: Haran, Matoa, Manai\n",
      "  t=0.5: Darada, Arsada, Aramada\n",
      "  t=0.8: Pimagsabhi, Tzipi, Nuonor\n",
      "  t=1.1: , Srmama, Hroid\n",
      "Korean:\n",
      "  t=0.2: Bar, Tov, Shan\n",
      "  t=0.5: Pask, Tum, Hal\n",
      "  t=0.8: Ber, Aer, Anan\n",
      "  t=1.1: NMwapat, MhNkh, Vesglin\n",
      "Polish:\n",
      "  t=0.2: Arin, Shalan, Barin\n",
      "  t=0.5: Gorlan, arkos, Watik\n",
      "  t=0.8: Dalhewoityy, Laurimi, Sumab\n",
      "  t=1.1: DaXrokko, JxnZh, AHlonechv\n",
      "Portuguese:\n",
      "  t=0.2: Sharan, Salara, Arin\n",
      "  t=0.5: Shareni, Lupada, Malor\n",
      "  t=0.8: Jalrin, Zctanil, Gura\n",
      "  t=1.1: Iujarp, Lsa, Bhnras\n",
      "Russian:\n",
      "  t=0.2: Talanov, Arovan, Takov\n",
      "  t=0.5: Damakskov, Sakarov, Balalev\n",
      "  t=0.8: Gilkanv, Ggarokan, Bagaov\n",
      "  t=1.1: Psalofv, Grarinhov, Horscha\n",
      "Scottish:\n",
      "  t=0.2: Baen, Aran, Alin\n",
      "  t=0.5: Aleran, Momden, Balon\n",
      "  t=0.8: Tbbaen, Mndetfec, Tsurila\n",
      "  t=1.1: arebf, , Yhovebn\n",
      "Spanish:\n",
      "  t=0.2: Sariten, Baran, Maran\n",
      "  t=0.5: Areron, Abreor, Ginene\n",
      "  t=0.8: Dalien, Gamiki, Namralin\n",
      "  t=1.1: Lomiy, Kanld, alia\n",
      "Vietnamese:\n",
      "  t=0.2: Aran, Shan, Tan\n",
      "  t=0.5: Anog, Shof, Ouf\n",
      "  t=0.8: Abou, AtRa, shoin\n",
      "  t=1.1: Werhin, Lallanu, A\n",
      "\n"
     ]
    }
   ],
   "source": [
    "print(generate_debug(max_length))"
   ]
  },
  {
   "cell_type": "code",
   "execution_count": null,
   "id": "b011715e",
   "metadata": {},
   "outputs": [],
   "source": []
  }
 ],
 "metadata": {
  "accelerator": "GPU",
  "colab": {
   "collapsed_sections": [],
   "name": "namegen (3).ipynb",
   "provenance": []
  },
  "kernelspec": {
   "display_name": "Python 3",
   "language": "python",
   "name": "python3"
  },
  "language_info": {
   "codemirror_mode": {
    "name": "ipython",
    "version": 3
   },
   "file_extension": ".py",
   "mimetype": "text/x-python",
   "name": "python",
   "nbconvert_exporter": "python",
   "pygments_lexer": "ipython3",
   "version": "3.9.5"
  }
 },
 "nbformat": 4,
 "nbformat_minor": 5
}
