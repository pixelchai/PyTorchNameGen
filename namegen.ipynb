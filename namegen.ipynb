{
 "cells": [
  {
   "cell_type": "code",
   "execution_count": 79,
   "id": "04929d6d",
   "metadata": {},
   "outputs": [],
   "source": [
    "import torch\n",
    "from torch import nn\n",
    "import torch.nn.functional as F\n",
    "\n",
    "import string\n",
    "import unicodedata\n",
    "from pathlib import Path"
   ]
  },
  {
   "cell_type": "markdown",
   "id": "bc9ea473",
   "metadata": {},
   "source": [
    "# Loading Data"
   ]
  },
  {
   "cell_type": "code",
   "execution_count": 47,
   "id": "4a3f89e0",
   "metadata": {},
   "outputs": [],
   "source": [
    "# name data from: https://download.pytorch.org/tutorial/data.zip"
   ]
  },
  {
   "cell_type": "code",
   "execution_count": 106,
   "id": "58f715cb",
   "metadata": {},
   "outputs": [
    {
     "data": {
      "text/plain": [
       "\"abcdefghijklmnopqrstuvwxyzABCDEFGHIJKLMNOPQRSTUVWXYZ .,;'-\""
      ]
     },
     "execution_count": 106,
     "metadata": {},
     "output_type": "execute_result"
    }
   ],
   "source": [
    "all_chars = string.ascii_letters + \" .,;'-\"\n",
    "all_chars"
   ]
  },
  {
   "cell_type": "code",
   "execution_count": 107,
   "id": "4f714973",
   "metadata": {},
   "outputs": [],
   "source": [
    "def sanitise_line(line):\n",
    "    # https://stackoverflow.com/a/518232/5013267\n",
    "    return ''.join(\n",
    "        c for c in unicodedata.normalize('NFD', line)\n",
    "        if unicodedata.category(c) != 'Mn'\n",
    "        and c in all_chars\n",
    "    )"
   ]
  },
  {
   "cell_type": "code",
   "execution_count": 108,
   "id": "1de6fdc8",
   "metadata": {},
   "outputs": [
    {
     "name": "stdout",
     "output_type": "stream",
     "text": [
      "Loaded: names/Arabic.txt\n",
      "Loaded: names/Chinese.txt\n",
      "Loaded: names/Czech.txt\n",
      "Loaded: names/Dutch.txt\n",
      "Loaded: names/English.txt\n",
      "Loaded: names/French.txt\n",
      "Loaded: names/German.txt\n",
      "Loaded: names/Greek.txt\n",
      "Loaded: names/Irish.txt\n",
      "Loaded: names/Italian.txt\n",
      "Loaded: names/Japanese.txt\n",
      "Loaded: names/Korean.txt\n",
      "Loaded: names/Polish.txt\n",
      "Loaded: names/Portuguese.txt\n",
      "Loaded: names/Russian.txt\n",
      "Loaded: names/Scottish.txt\n",
      "Loaded: names/Spanish.txt\n",
      "Loaded: names/Vietnamese.txt\n"
     ]
    }
   ],
   "source": [
    "name_data = {}\n",
    "for path in Path(\"names\").rglob(\"*.txt\"):\n",
    "    with open(path, \"r\", encoding=\"utf8\") as f:\n",
    "        names = []\n",
    "        for line in f.read().strip().split(\"\\n\"):\n",
    "            names.append(sanitise_line(line))\n",
    "        name_data[path.stem] = names\n",
    "    \n",
    "    print(f\"Loaded: {path}\")"
   ]
  },
  {
   "cell_type": "markdown",
   "id": "9edd4402",
   "metadata": {},
   "source": [
    "# Data Preparation"
   ]
  },
  {
   "cell_type": "code",
   "execution_count": 175,
   "id": "98347c41",
   "metadata": {},
   "outputs": [],
   "source": [
    "class OneHotTranslator:\n",
    "    def __init__(self, elements):\n",
    "        self.elements = elements\n",
    "        self.n_elements = len(self.elements)\n",
    "        \n",
    "    def index_to_vec(self, index):\n",
    "        return F.one_hot(torch.tensor([index]), num_classes=self.n_elements)[0]\n",
    "    \n",
    "    def index_from_vec(self, vec):\n",
    "        return vec.argmax()\n",
    "    \n",
    "    def elm_to_vec(self, elm):\n",
    "        return self.index_to_vec(self.elements.index(elm))\n",
    "    \n",
    "    def elm_from_vec(self, vec):\n",
    "        return self.elements[int(self.index_from_vec(vec))]\n",
    "    \n",
    "    def __len__(self):\n",
    "        return self.n_elements\n",
    "    \n",
    "    def __getitem__(self, val):\n",
    "        if isinstance(val, int):\n",
    "            return self.index_to_vec(val)\n",
    "        else:\n",
    "            return self.elm_to_vec(val)"
   ]
  },
  {
   "cell_type": "code",
   "execution_count": 176,
   "id": "a2e3bd52",
   "metadata": {},
   "outputs": [
    {
     "name": "stdout",
     "output_type": "stream",
     "text": [
      "('Arabic', 'Chinese', 'Czech', 'Dutch', 'English', 'French', 'German', 'Greek', 'Irish', 'Italian', 'Japanese', 'Korean', 'Polish', 'Portuguese', 'Russian', 'Scottish', 'Spanish', 'Vietnamese')\n"
     ]
    }
   ],
   "source": [
    "category_translator = OneHotTranslator(tuple(name_data.keys()))\n",
    "print(category_translator.elements)"
   ]
  },
  {
   "cell_type": "code",
   "execution_count": 179,
   "id": "5d56c453",
   "metadata": {},
   "outputs": [
    {
     "name": "stdout",
     "output_type": "stream",
     "text": [
      "['<SOS>', '<EOS>', 'a', 'b', 'c', 'd', 'e', 'f', 'g', 'h', 'i', 'j', 'k', 'l', 'm', 'n', 'o', 'p', 'q', 'r', 's', 't', 'u', 'v', 'w', 'x', 'y', 'z', 'A', 'B', 'C', 'D', 'E', 'F', 'G', 'H', 'I', 'J', 'K', 'L', 'M', 'N', 'O', 'P', 'Q', 'R', 'S', 'T', 'U', 'V', 'W', 'X', 'Y', 'Z', ' ', '.', ',', ';', \"'\", '-']\n"
     ]
    }
   ],
   "source": [
    "char_translator = OneHotTranslator([\"<SOS>\", \"<EOS>\"] + list(all_chars))\n",
    "print(char_translator.elements)"
   ]
  },
  {
   "cell_type": "markdown",
   "id": "0d439c1a",
   "metadata": {},
   "source": [
    "# Neural"
   ]
  },
  {
   "cell_type": "code",
   "execution_count": 192,
   "id": "2af2ef4e",
   "metadata": {},
   "outputs": [],
   "source": [
    "class SeqModel(nn.Module):\n",
    "    def __init__(self, input_size, hidden_size, output_size):\n",
    "        super().__init__()\n",
    "        \n",
    "        self.input_size = input_size\n",
    "        self.hidden_size = hidden_size\n",
    "        self.output_size = output_size\n",
    "        \n",
    "        self.lstm = nn.LSTMCell(input_size, hidden_size)\n",
    "        self.fc = nn.Linear(hidden_size, output_size)\n",
    "        self.dropout = nn.Dropout(0.05)\n",
    "        self.softmax = nn.LogSoftmax(dim=1)\n",
    "        \n",
    "    def forward(self, t_prime, t_input, t_hidden, t_cell):\n",
    "        # t_prime: tensor of batches of vectors for the LSTM to be primed on\n",
    "        #          shape: (seq_len, N, -)\n",
    "        #          in this case (priming the LSTM on a category):\n",
    "        #              shape: (1, N, n_categories)\n",
    "        #              t_prime[0][0]: one-hot vector encoding a category\n",
    "        #\n",
    "        # t_input: shape: (1, N, hidden_size)\n",
    "        #          t_input[0][0]: one-hot vector encoding of a character\n",
    "        #\n",
    "        # t_hidden: shape: (N, hidden_size)\n",
    "        # t_cell: shape: (N, hidden_size)\n",
    "        pass\n",
    "    \n",
    "    def init_hidden(self, batch_size):\n",
    "        t_hidden = torch.randn(batch_size, self.hidden_size)\n",
    "        t_cell = torch.zeros(batch_size, self.hidden_size)\n",
    "        \n",
    "        return t_hidden, t_cell"
   ]
  },
  {
   "cell_type": "code",
   "execution_count": 193,
   "id": "820a2915",
   "metadata": {},
   "outputs": [],
   "source": [
    "seq = SeqModel(len(char_translator), 32, len(char_translator))"
   ]
  },
  {
   "cell_type": "code",
   "execution_count": 197,
   "id": "3178ca1e",
   "metadata": {},
   "outputs": [
    {
     "name": "stdout",
     "output_type": "stream",
     "text": [
      "t_prime shape:\t torch.Size([1, 1, 18])\n",
      "t_input shape:\t torch.Size([1, 1, 60])\n",
      "t_hidden shape:\t torch.Size([1, 32])\n",
      "t_cell shape:\t torch.Size([1, 32])\n"
     ]
    }
   ],
   "source": [
    "test_category_index = 0\n",
    "\n",
    "t_prime = category_translator[test_category_index].view((1, 1, len(category_translator)))\n",
    "print(\"t_prime shape:\\t\", t_prime.shape)\n",
    "\n",
    "t_input = char_translator[\"<SOS>\"].view((1, 1, len(char_translator)))\n",
    "print(\"t_input shape:\\t\", t_input.shape)\n",
    "\n",
    "t_hidden, t_cell = seq.init_hidden(1)\n",
    "print(\"t_hidden shape:\\t\", t_hidden.shape)\n",
    "print(\"t_cell shape:\\t\", t_cell.shape)"
   ]
  },
  {
   "cell_type": "code",
   "execution_count": null,
   "id": "68a1deb1",
   "metadata": {},
   "outputs": [],
   "source": []
  }
 ],
 "metadata": {
  "kernelspec": {
   "display_name": "Python 3",
   "language": "python",
   "name": "python3"
  },
  "language_info": {
   "codemirror_mode": {
    "name": "ipython",
    "version": 3
   },
   "file_extension": ".py",
   "mimetype": "text/x-python",
   "name": "python",
   "nbconvert_exporter": "python",
   "pygments_lexer": "ipython3",
   "version": "3.9.5"
  }
 },
 "nbformat": 4,
 "nbformat_minor": 5
}
